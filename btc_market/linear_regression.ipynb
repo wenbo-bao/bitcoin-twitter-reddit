{
 "cells": [
  {
   "cell_type": "code",
   "execution_count": 1,
   "id": "initial_id",
   "metadata": {
    "collapsed": true,
    "ExecuteTime": {
     "end_time": "2023-12-16T03:35:10.647343Z",
     "start_time": "2023-12-16T03:35:03.183058Z"
    }
   },
   "outputs": [],
   "source": [
    "import datetime\n",
    "import pandas as pd\n",
    "import matplotlib.pyplot as plt\n",
    "import numpy as np\n",
    "import statsmodels.api as sm\n",
    "df = pd.read_csv('bitcoin_filtered.csv')\n",
    "ir_df = pd.read_csv('10y_IR.csv')\n",
    "\n",
    "df1 = df.set_index('date').join(ir_df[['Date', 'Adj Close']].set_index('Date'), \n",
    "                               how='left', rsuffix='_ir')\n",
    "df1.ffill(inplace=True)\n",
    "df1['rf_rate'] = df1['Adj Close']/100\n",
    "df1.drop('Adj Close', axis=1, inplace=True)\n",
    "df1['momentum'] = np.log(1+df1.ret).rolling(12).sum()"
   ]
  },
  {
   "cell_type": "code",
   "execution_count": 2,
   "outputs": [],
   "source": [
    "df1['vol_factor'] = df1['volatility'] - df1['volatility'].shift(-1)\n",
    "df1['volume_factor'] = df1['btc_volume']-df1['btc_volume'].rolling(7).mean()"
   ],
   "metadata": {
    "collapsed": false,
    "ExecuteTime": {
     "end_time": "2023-12-16T03:35:12.805665Z",
     "start_time": "2023-12-16T03:35:12.798847Z"
    }
   },
   "id": "51e658af47056687"
  },
  {
   "cell_type": "code",
   "execution_count": 3,
   "outputs": [],
   "source": [
    "ioo_df = pd.read_csv('IOO.csv')\n",
    "ioo_df['ret'] = ioo_df['Adj Close'].pct_change()\n",
    "df1['ioo_ret'] = ioo_df.set_index('Date')['ret']"
   ],
   "metadata": {
    "collapsed": false,
    "ExecuteTime": {
     "end_time": "2023-12-16T03:35:15.018123Z",
     "start_time": "2023-12-16T03:35:15.010548Z"
    }
   },
   "id": "166e2675497fbe15"
  },
  {
   "cell_type": "code",
   "execution_count": 4,
   "outputs": [],
   "source": [
    "data = df1[['ret', 'volatility', 'momentum', 'vol_factor', 'volume_factor', 'ioo_ret', 'rf_rate']].copy()\n",
    "data['ioo_ret'].ffill(inplace=True)\n",
    "data['rf_rate'].ffill(inplace=True)\n",
    "data['market_factor'] = data['ioo_ret'] - data['rf_rate']\n",
    "data.dropna(inplace=True)"
   ],
   "metadata": {
    "collapsed": false,
    "ExecuteTime": {
     "end_time": "2023-12-16T03:35:16.851399Z",
     "start_time": "2023-12-16T03:35:16.845413Z"
    }
   },
   "id": "c4d3e4e27eeedf85"
  },
  {
   "cell_type": "code",
   "execution_count": 5,
   "outputs": [],
   "source": [
    "data[['ret', 'momentum', 'vol_factor', 'volume_factor','market_factor']].to_csv('ts_data.csv')"
   ],
   "metadata": {
    "collapsed": false,
    "ExecuteTime": {
     "end_time": "2023-12-16T03:35:17.846181Z",
     "start_time": "2023-12-16T03:35:17.825714Z"
    }
   },
   "id": "56ea8ec899506069"
  },
  {
   "cell_type": "code",
   "execution_count": 6,
   "outputs": [
    {
     "data": {
      "text/plain": "                 ret  volatility  momentum  vol_factor  volume_factor  \\\ndate                                                                    \n2016-01-12 -0.029353    0.000910  0.009148   -0.000208   -1454.940328   \n2016-01-13 -0.005082    0.001117 -0.002724    0.000416    1206.122598   \n2016-01-14 -0.007060    0.000702 -0.008782   -0.001558   -2360.948100   \n2016-01-15 -0.161983    0.002260 -0.180097    0.000192   26010.648049   \n2016-01-16  0.074750    0.002068 -0.115244    0.000677   11661.408502   \n...              ...         ...       ...         ...            ...   \n2019-04-26  0.004411    0.000956 -0.001460    0.000408    6306.335564   \n2019-04-27  0.002661    0.000548  0.027777    0.000030   -4711.508900   \n2019-04-28 -0.001534    0.000517 -0.007999   -0.000116   -4695.631618   \n2019-04-29 -0.002300    0.000634 -0.016298    0.000039   -2723.048777   \n2019-04-30  0.023284    0.000594 -0.002228    0.000124   -2751.512010   \n\n             ioo_ret  rf_rate  market_factor  \ndate                                          \n2016-01-12  0.007199  0.02102      -0.013821  \n2016-01-13 -0.018670  0.02066      -0.039330  \n2016-01-14  0.019025  0.02098      -0.001955  \n2016-01-15 -0.029901  0.02033      -0.050231  \n2016-01-16 -0.029901  0.02033      -0.050231  \n...              ...      ...            ...  \n2019-04-26  0.002442  0.02505      -0.022608  \n2019-04-27  0.002442  0.02505      -0.022608  \n2019-04-28  0.002442  0.02505      -0.022608  \n2019-04-29  0.002639  0.02536      -0.022721  \n2019-04-30  0.001215  0.02509      -0.023875  \n\n[1205 rows x 8 columns]",
      "text/html": "<div>\n<style scoped>\n    .dataframe tbody tr th:only-of-type {\n        vertical-align: middle;\n    }\n\n    .dataframe tbody tr th {\n        vertical-align: top;\n    }\n\n    .dataframe thead th {\n        text-align: right;\n    }\n</style>\n<table border=\"1\" class=\"dataframe\">\n  <thead>\n    <tr style=\"text-align: right;\">\n      <th></th>\n      <th>ret</th>\n      <th>volatility</th>\n      <th>momentum</th>\n      <th>vol_factor</th>\n      <th>volume_factor</th>\n      <th>ioo_ret</th>\n      <th>rf_rate</th>\n      <th>market_factor</th>\n    </tr>\n    <tr>\n      <th>date</th>\n      <th></th>\n      <th></th>\n      <th></th>\n      <th></th>\n      <th></th>\n      <th></th>\n      <th></th>\n      <th></th>\n    </tr>\n  </thead>\n  <tbody>\n    <tr>\n      <th>2016-01-12</th>\n      <td>-0.029353</td>\n      <td>0.000910</td>\n      <td>0.009148</td>\n      <td>-0.000208</td>\n      <td>-1454.940328</td>\n      <td>0.007199</td>\n      <td>0.02102</td>\n      <td>-0.013821</td>\n    </tr>\n    <tr>\n      <th>2016-01-13</th>\n      <td>-0.005082</td>\n      <td>0.001117</td>\n      <td>-0.002724</td>\n      <td>0.000416</td>\n      <td>1206.122598</td>\n      <td>-0.018670</td>\n      <td>0.02066</td>\n      <td>-0.039330</td>\n    </tr>\n    <tr>\n      <th>2016-01-14</th>\n      <td>-0.007060</td>\n      <td>0.000702</td>\n      <td>-0.008782</td>\n      <td>-0.001558</td>\n      <td>-2360.948100</td>\n      <td>0.019025</td>\n      <td>0.02098</td>\n      <td>-0.001955</td>\n    </tr>\n    <tr>\n      <th>2016-01-15</th>\n      <td>-0.161983</td>\n      <td>0.002260</td>\n      <td>-0.180097</td>\n      <td>0.000192</td>\n      <td>26010.648049</td>\n      <td>-0.029901</td>\n      <td>0.02033</td>\n      <td>-0.050231</td>\n    </tr>\n    <tr>\n      <th>2016-01-16</th>\n      <td>0.074750</td>\n      <td>0.002068</td>\n      <td>-0.115244</td>\n      <td>0.000677</td>\n      <td>11661.408502</td>\n      <td>-0.029901</td>\n      <td>0.02033</td>\n      <td>-0.050231</td>\n    </tr>\n    <tr>\n      <th>...</th>\n      <td>...</td>\n      <td>...</td>\n      <td>...</td>\n      <td>...</td>\n      <td>...</td>\n      <td>...</td>\n      <td>...</td>\n      <td>...</td>\n    </tr>\n    <tr>\n      <th>2019-04-26</th>\n      <td>0.004411</td>\n      <td>0.000956</td>\n      <td>-0.001460</td>\n      <td>0.000408</td>\n      <td>6306.335564</td>\n      <td>0.002442</td>\n      <td>0.02505</td>\n      <td>-0.022608</td>\n    </tr>\n    <tr>\n      <th>2019-04-27</th>\n      <td>0.002661</td>\n      <td>0.000548</td>\n      <td>0.027777</td>\n      <td>0.000030</td>\n      <td>-4711.508900</td>\n      <td>0.002442</td>\n      <td>0.02505</td>\n      <td>-0.022608</td>\n    </tr>\n    <tr>\n      <th>2019-04-28</th>\n      <td>-0.001534</td>\n      <td>0.000517</td>\n      <td>-0.007999</td>\n      <td>-0.000116</td>\n      <td>-4695.631618</td>\n      <td>0.002442</td>\n      <td>0.02505</td>\n      <td>-0.022608</td>\n    </tr>\n    <tr>\n      <th>2019-04-29</th>\n      <td>-0.002300</td>\n      <td>0.000634</td>\n      <td>-0.016298</td>\n      <td>0.000039</td>\n      <td>-2723.048777</td>\n      <td>0.002639</td>\n      <td>0.02536</td>\n      <td>-0.022721</td>\n    </tr>\n    <tr>\n      <th>2019-04-30</th>\n      <td>0.023284</td>\n      <td>0.000594</td>\n      <td>-0.002228</td>\n      <td>0.000124</td>\n      <td>-2751.512010</td>\n      <td>0.001215</td>\n      <td>0.02509</td>\n      <td>-0.023875</td>\n    </tr>\n  </tbody>\n</table>\n<p>1205 rows × 8 columns</p>\n</div>"
     },
     "execution_count": 6,
     "metadata": {},
     "output_type": "execute_result"
    }
   ],
   "source": [
    "data"
   ],
   "metadata": {
    "collapsed": false,
    "ExecuteTime": {
     "end_time": "2023-12-16T03:35:19.012761Z",
     "start_time": "2023-12-16T03:35:18.993142Z"
    }
   },
   "id": "41211d29a839b2d"
  },
  {
   "cell_type": "code",
   "execution_count": 7,
   "outputs": [
    {
     "data": {
      "text/plain": "                 pos       neg  neu  sentiment\ndate                                          \n2017-01-01  0.283000  0.000000    2   1.000000\n2017-01-02  0.165000  0.164250    4   0.002278\n2017-01-03  0.225600  0.000000    5   1.000000\n2017-01-04  0.218000  0.059000    2   0.574007\n2017-01-05  0.212500  0.044500    4   0.653696\n...              ...       ...  ...        ...\n2019-04-27  0.144538  0.026067  119   0.694414\n2019-04-28  0.140233  0.041628   86   0.542199\n2019-04-29  0.148932  0.040000  147   0.576567\n2019-04-30  0.158429  0.033173  133   0.653730\n2019-05-01  0.132745  0.037438  137   0.560026\n\n[839 rows x 4 columns]",
      "text/html": "<div>\n<style scoped>\n    .dataframe tbody tr th:only-of-type {\n        vertical-align: middle;\n    }\n\n    .dataframe tbody tr th {\n        vertical-align: top;\n    }\n\n    .dataframe thead th {\n        text-align: right;\n    }\n</style>\n<table border=\"1\" class=\"dataframe\">\n  <thead>\n    <tr style=\"text-align: right;\">\n      <th></th>\n      <th>pos</th>\n      <th>neg</th>\n      <th>neu</th>\n      <th>sentiment</th>\n    </tr>\n    <tr>\n      <th>date</th>\n      <th></th>\n      <th></th>\n      <th></th>\n      <th></th>\n    </tr>\n  </thead>\n  <tbody>\n    <tr>\n      <th>2017-01-01</th>\n      <td>0.283000</td>\n      <td>0.000000</td>\n      <td>2</td>\n      <td>1.000000</td>\n    </tr>\n    <tr>\n      <th>2017-01-02</th>\n      <td>0.165000</td>\n      <td>0.164250</td>\n      <td>4</td>\n      <td>0.002278</td>\n    </tr>\n    <tr>\n      <th>2017-01-03</th>\n      <td>0.225600</td>\n      <td>0.000000</td>\n      <td>5</td>\n      <td>1.000000</td>\n    </tr>\n    <tr>\n      <th>2017-01-04</th>\n      <td>0.218000</td>\n      <td>0.059000</td>\n      <td>2</td>\n      <td>0.574007</td>\n    </tr>\n    <tr>\n      <th>2017-01-05</th>\n      <td>0.212500</td>\n      <td>0.044500</td>\n      <td>4</td>\n      <td>0.653696</td>\n    </tr>\n    <tr>\n      <th>...</th>\n      <td>...</td>\n      <td>...</td>\n      <td>...</td>\n      <td>...</td>\n    </tr>\n    <tr>\n      <th>2019-04-27</th>\n      <td>0.144538</td>\n      <td>0.026067</td>\n      <td>119</td>\n      <td>0.694414</td>\n    </tr>\n    <tr>\n      <th>2019-04-28</th>\n      <td>0.140233</td>\n      <td>0.041628</td>\n      <td>86</td>\n      <td>0.542199</td>\n    </tr>\n    <tr>\n      <th>2019-04-29</th>\n      <td>0.148932</td>\n      <td>0.040000</td>\n      <td>147</td>\n      <td>0.576567</td>\n    </tr>\n    <tr>\n      <th>2019-04-30</th>\n      <td>0.158429</td>\n      <td>0.033173</td>\n      <td>133</td>\n      <td>0.653730</td>\n    </tr>\n    <tr>\n      <th>2019-05-01</th>\n      <td>0.132745</td>\n      <td>0.037438</td>\n      <td>137</td>\n      <td>0.560026</td>\n    </tr>\n  </tbody>\n</table>\n<p>839 rows × 4 columns</p>\n</div>"
     },
     "execution_count": 7,
     "metadata": {},
     "output_type": "execute_result"
    }
   ],
   "source": [
    "tw_df = pd.read_csv('twitter.csv')\n",
    "tw = tw_df.groupby('date').agg({'pos': 'mean', 'neg': 'mean', 'neu': 'count'})\n",
    "tw['sentiment'] = 2 * (tw['pos']/(tw['pos']+tw['neg']) - 0.5)\n",
    "tw.sort_index()"
   ],
   "metadata": {
    "collapsed": false,
    "ExecuteTime": {
     "end_time": "2023-12-16T03:35:21.955279Z",
     "start_time": "2023-12-16T03:35:21.918962Z"
    }
   },
   "id": "64771c40d43b62f1"
  },
  {
   "cell_type": "code",
   "execution_count": 8,
   "outputs": [
    {
     "data": {
      "text/plain": "0.1415755006010707"
     },
     "execution_count": 8,
     "metadata": {},
     "output_type": "execute_result"
    }
   ],
   "source": [
    "tw['neu'].corr(df1['usd_volume'])"
   ],
   "metadata": {
    "collapsed": false,
    "ExecuteTime": {
     "end_time": "2023-12-16T03:35:24.863380Z",
     "start_time": "2023-12-16T03:35:24.859663Z"
    }
   },
   "id": "466581e1926ed023"
  },
  {
   "cell_type": "code",
   "execution_count": 9,
   "outputs": [],
   "source": [
    "data['tw_sentiment'] = tw['sentiment']"
   ],
   "metadata": {
    "collapsed": false,
    "ExecuteTime": {
     "end_time": "2023-12-16T03:35:27.407238Z",
     "start_time": "2023-12-16T03:35:27.403844Z"
    }
   },
   "id": "4b4c5959d95e027c"
  },
  {
   "cell_type": "markdown",
   "source": [
    "# Reddit Data"
   ],
   "metadata": {
    "collapsed": false
   },
   "id": "44556345bdea1840"
  },
  {
   "cell_type": "code",
   "execution_count": 10,
   "outputs": [],
   "source": [
    "reddit = pd.read_csv('reddit.csv')\n",
    "reddit['date'] = reddit['timestamp'].str[:10]\n",
    "reddit['weighted_sentiment'] = reddit['score'] * reddit['sentiment']\n",
    "reddit['abs_score'] = reddit['score'].abs()\n",
    "re = reddit.groupby('date').agg({'weighted_sentiment': 'sum', 'abs_score': 'sum', 'sentiment': 'mean'})\n",
    "re['reaction'] = re['weighted_sentiment'] / re['abs_score']\n",
    "re['std_reaction'] = 2 * (re['reaction'] - 0.5)\n",
    "re['std_sentiment'] = 2 * (re['sentiment'] - 0.5)"
   ],
   "metadata": {
    "collapsed": false,
    "ExecuteTime": {
     "end_time": "2023-12-16T03:35:36.962956Z",
     "start_time": "2023-12-16T03:35:36.921960Z"
    }
   },
   "id": "15555b0905283911"
  },
  {
   "cell_type": "code",
   "execution_count": 11,
   "outputs": [
    {
     "data": {
      "text/plain": "            weighted_sentiment  abs_score  sentiment  reaction  std_reaction  \\\ndate                                                                           \n2016-01-01              213.50     1086.0   0.299451  0.196593     -0.606814   \n2016-01-02              178.75     1066.0   0.271959  0.167683     -0.664634   \n2016-01-03              336.75     1747.0   0.289655  0.192759     -0.614482   \n2016-01-04              343.00     1616.0   0.310897  0.212252     -0.575495   \n2016-01-05              396.50     1548.0   0.290584  0.256137     -0.487726   \n...                        ...        ...        ...       ...           ...   \n2018-12-27               37.75      147.0   0.289474  0.256803     -0.486395   \n2018-12-28               22.50      111.0   0.291667  0.202703     -0.594595   \n2018-12-29               18.25       81.0   0.319444  0.225309     -0.549383   \n2018-12-30              243.25      595.0   0.277027  0.408824     -0.182353   \n2018-12-31               31.00      141.0   0.265152  0.219858     -0.560284   \n\n            std_sentiment  \ndate                       \n2016-01-01      -0.401099  \n2016-01-02      -0.456081  \n2016-01-03      -0.420690  \n2016-01-04      -0.378205  \n2016-01-05      -0.418831  \n...                   ...  \n2018-12-27      -0.421053  \n2018-12-28      -0.416667  \n2018-12-29      -0.361111  \n2018-12-30      -0.445946  \n2018-12-31      -0.469697  \n\n[711 rows x 6 columns]",
      "text/html": "<div>\n<style scoped>\n    .dataframe tbody tr th:only-of-type {\n        vertical-align: middle;\n    }\n\n    .dataframe tbody tr th {\n        vertical-align: top;\n    }\n\n    .dataframe thead th {\n        text-align: right;\n    }\n</style>\n<table border=\"1\" class=\"dataframe\">\n  <thead>\n    <tr style=\"text-align: right;\">\n      <th></th>\n      <th>weighted_sentiment</th>\n      <th>abs_score</th>\n      <th>sentiment</th>\n      <th>reaction</th>\n      <th>std_reaction</th>\n      <th>std_sentiment</th>\n    </tr>\n    <tr>\n      <th>date</th>\n      <th></th>\n      <th></th>\n      <th></th>\n      <th></th>\n      <th></th>\n      <th></th>\n    </tr>\n  </thead>\n  <tbody>\n    <tr>\n      <th>2016-01-01</th>\n      <td>213.50</td>\n      <td>1086.0</td>\n      <td>0.299451</td>\n      <td>0.196593</td>\n      <td>-0.606814</td>\n      <td>-0.401099</td>\n    </tr>\n    <tr>\n      <th>2016-01-02</th>\n      <td>178.75</td>\n      <td>1066.0</td>\n      <td>0.271959</td>\n      <td>0.167683</td>\n      <td>-0.664634</td>\n      <td>-0.456081</td>\n    </tr>\n    <tr>\n      <th>2016-01-03</th>\n      <td>336.75</td>\n      <td>1747.0</td>\n      <td>0.289655</td>\n      <td>0.192759</td>\n      <td>-0.614482</td>\n      <td>-0.420690</td>\n    </tr>\n    <tr>\n      <th>2016-01-04</th>\n      <td>343.00</td>\n      <td>1616.0</td>\n      <td>0.310897</td>\n      <td>0.212252</td>\n      <td>-0.575495</td>\n      <td>-0.378205</td>\n    </tr>\n    <tr>\n      <th>2016-01-05</th>\n      <td>396.50</td>\n      <td>1548.0</td>\n      <td>0.290584</td>\n      <td>0.256137</td>\n      <td>-0.487726</td>\n      <td>-0.418831</td>\n    </tr>\n    <tr>\n      <th>...</th>\n      <td>...</td>\n      <td>...</td>\n      <td>...</td>\n      <td>...</td>\n      <td>...</td>\n      <td>...</td>\n    </tr>\n    <tr>\n      <th>2018-12-27</th>\n      <td>37.75</td>\n      <td>147.0</td>\n      <td>0.289474</td>\n      <td>0.256803</td>\n      <td>-0.486395</td>\n      <td>-0.421053</td>\n    </tr>\n    <tr>\n      <th>2018-12-28</th>\n      <td>22.50</td>\n      <td>111.0</td>\n      <td>0.291667</td>\n      <td>0.202703</td>\n      <td>-0.594595</td>\n      <td>-0.416667</td>\n    </tr>\n    <tr>\n      <th>2018-12-29</th>\n      <td>18.25</td>\n      <td>81.0</td>\n      <td>0.319444</td>\n      <td>0.225309</td>\n      <td>-0.549383</td>\n      <td>-0.361111</td>\n    </tr>\n    <tr>\n      <th>2018-12-30</th>\n      <td>243.25</td>\n      <td>595.0</td>\n      <td>0.277027</td>\n      <td>0.408824</td>\n      <td>-0.182353</td>\n      <td>-0.445946</td>\n    </tr>\n    <tr>\n      <th>2018-12-31</th>\n      <td>31.00</td>\n      <td>141.0</td>\n      <td>0.265152</td>\n      <td>0.219858</td>\n      <td>-0.560284</td>\n      <td>-0.469697</td>\n    </tr>\n  </tbody>\n</table>\n<p>711 rows × 6 columns</p>\n</div>"
     },
     "execution_count": 11,
     "metadata": {},
     "output_type": "execute_result"
    }
   ],
   "source": [
    "re"
   ],
   "metadata": {
    "collapsed": false,
    "ExecuteTime": {
     "end_time": "2023-12-16T03:35:53.072082Z",
     "start_time": "2023-12-16T03:35:53.064895Z"
    }
   },
   "id": "b331c6f87dbf2cb7"
  },
  {
   "cell_type": "code",
   "execution_count": 12,
   "outputs": [
    {
     "data": {
      "text/plain": "0.009689794255111763"
     },
     "execution_count": 12,
     "metadata": {},
     "output_type": "execute_result"
    }
   ],
   "source": [
    "re['std_sentiment'].corr(df1['ret'])"
   ],
   "metadata": {
    "collapsed": false,
    "ExecuteTime": {
     "end_time": "2023-12-16T03:35:57.364230Z",
     "start_time": "2023-12-16T03:35:57.358563Z"
    }
   },
   "id": "1062243578af41ab"
  },
  {
   "cell_type": "code",
   "execution_count": 14,
   "outputs": [
    {
     "data": {
      "text/plain": "-0.024842351444302493"
     },
     "execution_count": 14,
     "metadata": {},
     "output_type": "execute_result"
    }
   ],
   "source": [
    "re['std_reaction'].corr(df1['ret'])"
   ],
   "metadata": {
    "collapsed": false,
    "ExecuteTime": {
     "end_time": "2023-12-16T03:36:27.782465Z",
     "start_time": "2023-12-16T03:36:27.771885Z"
    }
   },
   "id": "3b336f0052eabc1"
  },
  {
   "cell_type": "code",
   "execution_count": 15,
   "outputs": [
    {
     "data": {
      "text/plain": "0.01581844568897427"
     },
     "execution_count": 15,
     "metadata": {},
     "output_type": "execute_result"
    }
   ],
   "source": [
    "re['std_sentiment'].corr(tw['sentiment'])"
   ],
   "metadata": {
    "collapsed": false,
    "ExecuteTime": {
     "end_time": "2023-12-16T03:36:38.129768Z",
     "start_time": "2023-12-16T03:36:38.123560Z"
    }
   },
   "id": "67fa5533e47b514e"
  },
  {
   "cell_type": "markdown",
   "source": [
    "# Linear Regression "
   ],
   "metadata": {
    "collapsed": false
   },
   "id": "484c7ef579c1a977"
  },
  {
   "cell_type": "code",
   "execution_count": 17,
   "outputs": [],
   "source": [
    "data2 = data.copy()\n",
    "data2['reddit'] = re['std_reaction']\n",
    "data2.dropna(inplace=True)"
   ],
   "metadata": {
    "collapsed": false,
    "ExecuteTime": {
     "end_time": "2023-12-16T03:36:55.237877Z",
     "start_time": "2023-12-16T03:36:55.229526Z"
    }
   },
   "id": "fb61448442b6ab18"
  },
  {
   "cell_type": "code",
   "execution_count": 18,
   "outputs": [
    {
     "data": {
      "text/plain": "                 ret  volatility  momentum  vol_factor  volume_factor  \\\ndate                                                                    \n2017-01-01  0.032547    0.000625  0.222580   -0.000381     369.973147   \n2017-01-02  0.014823    0.001006  0.196501   -0.000070     -44.407256   \n2017-01-03  0.022419    0.001077  0.185503   -0.000909     144.294628   \n2017-01-04  0.076968    0.001986  0.198707   -0.001582   11539.164556   \n2017-01-05 -0.098823    0.003568  0.118334    0.000899   21783.611347   \n...              ...         ...       ...         ...            ...   \n2018-12-27 -0.057302    0.001114  0.121886   -0.000212    1094.126136   \n2018-12-28  0.081655    0.001326  0.195910    0.000096    3053.702914   \n2018-12-29 -0.041053    0.001230  0.063367    0.000001   -2908.250167   \n2018-12-30  0.029610    0.001229  0.044958    0.000060   -4411.503184   \n2018-12-31 -0.037147    0.001169  0.002386    0.000185   -2667.405219   \n\n             ioo_ret  rf_rate  market_factor  tw_sentiment    reddit  \ndate                                                                  \n2017-01-01 -0.001562  0.02446      -0.026022      1.000000 -0.432039  \n2017-01-02 -0.001562  0.02446      -0.026022      0.002278 -0.469816  \n2017-01-03  0.008212  0.02450      -0.016288      1.000000 -0.483740  \n2017-01-04  0.004266  0.02452      -0.020254      0.574007 -0.474194  \n2017-01-05  0.003862  0.02368      -0.019818      0.653696 -0.431111  \n...              ...      ...            ...           ...       ...  \n2018-12-27  0.003336  0.02743      -0.024094      0.640775 -0.486395  \n2018-12-28  0.003088  0.02736      -0.024272      0.747919 -0.594595  \n2018-12-29  0.003088  0.02736      -0.024272      0.269185 -0.549383  \n2018-12-30  0.003088  0.02736      -0.024272      0.565696 -0.182353  \n2018-12-31  0.004026  0.02686      -0.022834      0.687718 -0.560284  \n\n[448 rows x 10 columns]",
      "text/html": "<div>\n<style scoped>\n    .dataframe tbody tr th:only-of-type {\n        vertical-align: middle;\n    }\n\n    .dataframe tbody tr th {\n        vertical-align: top;\n    }\n\n    .dataframe thead th {\n        text-align: right;\n    }\n</style>\n<table border=\"1\" class=\"dataframe\">\n  <thead>\n    <tr style=\"text-align: right;\">\n      <th></th>\n      <th>ret</th>\n      <th>volatility</th>\n      <th>momentum</th>\n      <th>vol_factor</th>\n      <th>volume_factor</th>\n      <th>ioo_ret</th>\n      <th>rf_rate</th>\n      <th>market_factor</th>\n      <th>tw_sentiment</th>\n      <th>reddit</th>\n    </tr>\n    <tr>\n      <th>date</th>\n      <th></th>\n      <th></th>\n      <th></th>\n      <th></th>\n      <th></th>\n      <th></th>\n      <th></th>\n      <th></th>\n      <th></th>\n      <th></th>\n    </tr>\n  </thead>\n  <tbody>\n    <tr>\n      <th>2017-01-01</th>\n      <td>0.032547</td>\n      <td>0.000625</td>\n      <td>0.222580</td>\n      <td>-0.000381</td>\n      <td>369.973147</td>\n      <td>-0.001562</td>\n      <td>0.02446</td>\n      <td>-0.026022</td>\n      <td>1.000000</td>\n      <td>-0.432039</td>\n    </tr>\n    <tr>\n      <th>2017-01-02</th>\n      <td>0.014823</td>\n      <td>0.001006</td>\n      <td>0.196501</td>\n      <td>-0.000070</td>\n      <td>-44.407256</td>\n      <td>-0.001562</td>\n      <td>0.02446</td>\n      <td>-0.026022</td>\n      <td>0.002278</td>\n      <td>-0.469816</td>\n    </tr>\n    <tr>\n      <th>2017-01-03</th>\n      <td>0.022419</td>\n      <td>0.001077</td>\n      <td>0.185503</td>\n      <td>-0.000909</td>\n      <td>144.294628</td>\n      <td>0.008212</td>\n      <td>0.02450</td>\n      <td>-0.016288</td>\n      <td>1.000000</td>\n      <td>-0.483740</td>\n    </tr>\n    <tr>\n      <th>2017-01-04</th>\n      <td>0.076968</td>\n      <td>0.001986</td>\n      <td>0.198707</td>\n      <td>-0.001582</td>\n      <td>11539.164556</td>\n      <td>0.004266</td>\n      <td>0.02452</td>\n      <td>-0.020254</td>\n      <td>0.574007</td>\n      <td>-0.474194</td>\n    </tr>\n    <tr>\n      <th>2017-01-05</th>\n      <td>-0.098823</td>\n      <td>0.003568</td>\n      <td>0.118334</td>\n      <td>0.000899</td>\n      <td>21783.611347</td>\n      <td>0.003862</td>\n      <td>0.02368</td>\n      <td>-0.019818</td>\n      <td>0.653696</td>\n      <td>-0.431111</td>\n    </tr>\n    <tr>\n      <th>...</th>\n      <td>...</td>\n      <td>...</td>\n      <td>...</td>\n      <td>...</td>\n      <td>...</td>\n      <td>...</td>\n      <td>...</td>\n      <td>...</td>\n      <td>...</td>\n      <td>...</td>\n    </tr>\n    <tr>\n      <th>2018-12-27</th>\n      <td>-0.057302</td>\n      <td>0.001114</td>\n      <td>0.121886</td>\n      <td>-0.000212</td>\n      <td>1094.126136</td>\n      <td>0.003336</td>\n      <td>0.02743</td>\n      <td>-0.024094</td>\n      <td>0.640775</td>\n      <td>-0.486395</td>\n    </tr>\n    <tr>\n      <th>2018-12-28</th>\n      <td>0.081655</td>\n      <td>0.001326</td>\n      <td>0.195910</td>\n      <td>0.000096</td>\n      <td>3053.702914</td>\n      <td>0.003088</td>\n      <td>0.02736</td>\n      <td>-0.024272</td>\n      <td>0.747919</td>\n      <td>-0.594595</td>\n    </tr>\n    <tr>\n      <th>2018-12-29</th>\n      <td>-0.041053</td>\n      <td>0.001230</td>\n      <td>0.063367</td>\n      <td>0.000001</td>\n      <td>-2908.250167</td>\n      <td>0.003088</td>\n      <td>0.02736</td>\n      <td>-0.024272</td>\n      <td>0.269185</td>\n      <td>-0.549383</td>\n    </tr>\n    <tr>\n      <th>2018-12-30</th>\n      <td>0.029610</td>\n      <td>0.001229</td>\n      <td>0.044958</td>\n      <td>0.000060</td>\n      <td>-4411.503184</td>\n      <td>0.003088</td>\n      <td>0.02736</td>\n      <td>-0.024272</td>\n      <td>0.565696</td>\n      <td>-0.182353</td>\n    </tr>\n    <tr>\n      <th>2018-12-31</th>\n      <td>-0.037147</td>\n      <td>0.001169</td>\n      <td>0.002386</td>\n      <td>0.000185</td>\n      <td>-2667.405219</td>\n      <td>0.004026</td>\n      <td>0.02686</td>\n      <td>-0.022834</td>\n      <td>0.687718</td>\n      <td>-0.560284</td>\n    </tr>\n  </tbody>\n</table>\n<p>448 rows × 10 columns</p>\n</div>"
     },
     "execution_count": 18,
     "metadata": {},
     "output_type": "execute_result"
    }
   ],
   "source": [
    "data2"
   ],
   "metadata": {
    "collapsed": false,
    "ExecuteTime": {
     "end_time": "2023-12-16T03:37:00.911478Z",
     "start_time": "2023-12-16T03:37:00.908195Z"
    }
   },
   "id": "5753c53660cf3acf"
  },
  {
   "cell_type": "code",
   "execution_count": 19,
   "outputs": [],
   "source": [
    "from sklearn.model_selection import train_test_split\n",
    "X = data2[['momentum', 'vol_factor', 'market_factor', 'volume_factor', 'tw_sentiment' , 'reddit']]\n",
    "X = sm.add_constant(X)\n",
    "Y = data2['ret']\n",
    "X_train, X_test, Y_train, Y_test = train_test_split(X, Y, test_size=0.2, random_state=42)"
   ],
   "metadata": {
    "collapsed": false,
    "ExecuteTime": {
     "end_time": "2023-12-16T03:38:51.233755Z",
     "start_time": "2023-12-16T03:38:50.527946Z"
    }
   },
   "id": "fa68af2cb6651b6"
  },
  {
   "cell_type": "code",
   "execution_count": 20,
   "outputs": [
    {
     "name": "stdout",
     "output_type": "stream",
     "text": [
      "                            OLS Regression Results                            \n",
      "==============================================================================\n",
      "Dep. Variable:                    ret   R-squared:                       0.124\n",
      "Model:                            OLS   Adj. R-squared:                  0.109\n",
      "Method:                 Least Squares   F-statistic:                     8.264\n",
      "Date:                Fri, 15 Dec 2023   Prob (F-statistic):           2.20e-08\n",
      "Time:                        22:38:54   Log-Likelihood:                 606.15\n",
      "No. Observations:                 358   AIC:                            -1198.\n",
      "Df Residuals:                     351   BIC:                            -1171.\n",
      "Df Model:                           6                                         \n",
      "Covariance Type:            nonrobust                                         \n",
      "=================================================================================\n",
      "                    coef    std err          t      P>|t|      [0.025      0.975]\n",
      "---------------------------------------------------------------------------------\n",
      "const            -0.0033      0.011     -0.300      0.764      -0.025       0.018\n",
      "momentum          0.0880      0.014      6.268      0.000       0.060       0.116\n",
      "vol_factor        2.8244      4.258      0.663      0.508      -5.550      11.199\n",
      "market_factor     0.0627      0.284      0.221      0.826      -0.496       0.622\n",
      "volume_factor -8.452e-07   3.65e-07     -2.313      0.021   -1.56e-06   -1.26e-07\n",
      "tw_sentiment      0.0040      0.006      0.704      0.482      -0.007       0.015\n",
      "reddit           -0.0120      0.016     -0.735      0.463      -0.044       0.020\n",
      "==============================================================================\n",
      "Omnibus:                       42.519   Durbin-Watson:                   2.249\n",
      "Prob(Omnibus):                  0.000   Jarque-Bera (JB):               87.840\n",
      "Skew:                           0.643   Prob(JB):                     8.43e-20\n",
      "Kurtosis:                       5.057   Cond. No.                     1.20e+07\n",
      "==============================================================================\n",
      "\n",
      "Notes:\n",
      "[1] Standard Errors assume that the covariance matrix of the errors is correctly specified.\n",
      "[2] The condition number is large, 1.2e+07. This might indicate that there are\n",
      "strong multicollinearity or other numerical problems.\n"
     ]
    }
   ],
   "source": [
    "model = sm.OLS(Y_train, X_train).fit()\n",
    "print(model.summary())"
   ],
   "metadata": {
    "collapsed": false,
    "ExecuteTime": {
     "end_time": "2023-12-16T03:38:54.859195Z",
     "start_time": "2023-12-16T03:38:54.838834Z"
    }
   },
   "id": "deb3efa3800e01d2"
  },
  {
   "cell_type": "code",
   "execution_count": 21,
   "outputs": [
    {
     "name": "stdout",
     "output_type": "stream",
     "text": [
      "                            OLS Regression Results                            \n",
      "==============================================================================\n",
      "Dep. Variable:                    ret   R-squared:                       0.106\n",
      "Model:                            OLS   Adj. R-squared:                  0.102\n",
      "Method:                 Least Squares   F-statistic:                     26.37\n",
      "Date:                Fri, 15 Dec 2023   Prob (F-statistic):           4.00e-16\n",
      "Time:                        22:38:58   Log-Likelihood:                 1153.1\n",
      "No. Observations:                 670   AIC:                            -2298.\n",
      "Df Residuals:                     666   BIC:                            -2280.\n",
      "Df Model:                           3                                         \n",
      "Covariance Type:            nonrobust                                         \n",
      "=================================================================================\n",
      "                    coef    std err          t      P>|t|      [0.025      0.975]\n",
      "---------------------------------------------------------------------------------\n",
      "const            -0.0030      0.003     -1.094      0.274      -0.008       0.002\n",
      "momentum          0.0735      0.010      7.176      0.000       0.053       0.094\n",
      "volume_factor -1.043e-06   2.87e-07     -3.632      0.000   -1.61e-06   -4.79e-07\n",
      "tw_sentiment      0.0109      0.005      2.319      0.021       0.002       0.020\n",
      "==============================================================================\n",
      "Omnibus:                      140.577   Durbin-Watson:                   2.015\n",
      "Prob(Omnibus):                  0.000   Jarque-Bera (JB):              584.199\n",
      "Skew:                           0.903   Prob(JB):                    1.39e-127\n",
      "Kurtosis:                       7.203   Cond. No.                     3.59e+04\n",
      "==============================================================================\n",
      "\n",
      "Notes:\n",
      "[1] Standard Errors assume that the covariance matrix of the errors is correctly specified.\n",
      "[2] The condition number is large, 3.59e+04. This might indicate that there are\n",
      "strong multicollinearity or other numerical problems.\n"
     ]
    }
   ],
   "source": [
    "data1 = data.copy().dropna()\n",
    "from sklearn.model_selection import train_test_split\n",
    "X = data1[['momentum', 'volume_factor', 'tw_sentiment']]\n",
    "X = sm.add_constant(X)\n",
    "Y = data1['ret']\n",
    "X_train, X_test, Y_train, Y_test = train_test_split(X, Y, test_size=0.2, random_state=21)\n",
    "model = sm.OLS(Y_train, X_train).fit()\n",
    "print(model.summary())"
   ],
   "metadata": {
    "collapsed": false,
    "ExecuteTime": {
     "end_time": "2023-12-16T03:38:58.953222Z",
     "start_time": "2023-12-16T03:38:58.944183Z"
    }
   },
   "id": "75df21c16e5f6a2f"
  },
  {
   "cell_type": "code",
   "execution_count": 23,
   "outputs": [
    {
     "name": "stdout",
     "output_type": "stream",
     "text": [
      "R2 of the model is 0.15845259579605397\n"
     ]
    },
    {
     "name": "stderr",
     "output_type": "stream",
     "text": [
      "/Users/sun/anaconda3/lib/python3.11/site-packages/sklearn/utils/validation.py:605: FutureWarning: is_sparse is deprecated and will be removed in a future version. Check `isinstance(dtype, pd.SparseDtype)` instead.\n",
      "  if is_sparse(pd_dtype):\n",
      "/Users/sun/anaconda3/lib/python3.11/site-packages/sklearn/utils/validation.py:614: FutureWarning: is_sparse is deprecated and will be removed in a future version. Check `isinstance(dtype, pd.SparseDtype)` instead.\n",
      "  if is_sparse(pd_dtype) or not is_extension_array_dtype(pd_dtype):\n",
      "/Users/sun/anaconda3/lib/python3.11/site-packages/sklearn/utils/validation.py:605: FutureWarning: is_sparse is deprecated and will be removed in a future version. Check `isinstance(dtype, pd.SparseDtype)` instead.\n",
      "  if is_sparse(pd_dtype):\n",
      "/Users/sun/anaconda3/lib/python3.11/site-packages/sklearn/utils/validation.py:614: FutureWarning: is_sparse is deprecated and will be removed in a future version. Check `isinstance(dtype, pd.SparseDtype)` instead.\n",
      "  if is_sparse(pd_dtype) or not is_extension_array_dtype(pd_dtype):\n"
     ]
    }
   ],
   "source": [
    "Y_pred = model.predict(X_test)\n",
    "from sklearn.metrics import r2_score\n",
    "r2 = r2_score(Y_test, Y_pred)\n",
    "print(f\"R2 of the model is {r2}\")"
   ],
   "metadata": {
    "collapsed": false,
    "ExecuteTime": {
     "end_time": "2023-12-16T03:39:28.773103Z",
     "start_time": "2023-12-16T03:39:28.763661Z"
    }
   },
   "id": "6aac45d2c5cafdf6"
  }
 ],
 "metadata": {
  "kernelspec": {
   "display_name": "Python 3",
   "language": "python",
   "name": "python3"
  },
  "language_info": {
   "codemirror_mode": {
    "name": "ipython",
    "version": 2
   },
   "file_extension": ".py",
   "mimetype": "text/x-python",
   "name": "python",
   "nbconvert_exporter": "python",
   "pygments_lexer": "ipython2",
   "version": "2.7.6"
  }
 },
 "nbformat": 4,
 "nbformat_minor": 5
}
