{
 "cells": [
  {
   "cell_type": "code",
   "execution_count": 37,
   "id": "initial_id",
   "metadata": {
    "collapsed": true,
    "ExecuteTime": {
     "end_time": "2023-12-11T05:39:14.074312Z",
     "start_time": "2023-12-11T05:39:12.374974Z"
    }
   },
   "outputs": [],
   "source": [
    "import datetime\n",
    "\n",
    "import pandas as pd\n",
    "import matplotlib.pyplot as plt\n",
    "import numpy as np\n",
    "# from sklearn.linear_model import LinearRegression\n",
    "import statsmodels.api as sm\n",
    "data_path = './bitcoin_filtered.csv'\n",
    "df = pd.read_csv(data_path)"
   ]
  },
  {
   "cell_type": "code",
   "execution_count": 5,
   "outputs": [
    {
     "data": {
      "text/plain": "            date         open     close     high      low   btc_volume  \\\n0     2016-01-01   430.516667   433.820   436.00   427.20  5570.202208   \n1     2016-01-02   434.870000   433.375   435.99   430.42  4521.763130   \n2     2016-01-03   433.200000   431.040   434.09   424.06  5961.158565   \n3     2016-01-04   431.540000   434.170   435.86   428.44  7583.504915   \n4     2016-01-05   433.310000   432.430   435.39   429.50  5350.234219   \n...          ...          ...       ...      ...      ...          ...   \n1212  2019-04-27  5154.110000  5168.910  5218.31  5113.00  4147.391780   \n1213  2019-04-28  5171.510000  5160.980  5213.23  5099.00  4067.481115   \n1214  2019-04-29  5152.980000  5149.110  5191.96  5071.58  5842.740260   \n1215  2019-04-30  5150.210000  5269.000  5287.40  5127.05  5088.041423   \n1216  2019-05-01  5267.860000  5318.420  5357.96  5263.03  4276.783394   \n\n        usd_volume  volatility   cnt       ret  \n0     2.411393e+06    0.001202  1440  0.006800  \n1     1.959375e+06    0.000796  1440 -0.001026  \n2     2.556935e+06    0.001065  1440 -0.005388  \n3     3.280781e+06    0.000880  1440  0.007262  \n4     2.312794e+06    0.000557  1440 -0.004008  \n...            ...         ...   ...       ...  \n1212  2.140799e+07    0.000548  1440  0.002661  \n1213  2.100555e+07    0.000517  1440 -0.001534  \n1214  3.008434e+07    0.000634  1440 -0.002300  \n1215  2.651356e+07    0.000594  1440  0.023284  \n1216  2.268529e+07    0.000470  1440  0.009379  \n\n[1217 rows x 10 columns]",
      "text/html": "<div>\n<style scoped>\n    .dataframe tbody tr th:only-of-type {\n        vertical-align: middle;\n    }\n\n    .dataframe tbody tr th {\n        vertical-align: top;\n    }\n\n    .dataframe thead th {\n        text-align: right;\n    }\n</style>\n<table border=\"1\" class=\"dataframe\">\n  <thead>\n    <tr style=\"text-align: right;\">\n      <th></th>\n      <th>date</th>\n      <th>open</th>\n      <th>close</th>\n      <th>high</th>\n      <th>low</th>\n      <th>btc_volume</th>\n      <th>usd_volume</th>\n      <th>volatility</th>\n      <th>cnt</th>\n      <th>ret</th>\n    </tr>\n  </thead>\n  <tbody>\n    <tr>\n      <th>0</th>\n      <td>2016-01-01</td>\n      <td>430.516667</td>\n      <td>433.820</td>\n      <td>436.00</td>\n      <td>427.20</td>\n      <td>5570.202208</td>\n      <td>2.411393e+06</td>\n      <td>0.001202</td>\n      <td>1440</td>\n      <td>0.006800</td>\n    </tr>\n    <tr>\n      <th>1</th>\n      <td>2016-01-02</td>\n      <td>434.870000</td>\n      <td>433.375</td>\n      <td>435.99</td>\n      <td>430.42</td>\n      <td>4521.763130</td>\n      <td>1.959375e+06</td>\n      <td>0.000796</td>\n      <td>1440</td>\n      <td>-0.001026</td>\n    </tr>\n    <tr>\n      <th>2</th>\n      <td>2016-01-03</td>\n      <td>433.200000</td>\n      <td>431.040</td>\n      <td>434.09</td>\n      <td>424.06</td>\n      <td>5961.158565</td>\n      <td>2.556935e+06</td>\n      <td>0.001065</td>\n      <td>1440</td>\n      <td>-0.005388</td>\n    </tr>\n    <tr>\n      <th>3</th>\n      <td>2016-01-04</td>\n      <td>431.540000</td>\n      <td>434.170</td>\n      <td>435.86</td>\n      <td>428.44</td>\n      <td>7583.504915</td>\n      <td>3.280781e+06</td>\n      <td>0.000880</td>\n      <td>1440</td>\n      <td>0.007262</td>\n    </tr>\n    <tr>\n      <th>4</th>\n      <td>2016-01-05</td>\n      <td>433.310000</td>\n      <td>432.430</td>\n      <td>435.39</td>\n      <td>429.50</td>\n      <td>5350.234219</td>\n      <td>2.312794e+06</td>\n      <td>0.000557</td>\n      <td>1440</td>\n      <td>-0.004008</td>\n    </tr>\n    <tr>\n      <th>...</th>\n      <td>...</td>\n      <td>...</td>\n      <td>...</td>\n      <td>...</td>\n      <td>...</td>\n      <td>...</td>\n      <td>...</td>\n      <td>...</td>\n      <td>...</td>\n      <td>...</td>\n    </tr>\n    <tr>\n      <th>1212</th>\n      <td>2019-04-27</td>\n      <td>5154.110000</td>\n      <td>5168.910</td>\n      <td>5218.31</td>\n      <td>5113.00</td>\n      <td>4147.391780</td>\n      <td>2.140799e+07</td>\n      <td>0.000548</td>\n      <td>1440</td>\n      <td>0.002661</td>\n    </tr>\n    <tr>\n      <th>1213</th>\n      <td>2019-04-28</td>\n      <td>5171.510000</td>\n      <td>5160.980</td>\n      <td>5213.23</td>\n      <td>5099.00</td>\n      <td>4067.481115</td>\n      <td>2.100555e+07</td>\n      <td>0.000517</td>\n      <td>1440</td>\n      <td>-0.001534</td>\n    </tr>\n    <tr>\n      <th>1214</th>\n      <td>2019-04-29</td>\n      <td>5152.980000</td>\n      <td>5149.110</td>\n      <td>5191.96</td>\n      <td>5071.58</td>\n      <td>5842.740260</td>\n      <td>3.008434e+07</td>\n      <td>0.000634</td>\n      <td>1440</td>\n      <td>-0.002300</td>\n    </tr>\n    <tr>\n      <th>1215</th>\n      <td>2019-04-30</td>\n      <td>5150.210000</td>\n      <td>5269.000</td>\n      <td>5287.40</td>\n      <td>5127.05</td>\n      <td>5088.041423</td>\n      <td>2.651356e+07</td>\n      <td>0.000594</td>\n      <td>1440</td>\n      <td>0.023284</td>\n    </tr>\n    <tr>\n      <th>1216</th>\n      <td>2019-05-01</td>\n      <td>5267.860000</td>\n      <td>5318.420</td>\n      <td>5357.96</td>\n      <td>5263.03</td>\n      <td>4276.783394</td>\n      <td>2.268529e+07</td>\n      <td>0.000470</td>\n      <td>1440</td>\n      <td>0.009379</td>\n    </tr>\n  </tbody>\n</table>\n<p>1217 rows × 10 columns</p>\n</div>"
     },
     "execution_count": 5,
     "metadata": {},
     "output_type": "execute_result"
    }
   ],
   "source": [
    "df"
   ],
   "metadata": {
    "collapsed": false,
    "ExecuteTime": {
     "end_time": "2023-12-11T05:29:40.771581Z",
     "start_time": "2023-12-11T05:29:40.752540Z"
    }
   },
   "id": "6a6aa623236285c2"
  },
  {
   "cell_type": "markdown",
   "source": [
    "## 1. Momentum"
   ],
   "metadata": {
    "collapsed": false
   },
   "id": "37d1bfe96fbaff61"
  },
  {
   "cell_type": "code",
   "execution_count": 6,
   "outputs": [
    {
     "data": {
      "text/plain": "            Date   Open   High    Low  Close  Adj Close  Volume\n0     2015-01-02  2.197  2.213  2.102  2.123      2.123     0.0\n1     2015-01-04    NaN    NaN    NaN    NaN        NaN     NaN\n2     2015-01-05  2.102  2.109  2.037  2.039      2.039     0.0\n3     2015-01-06  1.968  1.997  1.889  1.963      1.963     0.0\n4     2015-01-07  1.975  2.008  1.938  1.954      1.954     0.0\n...          ...    ...    ...    ...    ...        ...     ...\n1514  2019-12-26  1.912  1.921  1.896  1.905      1.905     0.0\n1515  2019-12-27  1.893  1.893  1.870  1.874      1.874     0.0\n1516  2019-12-29    NaN    NaN    NaN    NaN        NaN     NaN\n1517  2019-12-30  1.923  1.940  1.895  1.895      1.895     0.0\n1518  2019-12-31  1.898  1.930  1.895  1.919      1.919     0.0\n\n[1519 rows x 7 columns]",
      "text/html": "<div>\n<style scoped>\n    .dataframe tbody tr th:only-of-type {\n        vertical-align: middle;\n    }\n\n    .dataframe tbody tr th {\n        vertical-align: top;\n    }\n\n    .dataframe thead th {\n        text-align: right;\n    }\n</style>\n<table border=\"1\" class=\"dataframe\">\n  <thead>\n    <tr style=\"text-align: right;\">\n      <th></th>\n      <th>Date</th>\n      <th>Open</th>\n      <th>High</th>\n      <th>Low</th>\n      <th>Close</th>\n      <th>Adj Close</th>\n      <th>Volume</th>\n    </tr>\n  </thead>\n  <tbody>\n    <tr>\n      <th>0</th>\n      <td>2015-01-02</td>\n      <td>2.197</td>\n      <td>2.213</td>\n      <td>2.102</td>\n      <td>2.123</td>\n      <td>2.123</td>\n      <td>0.0</td>\n    </tr>\n    <tr>\n      <th>1</th>\n      <td>2015-01-04</td>\n      <td>NaN</td>\n      <td>NaN</td>\n      <td>NaN</td>\n      <td>NaN</td>\n      <td>NaN</td>\n      <td>NaN</td>\n    </tr>\n    <tr>\n      <th>2</th>\n      <td>2015-01-05</td>\n      <td>2.102</td>\n      <td>2.109</td>\n      <td>2.037</td>\n      <td>2.039</td>\n      <td>2.039</td>\n      <td>0.0</td>\n    </tr>\n    <tr>\n      <th>3</th>\n      <td>2015-01-06</td>\n      <td>1.968</td>\n      <td>1.997</td>\n      <td>1.889</td>\n      <td>1.963</td>\n      <td>1.963</td>\n      <td>0.0</td>\n    </tr>\n    <tr>\n      <th>4</th>\n      <td>2015-01-07</td>\n      <td>1.975</td>\n      <td>2.008</td>\n      <td>1.938</td>\n      <td>1.954</td>\n      <td>1.954</td>\n      <td>0.0</td>\n    </tr>\n    <tr>\n      <th>...</th>\n      <td>...</td>\n      <td>...</td>\n      <td>...</td>\n      <td>...</td>\n      <td>...</td>\n      <td>...</td>\n      <td>...</td>\n    </tr>\n    <tr>\n      <th>1514</th>\n      <td>2019-12-26</td>\n      <td>1.912</td>\n      <td>1.921</td>\n      <td>1.896</td>\n      <td>1.905</td>\n      <td>1.905</td>\n      <td>0.0</td>\n    </tr>\n    <tr>\n      <th>1515</th>\n      <td>2019-12-27</td>\n      <td>1.893</td>\n      <td>1.893</td>\n      <td>1.870</td>\n      <td>1.874</td>\n      <td>1.874</td>\n      <td>0.0</td>\n    </tr>\n    <tr>\n      <th>1516</th>\n      <td>2019-12-29</td>\n      <td>NaN</td>\n      <td>NaN</td>\n      <td>NaN</td>\n      <td>NaN</td>\n      <td>NaN</td>\n      <td>NaN</td>\n    </tr>\n    <tr>\n      <th>1517</th>\n      <td>2019-12-30</td>\n      <td>1.923</td>\n      <td>1.940</td>\n      <td>1.895</td>\n      <td>1.895</td>\n      <td>1.895</td>\n      <td>0.0</td>\n    </tr>\n    <tr>\n      <th>1518</th>\n      <td>2019-12-31</td>\n      <td>1.898</td>\n      <td>1.930</td>\n      <td>1.895</td>\n      <td>1.919</td>\n      <td>1.919</td>\n      <td>0.0</td>\n    </tr>\n  </tbody>\n</table>\n<p>1519 rows × 7 columns</p>\n</div>"
     },
     "execution_count": 6,
     "metadata": {},
     "output_type": "execute_result"
    }
   ],
   "source": [
    "ir_df = pd.read_csv('10y_IR.csv')\n",
    "ir_df"
   ],
   "metadata": {
    "collapsed": false,
    "ExecuteTime": {
     "end_time": "2023-12-11T05:29:49.442037Z",
     "start_time": "2023-12-11T05:29:49.417815Z"
    }
   },
   "id": "d69cd2bdf5e691f4"
  },
  {
   "cell_type": "code",
   "execution_count": 7,
   "outputs": [],
   "source": [
    "df1 = df.set_index('date').join(ir_df[['Date', 'Adj Close']].set_index('Date'), \n",
    "                               how='left', rsuffix='_ir')"
   ],
   "metadata": {
    "collapsed": false,
    "ExecuteTime": {
     "end_time": "2023-12-11T05:29:52.579605Z",
     "start_time": "2023-12-11T05:29:52.565361Z"
    }
   },
   "id": "a1d877714f420cb9"
  },
  {
   "cell_type": "code",
   "execution_count": 8,
   "outputs": [
    {
     "name": "stderr",
     "output_type": "stream",
     "text": [
      "/var/folders/mn/64_gmkvj6j718qjxyr0977d40000gn/T/ipykernel_12419/3280286976.py:1: FutureWarning: DataFrame.fillna with 'method' is deprecated and will raise in a future version. Use obj.ffill() or obj.bfill() instead.\n",
      "  df1.fillna(method='bfill', inplace=True)\n"
     ]
    }
   ],
   "source": [
    "df1.fillna(method='bfill', inplace=True)\n",
    "df1['rf_rate'] = df1['Adj Close']/100\n",
    "df1.drop('Adj Close', axis=1, inplace=True)"
   ],
   "metadata": {
    "collapsed": false,
    "ExecuteTime": {
     "end_time": "2023-12-11T05:29:53.891735Z",
     "start_time": "2023-12-11T05:29:53.885798Z"
    }
   },
   "id": "f44c28fe5cf54d8d"
  },
  {
   "cell_type": "code",
   "execution_count": 9,
   "outputs": [
    {
     "data": {
      "text/plain": "                   open     close     high      low   btc_volume  \\\ndate                                                               \n2016-01-01   430.516667   433.820   436.00   427.20  5570.202208   \n2016-01-02   434.870000   433.375   435.99   430.42  4521.763130   \n2016-01-03   433.200000   431.040   434.09   424.06  5961.158565   \n2016-01-04   431.540000   434.170   435.86   428.44  7583.504915   \n2016-01-05   433.310000   432.430   435.39   429.50  5350.234219   \n...                 ...       ...      ...      ...          ...   \n2019-04-27  5154.110000  5168.910  5218.31  5113.00  4147.391780   \n2019-04-28  5171.510000  5160.980  5213.23  5099.00  4067.481115   \n2019-04-29  5152.980000  5149.110  5191.96  5071.58  5842.740260   \n2019-04-30  5150.210000  5269.000  5287.40  5127.05  5088.041423   \n2019-05-01  5267.860000  5318.420  5357.96  5263.03  4276.783394   \n\n              usd_volume  volatility   cnt       ret  rf_rate  momentum  \\\ndate                                                                      \n2016-01-01  2.411393e+06    0.001202  1440  0.006800  0.02245       NaN   \n2016-01-02  1.959375e+06    0.000796  1440 -0.001026  0.02245       NaN   \n2016-01-03  2.556935e+06    0.001065  1440 -0.005388  0.02245       NaN   \n2016-01-04  3.280781e+06    0.000880  1440  0.007262  0.02245       NaN   \n2016-01-05  2.312794e+06    0.000557  1440 -0.004008  0.02248       NaN   \n...                  ...         ...   ...       ...      ...       ...   \n2019-04-27  2.140799e+07    0.000548  1440  0.002661  0.02536 -0.276054   \n2019-04-28  2.100555e+07    0.000517  1440 -0.001534  0.02536 -0.311284   \n2019-04-29  3.008434e+07    0.000634  1440 -0.002300  0.02536 -0.319037   \n2019-04-30  2.651356e+07    0.000594  1440  0.023284  0.02509 -0.304469   \n2019-05-01  2.268529e+07    0.000470  1440  0.009379  0.02511 -0.296096   \n\n            momentum2  \ndate                   \n2016-01-01        NaN  \n2016-01-02        NaN  \n2016-01-03        NaN  \n2016-01-04        NaN  \n2016-01-05        NaN  \n...               ...  \n2019-04-27   0.027777  \n2019-04-28  -0.007999  \n2019-04-29  -0.016298  \n2019-04-30  -0.002228  \n2019-05-01   0.005375  \n\n[1217 rows x 12 columns]",
      "text/html": "<div>\n<style scoped>\n    .dataframe tbody tr th:only-of-type {\n        vertical-align: middle;\n    }\n\n    .dataframe tbody tr th {\n        vertical-align: top;\n    }\n\n    .dataframe thead th {\n        text-align: right;\n    }\n</style>\n<table border=\"1\" class=\"dataframe\">\n  <thead>\n    <tr style=\"text-align: right;\">\n      <th></th>\n      <th>open</th>\n      <th>close</th>\n      <th>high</th>\n      <th>low</th>\n      <th>btc_volume</th>\n      <th>usd_volume</th>\n      <th>volatility</th>\n      <th>cnt</th>\n      <th>ret</th>\n      <th>rf_rate</th>\n      <th>momentum</th>\n      <th>momentum2</th>\n    </tr>\n    <tr>\n      <th>date</th>\n      <th></th>\n      <th></th>\n      <th></th>\n      <th></th>\n      <th></th>\n      <th></th>\n      <th></th>\n      <th></th>\n      <th></th>\n      <th></th>\n      <th></th>\n      <th></th>\n    </tr>\n  </thead>\n  <tbody>\n    <tr>\n      <th>2016-01-01</th>\n      <td>430.516667</td>\n      <td>433.820</td>\n      <td>436.00</td>\n      <td>427.20</td>\n      <td>5570.202208</td>\n      <td>2.411393e+06</td>\n      <td>0.001202</td>\n      <td>1440</td>\n      <td>0.006800</td>\n      <td>0.02245</td>\n      <td>NaN</td>\n      <td>NaN</td>\n    </tr>\n    <tr>\n      <th>2016-01-02</th>\n      <td>434.870000</td>\n      <td>433.375</td>\n      <td>435.99</td>\n      <td>430.42</td>\n      <td>4521.763130</td>\n      <td>1.959375e+06</td>\n      <td>0.000796</td>\n      <td>1440</td>\n      <td>-0.001026</td>\n      <td>0.02245</td>\n      <td>NaN</td>\n      <td>NaN</td>\n    </tr>\n    <tr>\n      <th>2016-01-03</th>\n      <td>433.200000</td>\n      <td>431.040</td>\n      <td>434.09</td>\n      <td>424.06</td>\n      <td>5961.158565</td>\n      <td>2.556935e+06</td>\n      <td>0.001065</td>\n      <td>1440</td>\n      <td>-0.005388</td>\n      <td>0.02245</td>\n      <td>NaN</td>\n      <td>NaN</td>\n    </tr>\n    <tr>\n      <th>2016-01-04</th>\n      <td>431.540000</td>\n      <td>434.170</td>\n      <td>435.86</td>\n      <td>428.44</td>\n      <td>7583.504915</td>\n      <td>3.280781e+06</td>\n      <td>0.000880</td>\n      <td>1440</td>\n      <td>0.007262</td>\n      <td>0.02245</td>\n      <td>NaN</td>\n      <td>NaN</td>\n    </tr>\n    <tr>\n      <th>2016-01-05</th>\n      <td>433.310000</td>\n      <td>432.430</td>\n      <td>435.39</td>\n      <td>429.50</td>\n      <td>5350.234219</td>\n      <td>2.312794e+06</td>\n      <td>0.000557</td>\n      <td>1440</td>\n      <td>-0.004008</td>\n      <td>0.02248</td>\n      <td>NaN</td>\n      <td>NaN</td>\n    </tr>\n    <tr>\n      <th>...</th>\n      <td>...</td>\n      <td>...</td>\n      <td>...</td>\n      <td>...</td>\n      <td>...</td>\n      <td>...</td>\n      <td>...</td>\n      <td>...</td>\n      <td>...</td>\n      <td>...</td>\n      <td>...</td>\n      <td>...</td>\n    </tr>\n    <tr>\n      <th>2019-04-27</th>\n      <td>5154.110000</td>\n      <td>5168.910</td>\n      <td>5218.31</td>\n      <td>5113.00</td>\n      <td>4147.391780</td>\n      <td>2.140799e+07</td>\n      <td>0.000548</td>\n      <td>1440</td>\n      <td>0.002661</td>\n      <td>0.02536</td>\n      <td>-0.276054</td>\n      <td>0.027777</td>\n    </tr>\n    <tr>\n      <th>2019-04-28</th>\n      <td>5171.510000</td>\n      <td>5160.980</td>\n      <td>5213.23</td>\n      <td>5099.00</td>\n      <td>4067.481115</td>\n      <td>2.100555e+07</td>\n      <td>0.000517</td>\n      <td>1440</td>\n      <td>-0.001534</td>\n      <td>0.02536</td>\n      <td>-0.311284</td>\n      <td>-0.007999</td>\n    </tr>\n    <tr>\n      <th>2019-04-29</th>\n      <td>5152.980000</td>\n      <td>5149.110</td>\n      <td>5191.96</td>\n      <td>5071.58</td>\n      <td>5842.740260</td>\n      <td>3.008434e+07</td>\n      <td>0.000634</td>\n      <td>1440</td>\n      <td>-0.002300</td>\n      <td>0.02536</td>\n      <td>-0.319037</td>\n      <td>-0.016298</td>\n    </tr>\n    <tr>\n      <th>2019-04-30</th>\n      <td>5150.210000</td>\n      <td>5269.000</td>\n      <td>5287.40</td>\n      <td>5127.05</td>\n      <td>5088.041423</td>\n      <td>2.651356e+07</td>\n      <td>0.000594</td>\n      <td>1440</td>\n      <td>0.023284</td>\n      <td>0.02509</td>\n      <td>-0.304469</td>\n      <td>-0.002228</td>\n    </tr>\n    <tr>\n      <th>2019-05-01</th>\n      <td>5267.860000</td>\n      <td>5318.420</td>\n      <td>5357.96</td>\n      <td>5263.03</td>\n      <td>4276.783394</td>\n      <td>2.268529e+07</td>\n      <td>0.000470</td>\n      <td>1440</td>\n      <td>0.009379</td>\n      <td>0.02511</td>\n      <td>-0.296096</td>\n      <td>0.005375</td>\n    </tr>\n  </tbody>\n</table>\n<p>1217 rows × 12 columns</p>\n</div>"
     },
     "execution_count": 9,
     "metadata": {},
     "output_type": "execute_result"
    }
   ],
   "source": [
    "df1['momentum'] = np.log(1+df1.ret).rolling(12).sum() - np.log(1+df1.rf_rate).rolling(12).sum()\n",
    "df1['momentum2'] = np.log(1+df1.ret).rolling(12).sum()\n",
    "df1"
   ],
   "metadata": {
    "collapsed": false,
    "ExecuteTime": {
     "end_time": "2023-12-11T05:29:57.880653Z",
     "start_time": "2023-12-11T05:29:57.853810Z"
    }
   },
   "id": "66914a0963bd4d49"
  },
  {
   "cell_type": "code",
   "execution_count": 10,
   "outputs": [
    {
     "data": {
      "text/plain": "               open        close     high      low    btc_volume  \\\ndate                                                               \n2016-01-12   448.00   434.850000   448.00   434.35   8009.838089   \n2016-01-13   434.78   432.640000   438.35   424.50  11352.515413   \n2016-01-14   432.64   429.585714   434.00   427.00   6057.616550   \n2016-01-15   429.55   360.000000   429.80   360.00  38173.637640   \n2016-01-16   360.62   386.910000   392.07   352.00  26809.800368   \n...             ...          ...      ...      ...           ...   \n2019-04-27  5154.11  5168.910000  5218.31  5113.00   4147.391780   \n2019-04-28  5171.51  5160.980000  5213.23  5099.00   4067.481115   \n2019-04-29  5152.98  5149.110000  5191.96  5071.58   5842.740260   \n2019-04-30  5150.21  5269.000000  5287.40  5127.05   5088.041423   \n2019-05-01  5267.86  5318.420000  5357.96  5263.03   4276.783394   \n\n              usd_volume  volatility   cnt       ret  rf_rate  momentum  \\\ndate                                                                      \n2016-01-12  3.548860e+06    0.000910  1440 -0.029353  0.02102 -0.250657   \n2016-01-13  4.880889e+06    0.001117  1440 -0.005082  0.02066 -0.260777   \n2016-01-14  2.608535e+06    0.000702  1440 -0.007060  0.02098 -0.265397   \n2016-01-15  1.510499e+07    0.002260  1440 -0.161983  0.02033 -0.434636   \n2016-01-16  9.974762e+06    0.002068  1440  0.074750  0.02035 -0.367727   \n...                  ...         ...   ...       ...      ...       ...   \n2019-04-27  2.140799e+07    0.000548  1440  0.002661  0.02536 -0.276054   \n2019-04-28  2.100555e+07    0.000517  1440 -0.001534  0.02536 -0.311284   \n2019-04-29  3.008434e+07    0.000634  1440 -0.002300  0.02536 -0.319037   \n2019-04-30  2.651356e+07    0.000594  1440  0.023284  0.02509 -0.304469   \n2019-05-01  2.268529e+07    0.000470  1440  0.009379  0.02511 -0.296096   \n\n            momentum2  \ndate                   \n2016-01-12   0.009148  \n2016-01-13  -0.002724  \n2016-01-14  -0.008782  \n2016-01-15  -0.180097  \n2016-01-16  -0.115244  \n...               ...  \n2019-04-27   0.027777  \n2019-04-28  -0.007999  \n2019-04-29  -0.016298  \n2019-04-30  -0.002228  \n2019-05-01   0.005375  \n\n[1206 rows x 12 columns]",
      "text/html": "<div>\n<style scoped>\n    .dataframe tbody tr th:only-of-type {\n        vertical-align: middle;\n    }\n\n    .dataframe tbody tr th {\n        vertical-align: top;\n    }\n\n    .dataframe thead th {\n        text-align: right;\n    }\n</style>\n<table border=\"1\" class=\"dataframe\">\n  <thead>\n    <tr style=\"text-align: right;\">\n      <th></th>\n      <th>open</th>\n      <th>close</th>\n      <th>high</th>\n      <th>low</th>\n      <th>btc_volume</th>\n      <th>usd_volume</th>\n      <th>volatility</th>\n      <th>cnt</th>\n      <th>ret</th>\n      <th>rf_rate</th>\n      <th>momentum</th>\n      <th>momentum2</th>\n    </tr>\n    <tr>\n      <th>date</th>\n      <th></th>\n      <th></th>\n      <th></th>\n      <th></th>\n      <th></th>\n      <th></th>\n      <th></th>\n      <th></th>\n      <th></th>\n      <th></th>\n      <th></th>\n      <th></th>\n    </tr>\n  </thead>\n  <tbody>\n    <tr>\n      <th>2016-01-12</th>\n      <td>448.00</td>\n      <td>434.850000</td>\n      <td>448.00</td>\n      <td>434.35</td>\n      <td>8009.838089</td>\n      <td>3.548860e+06</td>\n      <td>0.000910</td>\n      <td>1440</td>\n      <td>-0.029353</td>\n      <td>0.02102</td>\n      <td>-0.250657</td>\n      <td>0.009148</td>\n    </tr>\n    <tr>\n      <th>2016-01-13</th>\n      <td>434.78</td>\n      <td>432.640000</td>\n      <td>438.35</td>\n      <td>424.50</td>\n      <td>11352.515413</td>\n      <td>4.880889e+06</td>\n      <td>0.001117</td>\n      <td>1440</td>\n      <td>-0.005082</td>\n      <td>0.02066</td>\n      <td>-0.260777</td>\n      <td>-0.002724</td>\n    </tr>\n    <tr>\n      <th>2016-01-14</th>\n      <td>432.64</td>\n      <td>429.585714</td>\n      <td>434.00</td>\n      <td>427.00</td>\n      <td>6057.616550</td>\n      <td>2.608535e+06</td>\n      <td>0.000702</td>\n      <td>1440</td>\n      <td>-0.007060</td>\n      <td>0.02098</td>\n      <td>-0.265397</td>\n      <td>-0.008782</td>\n    </tr>\n    <tr>\n      <th>2016-01-15</th>\n      <td>429.55</td>\n      <td>360.000000</td>\n      <td>429.80</td>\n      <td>360.00</td>\n      <td>38173.637640</td>\n      <td>1.510499e+07</td>\n      <td>0.002260</td>\n      <td>1440</td>\n      <td>-0.161983</td>\n      <td>0.02033</td>\n      <td>-0.434636</td>\n      <td>-0.180097</td>\n    </tr>\n    <tr>\n      <th>2016-01-16</th>\n      <td>360.62</td>\n      <td>386.910000</td>\n      <td>392.07</td>\n      <td>352.00</td>\n      <td>26809.800368</td>\n      <td>9.974762e+06</td>\n      <td>0.002068</td>\n      <td>1440</td>\n      <td>0.074750</td>\n      <td>0.02035</td>\n      <td>-0.367727</td>\n      <td>-0.115244</td>\n    </tr>\n    <tr>\n      <th>...</th>\n      <td>...</td>\n      <td>...</td>\n      <td>...</td>\n      <td>...</td>\n      <td>...</td>\n      <td>...</td>\n      <td>...</td>\n      <td>...</td>\n      <td>...</td>\n      <td>...</td>\n      <td>...</td>\n      <td>...</td>\n    </tr>\n    <tr>\n      <th>2019-04-27</th>\n      <td>5154.11</td>\n      <td>5168.910000</td>\n      <td>5218.31</td>\n      <td>5113.00</td>\n      <td>4147.391780</td>\n      <td>2.140799e+07</td>\n      <td>0.000548</td>\n      <td>1440</td>\n      <td>0.002661</td>\n      <td>0.02536</td>\n      <td>-0.276054</td>\n      <td>0.027777</td>\n    </tr>\n    <tr>\n      <th>2019-04-28</th>\n      <td>5171.51</td>\n      <td>5160.980000</td>\n      <td>5213.23</td>\n      <td>5099.00</td>\n      <td>4067.481115</td>\n      <td>2.100555e+07</td>\n      <td>0.000517</td>\n      <td>1440</td>\n      <td>-0.001534</td>\n      <td>0.02536</td>\n      <td>-0.311284</td>\n      <td>-0.007999</td>\n    </tr>\n    <tr>\n      <th>2019-04-29</th>\n      <td>5152.98</td>\n      <td>5149.110000</td>\n      <td>5191.96</td>\n      <td>5071.58</td>\n      <td>5842.740260</td>\n      <td>3.008434e+07</td>\n      <td>0.000634</td>\n      <td>1440</td>\n      <td>-0.002300</td>\n      <td>0.02536</td>\n      <td>-0.319037</td>\n      <td>-0.016298</td>\n    </tr>\n    <tr>\n      <th>2019-04-30</th>\n      <td>5150.21</td>\n      <td>5269.000000</td>\n      <td>5287.40</td>\n      <td>5127.05</td>\n      <td>5088.041423</td>\n      <td>2.651356e+07</td>\n      <td>0.000594</td>\n      <td>1440</td>\n      <td>0.023284</td>\n      <td>0.02509</td>\n      <td>-0.304469</td>\n      <td>-0.002228</td>\n    </tr>\n    <tr>\n      <th>2019-05-01</th>\n      <td>5267.86</td>\n      <td>5318.420000</td>\n      <td>5357.96</td>\n      <td>5263.03</td>\n      <td>4276.783394</td>\n      <td>2.268529e+07</td>\n      <td>0.000470</td>\n      <td>1440</td>\n      <td>0.009379</td>\n      <td>0.02511</td>\n      <td>-0.296096</td>\n      <td>0.005375</td>\n    </tr>\n  </tbody>\n</table>\n<p>1206 rows × 12 columns</p>\n</div>"
     },
     "execution_count": 10,
     "metadata": {},
     "output_type": "execute_result"
    }
   ],
   "source": [
    "df1.dropna(inplace=True)\n",
    "df1"
   ],
   "metadata": {
    "collapsed": false,
    "ExecuteTime": {
     "end_time": "2023-12-11T05:30:07.096093Z",
     "start_time": "2023-12-11T05:30:07.059631Z"
    }
   },
   "id": "af4f867de508d5e5"
  },
  {
   "cell_type": "code",
   "execution_count": 11,
   "outputs": [
    {
     "data": {
      "text/plain": "<Figure size 640x480 with 1 Axes>",
      "image/png": "[encoded data removed]"
     },
     "metadata": {},
     "output_type": "display_data"
    }
   ],
   "source": [
    "plt.scatter(df1['momentum'], df1['ret'], s=10)\n",
    "plt.scatter(df1['momentum2'], df1['ret'], s=10)\n",
    "plt.show()"
   ],
   "metadata": {
    "collapsed": false,
    "ExecuteTime": {
     "end_time": "2023-12-11T05:30:11.141598Z",
     "start_time": "2023-12-11T05:30:10.577932Z"
    }
   },
   "id": "24afb5eaf6f26b57"
  },
  {
   "cell_type": "code",
   "execution_count": 12,
   "outputs": [
    {
     "data": {
      "text/plain": "0.2872690553982472"
     },
     "execution_count": 12,
     "metadata": {},
     "output_type": "execute_result"
    }
   ],
   "source": [
    "df1['momentum'].corr(df1['ret'])"
   ],
   "metadata": {
    "collapsed": false,
    "ExecuteTime": {
     "end_time": "2023-12-11T05:30:18.137680Z",
     "start_time": "2023-12-11T05:30:18.129778Z"
    }
   },
   "id": "52b1f88bd03a734b"
  },
  {
   "cell_type": "code",
   "execution_count": 13,
   "outputs": [
    {
     "data": {
      "text/plain": "0.3053805946592819"
     },
     "execution_count": 13,
     "metadata": {},
     "output_type": "execute_result"
    }
   ],
   "source": [
    "df1['momentum2'].corr(df1['ret'])"
   ],
   "metadata": {
    "collapsed": false,
    "ExecuteTime": {
     "end_time": "2023-12-11T05:30:19.774646Z",
     "start_time": "2023-12-11T05:30:19.758036Z"
    }
   },
   "id": "b947cd5202c5f313"
  },
  {
   "cell_type": "markdown",
   "source": [
    "### Test Vol vs Ret"
   ],
   "metadata": {
    "collapsed": false
   },
   "id": "3891356eb39d234c"
  },
  {
   "cell_type": "code",
   "execution_count": 14,
   "outputs": [
    {
     "data": {
      "text/plain": "0.024229460003144816"
     },
     "execution_count": 14,
     "metadata": {},
     "output_type": "execute_result"
    }
   ],
   "source": [
    "df1['volatility'].corr(df1['ret'])"
   ],
   "metadata": {
    "collapsed": false,
    "ExecuteTime": {
     "end_time": "2023-12-11T05:30:23.291365Z",
     "start_time": "2023-12-11T05:30:23.287431Z"
    }
   },
   "id": "c5e11d30b19c86b3"
  },
  {
   "cell_type": "code",
   "execution_count": 119,
   "outputs": [
    {
     "data": {
      "text/plain": "date\n2016-01-12    0.017379\n2016-01-13    0.021347\n2016-01-14    0.013407\n2016-01-15    0.043182\n2016-01-16    0.039517\n                ...   \n2019-04-27    0.010465\n2019-04-28    0.009884\n2019-04-29    0.012106\n2019-04-30    0.011355\n2019-05-01    0.008977\nName: volatility, Length: 1206, dtype: float64"
     },
     "execution_count": 119,
     "metadata": {},
     "output_type": "execute_result"
    }
   ],
   "source": [
    "df1['volatility'] * np.sqrt(365)"
   ],
   "metadata": {
    "collapsed": false,
    "ExecuteTime": {
     "end_time": "2023-12-11T02:21:10.952212Z",
     "start_time": "2023-12-11T02:21:10.944311Z"
    }
   },
   "id": "e3e0b042383c4a32"
  },
  {
   "cell_type": "code",
   "execution_count": 124,
   "outputs": [
    {
     "data": {
      "text/plain": "[<matplotlib.lines.Line2D at 0x3628ac110>]"
     },
     "execution_count": 124,
     "metadata": {},
     "output_type": "execute_result"
    },
    {
     "data": {
      "text/plain": "<Figure size 640x480 with 1 Axes>",
      "image/png": "[encoded data removed]"
     },
     "metadata": {},
     "output_type": "display_data"
    }
   ],
   "source": [
    "seq1 = np.log(df1['volatility']* np.sqrt(365)) \n",
    "plt.plot(seq1 - seq1.mean())"
   ],
   "metadata": {
    "collapsed": false,
    "ExecuteTime": {
     "end_time": "2023-12-11T02:22:42.385528Z",
     "start_time": "2023-12-11T02:22:40.664938Z"
    }
   },
   "id": "8937c922b36f088f"
  },
  {
   "cell_type": "code",
   "execution_count": 166,
   "outputs": [
    {
     "ename": "NameError",
     "evalue": "name 'seq1' is not defined",
     "output_type": "error",
     "traceback": [
      "\u001B[0;31m---------------------------------------------------------------------------\u001B[0m",
      "\u001B[0;31mNameError\u001B[0m                                 Traceback (most recent call last)",
      "Cell \u001B[0;32mIn[166], line 1\u001B[0m\n\u001B[0;32m----> 1\u001B[0m (seq1 \u001B[38;5;241m-\u001B[39m seq1\u001B[38;5;241m.\u001B[39mshift(\u001B[38;5;241m-\u001B[39m\u001B[38;5;241m1\u001B[39m))\u001B[38;5;241m.\u001B[39mcorr(df1[\u001B[38;5;124m'\u001B[39m\u001B[38;5;124mret\u001B[39m\u001B[38;5;124m'\u001B[39m])\n",
      "\u001B[0;31mNameError\u001B[0m: name 'seq1' is not defined"
     ]
    }
   ],
   "source": [
    "(seq1 - seq1.shift(-1)).corr(df1['ret'])"
   ],
   "metadata": {
    "collapsed": false,
    "ExecuteTime": {
     "end_time": "2023-12-11T10:36:34.985953Z",
     "start_time": "2023-12-11T10:36:34.963541Z"
    }
   },
   "id": "31181f7c9fbb9ee"
  },
  {
   "cell_type": "code",
   "execution_count": 126,
   "outputs": [
    {
     "data": {
      "text/plain": "0.6958518319325279"
     },
     "execution_count": 126,
     "metadata": {},
     "output_type": "execute_result"
    }
   ],
   "source": [
    "seq1.corr(seq1.shift(1))"
   ],
   "metadata": {
    "collapsed": false,
    "ExecuteTime": {
     "end_time": "2023-12-11T02:23:23.734456Z",
     "start_time": "2023-12-11T02:23:23.718131Z"
    }
   },
   "id": "e372703dee5fe69a"
  },
  {
   "cell_type": "code",
   "execution_count": 134,
   "outputs": [
    {
     "ename": "AttributeError",
     "evalue": "Rectangle.set() got an unexpected keyword argument 'max'",
     "output_type": "error",
     "traceback": [
      "\u001B[0;31m---------------------------------------------------------------------------\u001B[0m",
      "\u001B[0;31mAttributeError\u001B[0m                            Traceback (most recent call last)",
      "Cell \u001B[0;32mIn[134], line 1\u001B[0m\n\u001B[0;32m----> 1\u001B[0m plt\u001B[38;5;241m.\u001B[39mhist(df1[\u001B[38;5;124m'\u001B[39m\u001B[38;5;124mvolatility\u001B[39m\u001B[38;5;124m'\u001B[39m], bins\u001B[38;5;241m=\u001B[39m\u001B[38;5;241m5\u001B[39m, \u001B[38;5;28mmax\u001B[39m\u001B[38;5;241m=\u001B[39m\u001B[38;5;241m0.1\u001B[39m)\n",
      "File \u001B[0;32m~/anaconda3/lib/python3.11/site-packages/matplotlib/pyplot.py:2645\u001B[0m, in \u001B[0;36mhist\u001B[0;34m(x, bins, range, density, weights, cumulative, bottom, histtype, align, orientation, rwidth, log, color, label, stacked, data, **kwargs)\u001B[0m\n\u001B[1;32m   2639\u001B[0m \u001B[38;5;129m@_copy_docstring_and_deprecators\u001B[39m(Axes\u001B[38;5;241m.\u001B[39mhist)\n\u001B[1;32m   2640\u001B[0m \u001B[38;5;28;01mdef\u001B[39;00m \u001B[38;5;21mhist\u001B[39m(\n\u001B[1;32m   2641\u001B[0m         x, bins\u001B[38;5;241m=\u001B[39m\u001B[38;5;28;01mNone\u001B[39;00m, \u001B[38;5;28mrange\u001B[39m\u001B[38;5;241m=\u001B[39m\u001B[38;5;28;01mNone\u001B[39;00m, density\u001B[38;5;241m=\u001B[39m\u001B[38;5;28;01mFalse\u001B[39;00m, weights\u001B[38;5;241m=\u001B[39m\u001B[38;5;28;01mNone\u001B[39;00m,\n\u001B[1;32m   2642\u001B[0m         cumulative\u001B[38;5;241m=\u001B[39m\u001B[38;5;28;01mFalse\u001B[39;00m, bottom\u001B[38;5;241m=\u001B[39m\u001B[38;5;28;01mNone\u001B[39;00m, histtype\u001B[38;5;241m=\u001B[39m\u001B[38;5;124m'\u001B[39m\u001B[38;5;124mbar\u001B[39m\u001B[38;5;124m'\u001B[39m, align\u001B[38;5;241m=\u001B[39m\u001B[38;5;124m'\u001B[39m\u001B[38;5;124mmid\u001B[39m\u001B[38;5;124m'\u001B[39m,\n\u001B[1;32m   2643\u001B[0m         orientation\u001B[38;5;241m=\u001B[39m\u001B[38;5;124m'\u001B[39m\u001B[38;5;124mvertical\u001B[39m\u001B[38;5;124m'\u001B[39m, rwidth\u001B[38;5;241m=\u001B[39m\u001B[38;5;28;01mNone\u001B[39;00m, log\u001B[38;5;241m=\u001B[39m\u001B[38;5;28;01mFalse\u001B[39;00m, color\u001B[38;5;241m=\u001B[39m\u001B[38;5;28;01mNone\u001B[39;00m,\n\u001B[1;32m   2644\u001B[0m         label\u001B[38;5;241m=\u001B[39m\u001B[38;5;28;01mNone\u001B[39;00m, stacked\u001B[38;5;241m=\u001B[39m\u001B[38;5;28;01mFalse\u001B[39;00m, \u001B[38;5;241m*\u001B[39m, data\u001B[38;5;241m=\u001B[39m\u001B[38;5;28;01mNone\u001B[39;00m, \u001B[38;5;241m*\u001B[39m\u001B[38;5;241m*\u001B[39mkwargs):\n\u001B[0;32m-> 2645\u001B[0m     \u001B[38;5;28;01mreturn\u001B[39;00m gca()\u001B[38;5;241m.\u001B[39mhist(\n\u001B[1;32m   2646\u001B[0m         x, bins\u001B[38;5;241m=\u001B[39mbins, \u001B[38;5;28mrange\u001B[39m\u001B[38;5;241m=\u001B[39m\u001B[38;5;28mrange\u001B[39m, density\u001B[38;5;241m=\u001B[39mdensity, weights\u001B[38;5;241m=\u001B[39mweights,\n\u001B[1;32m   2647\u001B[0m         cumulative\u001B[38;5;241m=\u001B[39mcumulative, bottom\u001B[38;5;241m=\u001B[39mbottom, histtype\u001B[38;5;241m=\u001B[39mhisttype,\n\u001B[1;32m   2648\u001B[0m         align\u001B[38;5;241m=\u001B[39malign, orientation\u001B[38;5;241m=\u001B[39morientation, rwidth\u001B[38;5;241m=\u001B[39mrwidth, log\u001B[38;5;241m=\u001B[39mlog,\n\u001B[1;32m   2649\u001B[0m         color\u001B[38;5;241m=\u001B[39mcolor, label\u001B[38;5;241m=\u001B[39mlabel, stacked\u001B[38;5;241m=\u001B[39mstacked,\n\u001B[1;32m   2650\u001B[0m         \u001B[38;5;241m*\u001B[39m\u001B[38;5;241m*\u001B[39m({\u001B[38;5;124m\"\u001B[39m\u001B[38;5;124mdata\u001B[39m\u001B[38;5;124m\"\u001B[39m: data} \u001B[38;5;28;01mif\u001B[39;00m data \u001B[38;5;129;01mis\u001B[39;00m \u001B[38;5;129;01mnot\u001B[39;00m \u001B[38;5;28;01mNone\u001B[39;00m \u001B[38;5;28;01melse\u001B[39;00m {}), \u001B[38;5;241m*\u001B[39m\u001B[38;5;241m*\u001B[39mkwargs)\n",
      "File \u001B[0;32m~/anaconda3/lib/python3.11/site-packages/matplotlib/__init__.py:1446\u001B[0m, in \u001B[0;36m_preprocess_data.<locals>.inner\u001B[0;34m(ax, data, *args, **kwargs)\u001B[0m\n\u001B[1;32m   1443\u001B[0m \u001B[38;5;129m@functools\u001B[39m\u001B[38;5;241m.\u001B[39mwraps(func)\n\u001B[1;32m   1444\u001B[0m \u001B[38;5;28;01mdef\u001B[39;00m \u001B[38;5;21minner\u001B[39m(ax, \u001B[38;5;241m*\u001B[39margs, data\u001B[38;5;241m=\u001B[39m\u001B[38;5;28;01mNone\u001B[39;00m, \u001B[38;5;241m*\u001B[39m\u001B[38;5;241m*\u001B[39mkwargs):\n\u001B[1;32m   1445\u001B[0m     \u001B[38;5;28;01mif\u001B[39;00m data \u001B[38;5;129;01mis\u001B[39;00m \u001B[38;5;28;01mNone\u001B[39;00m:\n\u001B[0;32m-> 1446\u001B[0m         \u001B[38;5;28;01mreturn\u001B[39;00m func(ax, \u001B[38;5;241m*\u001B[39m\u001B[38;5;28mmap\u001B[39m(sanitize_sequence, args), \u001B[38;5;241m*\u001B[39m\u001B[38;5;241m*\u001B[39mkwargs)\n\u001B[1;32m   1448\u001B[0m     bound \u001B[38;5;241m=\u001B[39m new_sig\u001B[38;5;241m.\u001B[39mbind(ax, \u001B[38;5;241m*\u001B[39margs, \u001B[38;5;241m*\u001B[39m\u001B[38;5;241m*\u001B[39mkwargs)\n\u001B[1;32m   1449\u001B[0m     auto_label \u001B[38;5;241m=\u001B[39m (bound\u001B[38;5;241m.\u001B[39marguments\u001B[38;5;241m.\u001B[39mget(label_namer)\n\u001B[1;32m   1450\u001B[0m                   \u001B[38;5;129;01mor\u001B[39;00m bound\u001B[38;5;241m.\u001B[39mkwargs\u001B[38;5;241m.\u001B[39mget(label_namer))\n",
      "File \u001B[0;32m~/anaconda3/lib/python3.11/site-packages/matplotlib/axes/_axes.py:6944\u001B[0m, in \u001B[0;36mAxes.hist\u001B[0;34m(self, x, bins, range, density, weights, cumulative, bottom, histtype, align, orientation, rwidth, log, color, label, stacked, **kwargs)\u001B[0m\n\u001B[1;32m   6942\u001B[0m \u001B[38;5;28;01mif\u001B[39;00m patch:\n\u001B[1;32m   6943\u001B[0m     p \u001B[38;5;241m=\u001B[39m patch[\u001B[38;5;241m0\u001B[39m]\n\u001B[0;32m-> 6944\u001B[0m     p\u001B[38;5;241m.\u001B[39m_internal_update(kwargs)\n\u001B[1;32m   6945\u001B[0m     \u001B[38;5;28;01mif\u001B[39;00m lbl \u001B[38;5;129;01mis\u001B[39;00m \u001B[38;5;129;01mnot\u001B[39;00m \u001B[38;5;28;01mNone\u001B[39;00m:\n\u001B[1;32m   6946\u001B[0m         p\u001B[38;5;241m.\u001B[39mset_label(lbl)\n",
      "File \u001B[0;32m~/anaconda3/lib/python3.11/site-packages/matplotlib/artist.py:1223\u001B[0m, in \u001B[0;36mArtist._internal_update\u001B[0;34m(self, kwargs)\u001B[0m\n\u001B[1;32m   1216\u001B[0m \u001B[38;5;28;01mdef\u001B[39;00m \u001B[38;5;21m_internal_update\u001B[39m(\u001B[38;5;28mself\u001B[39m, kwargs):\n\u001B[1;32m   1217\u001B[0m \u001B[38;5;250m    \u001B[39m\u001B[38;5;124;03m\"\"\"\u001B[39;00m\n\u001B[1;32m   1218\u001B[0m \u001B[38;5;124;03m    Update artist properties without prenormalizing them, but generating\u001B[39;00m\n\u001B[1;32m   1219\u001B[0m \u001B[38;5;124;03m    errors as if calling `set`.\u001B[39;00m\n\u001B[1;32m   1220\u001B[0m \n\u001B[1;32m   1221\u001B[0m \u001B[38;5;124;03m    The lack of prenormalization is to maintain backcompatibility.\u001B[39;00m\n\u001B[1;32m   1222\u001B[0m \u001B[38;5;124;03m    \"\"\"\u001B[39;00m\n\u001B[0;32m-> 1223\u001B[0m     \u001B[38;5;28;01mreturn\u001B[39;00m \u001B[38;5;28mself\u001B[39m\u001B[38;5;241m.\u001B[39m_update_props(\n\u001B[1;32m   1224\u001B[0m         kwargs, \u001B[38;5;124m\"\u001B[39m\u001B[38;5;132;01m{cls.__name__}\u001B[39;00m\u001B[38;5;124m.set() got an unexpected keyword argument \u001B[39m\u001B[38;5;124m\"\u001B[39m\n\u001B[1;32m   1225\u001B[0m         \u001B[38;5;124m\"\u001B[39m\u001B[38;5;132;01m{prop_name!r}\u001B[39;00m\u001B[38;5;124m\"\u001B[39m)\n",
      "File \u001B[0;32m~/anaconda3/lib/python3.11/site-packages/matplotlib/artist.py:1197\u001B[0m, in \u001B[0;36mArtist._update_props\u001B[0;34m(self, props, errfmt)\u001B[0m\n\u001B[1;32m   1195\u001B[0m             func \u001B[38;5;241m=\u001B[39m \u001B[38;5;28mgetattr\u001B[39m(\u001B[38;5;28mself\u001B[39m, \u001B[38;5;124mf\u001B[39m\u001B[38;5;124m\"\u001B[39m\u001B[38;5;124mset_\u001B[39m\u001B[38;5;132;01m{\u001B[39;00mk\u001B[38;5;132;01m}\u001B[39;00m\u001B[38;5;124m\"\u001B[39m, \u001B[38;5;28;01mNone\u001B[39;00m)\n\u001B[1;32m   1196\u001B[0m             \u001B[38;5;28;01mif\u001B[39;00m \u001B[38;5;129;01mnot\u001B[39;00m \u001B[38;5;28mcallable\u001B[39m(func):\n\u001B[0;32m-> 1197\u001B[0m                 \u001B[38;5;28;01mraise\u001B[39;00m \u001B[38;5;167;01mAttributeError\u001B[39;00m(\n\u001B[1;32m   1198\u001B[0m                     errfmt\u001B[38;5;241m.\u001B[39mformat(\u001B[38;5;28mcls\u001B[39m\u001B[38;5;241m=\u001B[39m\u001B[38;5;28mtype\u001B[39m(\u001B[38;5;28mself\u001B[39m), prop_name\u001B[38;5;241m=\u001B[39mk))\n\u001B[1;32m   1199\u001B[0m             ret\u001B[38;5;241m.\u001B[39mappend(func(v))\n\u001B[1;32m   1200\u001B[0m \u001B[38;5;28;01mif\u001B[39;00m ret:\n",
      "\u001B[0;31mAttributeError\u001B[0m: Rectangle.set() got an unexpected keyword argument 'max'"
     ]
    },
    {
     "data": {
      "text/plain": "<Figure size 640x480 with 1 Axes>",
      "image/png": "[encoded data removed]"
     },
     "metadata": {},
     "output_type": "display_data"
    }
   ],
   "source": [
    "plt.hist(df1['volatility'], bins=5, max=0.1)"
   ],
   "metadata": {
    "collapsed": false,
    "ExecuteTime": {
     "end_time": "2023-12-11T02:27:53.614487Z",
     "start_time": "2023-12-11T02:27:53.463880Z"
    }
   },
   "id": "aeb3e39e35f80e21"
  },
  {
   "cell_type": "markdown",
   "source": [
    "## Beta"
   ],
   "metadata": {
    "collapsed": false
   },
   "id": "de0aed79e722fd1b"
  },
  {
   "cell_type": "code",
   "execution_count": 15,
   "outputs": [],
   "source": [
    "spy_df = pd.read_csv('SPY.csv')"
   ],
   "metadata": {
    "collapsed": false,
    "ExecuteTime": {
     "end_time": "2023-12-11T05:30:30.128410Z",
     "start_time": "2023-12-11T05:30:30.118021Z"
    }
   },
   "id": "e94bf0bbce1e9702"
  },
  {
   "cell_type": "code",
   "execution_count": 136,
   "outputs": [
    {
     "data": {
      "text/plain": "            Date        Open        High         Low       Close   Adj Close  \\\n0     2016-01-04  200.490005  201.029999  198.589996  201.020004  175.291794   \n1     2016-01-05  201.399994  201.899994  200.050003  201.360001  175.588257   \n2     2016-01-06  198.339996  200.059998  197.600006  198.820007  173.373367   \n3     2016-01-07  195.330002  197.440002  193.589996  194.050003  169.213852   \n4     2016-01-08  195.190002  195.850006  191.580002  191.919998  167.356506   \n...          ...         ...         ...         ...         ...         ...   \n1001  2019-12-24  321.470001  321.519989  320.899994  321.230011  302.863373   \n1002  2019-12-26  321.649994  322.950012  321.640015  322.940002  304.475616   \n1003  2019-12-27  323.739990  323.799988  322.279999  322.859985  304.400208   \n1004  2019-12-30  322.950012  323.100006  320.549988  321.079987  302.721954   \n1005  2019-12-31  320.529999  322.130005  320.149994  321.859985  303.457367   \n\n         Volume  \n0     222353500  \n1     110845800  \n2     152112600  \n3     213436100  \n4     209817200  \n...         ...  \n1001   20270000  \n1002   30911200  \n1003   42528800  \n1004   49729100  \n1005   57077300  \n\n[1006 rows x 7 columns]",
      "text/html": "<div>\n<style scoped>\n    .dataframe tbody tr th:only-of-type {\n        vertical-align: middle;\n    }\n\n    .dataframe tbody tr th {\n        vertical-align: top;\n    }\n\n    .dataframe thead th {\n        text-align: right;\n    }\n</style>\n<table border=\"1\" class=\"dataframe\">\n  <thead>\n    <tr style=\"text-align: right;\">\n      <th></th>\n      <th>Date</th>\n      <th>Open</th>\n      <th>High</th>\n      <th>Low</th>\n      <th>Close</th>\n      <th>Adj Close</th>\n      <th>Volume</th>\n    </tr>\n  </thead>\n  <tbody>\n    <tr>\n      <th>0</th>\n      <td>2016-01-04</td>\n      <td>200.490005</td>\n      <td>201.029999</td>\n      <td>198.589996</td>\n      <td>201.020004</td>\n      <td>175.291794</td>\n      <td>222353500</td>\n    </tr>\n    <tr>\n      <th>1</th>\n      <td>2016-01-05</td>\n      <td>201.399994</td>\n      <td>201.899994</td>\n      <td>200.050003</td>\n      <td>201.360001</td>\n      <td>175.588257</td>\n      <td>110845800</td>\n    </tr>\n    <tr>\n      <th>2</th>\n      <td>2016-01-06</td>\n      <td>198.339996</td>\n      <td>200.059998</td>\n      <td>197.600006</td>\n      <td>198.820007</td>\n      <td>173.373367</td>\n      <td>152112600</td>\n    </tr>\n    <tr>\n      <th>3</th>\n      <td>2016-01-07</td>\n      <td>195.330002</td>\n      <td>197.440002</td>\n      <td>193.589996</td>\n      <td>194.050003</td>\n      <td>169.213852</td>\n      <td>213436100</td>\n    </tr>\n    <tr>\n      <th>4</th>\n      <td>2016-01-08</td>\n      <td>195.190002</td>\n      <td>195.850006</td>\n      <td>191.580002</td>\n      <td>191.919998</td>\n      <td>167.356506</td>\n      <td>209817200</td>\n    </tr>\n    <tr>\n      <th>...</th>\n      <td>...</td>\n      <td>...</td>\n      <td>...</td>\n      <td>...</td>\n      <td>...</td>\n      <td>...</td>\n      <td>...</td>\n    </tr>\n    <tr>\n      <th>1001</th>\n      <td>2019-12-24</td>\n      <td>321.470001</td>\n      <td>321.519989</td>\n      <td>320.899994</td>\n      <td>321.230011</td>\n      <td>302.863373</td>\n      <td>20270000</td>\n    </tr>\n    <tr>\n      <th>1002</th>\n      <td>2019-12-26</td>\n      <td>321.649994</td>\n      <td>322.950012</td>\n      <td>321.640015</td>\n      <td>322.940002</td>\n      <td>304.475616</td>\n      <td>30911200</td>\n    </tr>\n    <tr>\n      <th>1003</th>\n      <td>2019-12-27</td>\n      <td>323.739990</td>\n      <td>323.799988</td>\n      <td>322.279999</td>\n      <td>322.859985</td>\n      <td>304.400208</td>\n      <td>42528800</td>\n    </tr>\n    <tr>\n      <th>1004</th>\n      <td>2019-12-30</td>\n      <td>322.950012</td>\n      <td>323.100006</td>\n      <td>320.549988</td>\n      <td>321.079987</td>\n      <td>302.721954</td>\n      <td>49729100</td>\n    </tr>\n    <tr>\n      <th>1005</th>\n      <td>2019-12-31</td>\n      <td>320.529999</td>\n      <td>322.130005</td>\n      <td>320.149994</td>\n      <td>321.859985</td>\n      <td>303.457367</td>\n      <td>57077300</td>\n    </tr>\n  </tbody>\n</table>\n<p>1006 rows × 7 columns</p>\n</div>"
     },
     "execution_count": 136,
     "metadata": {},
     "output_type": "execute_result"
    }
   ],
   "source": [
    "spy_df"
   ],
   "metadata": {
    "collapsed": false,
    "ExecuteTime": {
     "end_time": "2023-12-11T02:32:08.084923Z",
     "start_time": "2023-12-11T02:32:08.061869Z"
    }
   },
   "id": "bdeccff57f993200"
  },
  {
   "cell_type": "code",
   "execution_count": 137,
   "outputs": [],
   "source": [
    "df2 = df.set_index('date').join(spy_df[['Date', 'Adj Close']].set_index('Date'), \n",
    "                               how='left', rsuffix='_spy')"
   ],
   "metadata": {
    "collapsed": false,
    "ExecuteTime": {
     "end_time": "2023-12-11T02:33:23.277445Z",
     "start_time": "2023-12-11T02:33:23.260321Z"
    }
   },
   "id": "bd8623209446b142"
  },
  {
   "cell_type": "code",
   "execution_count": 144,
   "outputs": [
    {
     "data": {
      "text/plain": "                   open     close     high      low   btc_volume  \\\ndate                                                               \n2016-01-01   430.516667   433.820   436.00   427.20  5570.202208   \n2016-01-02   434.870000   433.375   435.99   430.42  4521.763130   \n2016-01-03   433.200000   431.040   434.09   424.06  5961.158565   \n2016-01-04   431.540000   434.170   435.86   428.44  7583.504915   \n2016-01-05   433.310000   432.430   435.39   429.50  5350.234219   \n...                 ...       ...      ...      ...          ...   \n2019-04-27  5154.110000  5168.910  5218.31  5113.00  4147.391780   \n2019-04-28  5171.510000  5160.980  5213.23  5099.00  4067.481115   \n2019-04-29  5152.980000  5149.110  5191.96  5071.58  5842.740260   \n2019-04-30  5150.210000  5269.000  5287.40  5127.05  5088.041423   \n2019-05-01  5267.860000  5318.420  5357.96  5263.03  4276.783394   \n\n              usd_volume  volatility   cnt       ret   Adj Close  market_ret  \ndate                                                                          \n2016-01-01  2.411393e+06    0.001202  1440  0.006800         NaN         NaN  \n2016-01-02  1.959375e+06    0.000796  1440 -0.001026         NaN         NaN  \n2016-01-03  2.556935e+06    0.001065  1440 -0.005388         NaN         NaN  \n2016-01-04  3.280781e+06    0.000880  1440  0.007262  175.291794         NaN  \n2016-01-05  2.312794e+06    0.000557  1440 -0.004008  175.588257    0.001691  \n...                  ...         ...   ...       ...         ...         ...  \n2019-04-27  2.140799e+07    0.000548  1440  0.002661         NaN         NaN  \n2019-04-28  2.100555e+07    0.000517  1440 -0.001534         NaN         NaN  \n2019-04-29  3.008434e+07    0.000634  1440 -0.002300  273.116425    0.001568  \n2019-04-30  2.651356e+07    0.000594  1440  0.023284  273.255798    0.000510  \n2019-05-01  2.268529e+07    0.000470  1440  0.009379  271.201935   -0.007516  \n\n[1217 rows x 11 columns]",
      "text/html": "<div>\n<style scoped>\n    .dataframe tbody tr th:only-of-type {\n        vertical-align: middle;\n    }\n\n    .dataframe tbody tr th {\n        vertical-align: top;\n    }\n\n    .dataframe thead th {\n        text-align: right;\n    }\n</style>\n<table border=\"1\" class=\"dataframe\">\n  <thead>\n    <tr style=\"text-align: right;\">\n      <th></th>\n      <th>open</th>\n      <th>close</th>\n      <th>high</th>\n      <th>low</th>\n      <th>btc_volume</th>\n      <th>usd_volume</th>\n      <th>volatility</th>\n      <th>cnt</th>\n      <th>ret</th>\n      <th>Adj Close</th>\n      <th>market_ret</th>\n    </tr>\n    <tr>\n      <th>date</th>\n      <th></th>\n      <th></th>\n      <th></th>\n      <th></th>\n      <th></th>\n      <th></th>\n      <th></th>\n      <th></th>\n      <th></th>\n      <th></th>\n      <th></th>\n    </tr>\n  </thead>\n  <tbody>\n    <tr>\n      <th>2016-01-01</th>\n      <td>430.516667</td>\n      <td>433.820</td>\n      <td>436.00</td>\n      <td>427.20</td>\n      <td>5570.202208</td>\n      <td>2.411393e+06</td>\n      <td>0.001202</td>\n      <td>1440</td>\n      <td>0.006800</td>\n      <td>NaN</td>\n      <td>NaN</td>\n    </tr>\n    <tr>\n      <th>2016-01-02</th>\n      <td>434.870000</td>\n      <td>433.375</td>\n      <td>435.99</td>\n      <td>430.42</td>\n      <td>4521.763130</td>\n      <td>1.959375e+06</td>\n      <td>0.000796</td>\n      <td>1440</td>\n      <td>-0.001026</td>\n      <td>NaN</td>\n      <td>NaN</td>\n    </tr>\n    <tr>\n      <th>2016-01-03</th>\n      <td>433.200000</td>\n      <td>431.040</td>\n      <td>434.09</td>\n      <td>424.06</td>\n      <td>5961.158565</td>\n      <td>2.556935e+06</td>\n      <td>0.001065</td>\n      <td>1440</td>\n      <td>-0.005388</td>\n      <td>NaN</td>\n      <td>NaN</td>\n    </tr>\n    <tr>\n      <th>2016-01-04</th>\n      <td>431.540000</td>\n      <td>434.170</td>\n      <td>435.86</td>\n      <td>428.44</td>\n      <td>7583.504915</td>\n      <td>3.280781e+06</td>\n      <td>0.000880</td>\n      <td>1440</td>\n      <td>0.007262</td>\n      <td>175.291794</td>\n      <td>NaN</td>\n    </tr>\n    <tr>\n      <th>2016-01-05</th>\n      <td>433.310000</td>\n      <td>432.430</td>\n      <td>435.39</td>\n      <td>429.50</td>\n      <td>5350.234219</td>\n      <td>2.312794e+06</td>\n      <td>0.000557</td>\n      <td>1440</td>\n      <td>-0.004008</td>\n      <td>175.588257</td>\n      <td>0.001691</td>\n    </tr>\n    <tr>\n      <th>...</th>\n      <td>...</td>\n      <td>...</td>\n      <td>...</td>\n      <td>...</td>\n      <td>...</td>\n      <td>...</td>\n      <td>...</td>\n      <td>...</td>\n      <td>...</td>\n      <td>...</td>\n      <td>...</td>\n    </tr>\n    <tr>\n      <th>2019-04-27</th>\n      <td>5154.110000</td>\n      <td>5168.910</td>\n      <td>5218.31</td>\n      <td>5113.00</td>\n      <td>4147.391780</td>\n      <td>2.140799e+07</td>\n      <td>0.000548</td>\n      <td>1440</td>\n      <td>0.002661</td>\n      <td>NaN</td>\n      <td>NaN</td>\n    </tr>\n    <tr>\n      <th>2019-04-28</th>\n      <td>5171.510000</td>\n      <td>5160.980</td>\n      <td>5213.23</td>\n      <td>5099.00</td>\n      <td>4067.481115</td>\n      <td>2.100555e+07</td>\n      <td>0.000517</td>\n      <td>1440</td>\n      <td>-0.001534</td>\n      <td>NaN</td>\n      <td>NaN</td>\n    </tr>\n    <tr>\n      <th>2019-04-29</th>\n      <td>5152.980000</td>\n      <td>5149.110</td>\n      <td>5191.96</td>\n      <td>5071.58</td>\n      <td>5842.740260</td>\n      <td>3.008434e+07</td>\n      <td>0.000634</td>\n      <td>1440</td>\n      <td>-0.002300</td>\n      <td>273.116425</td>\n      <td>0.001568</td>\n    </tr>\n    <tr>\n      <th>2019-04-30</th>\n      <td>5150.210000</td>\n      <td>5269.000</td>\n      <td>5287.40</td>\n      <td>5127.05</td>\n      <td>5088.041423</td>\n      <td>2.651356e+07</td>\n      <td>0.000594</td>\n      <td>1440</td>\n      <td>0.023284</td>\n      <td>273.255798</td>\n      <td>0.000510</td>\n    </tr>\n    <tr>\n      <th>2019-05-01</th>\n      <td>5267.860000</td>\n      <td>5318.420</td>\n      <td>5357.96</td>\n      <td>5263.03</td>\n      <td>4276.783394</td>\n      <td>2.268529e+07</td>\n      <td>0.000470</td>\n      <td>1440</td>\n      <td>0.009379</td>\n      <td>271.201935</td>\n      <td>-0.007516</td>\n    </tr>\n  </tbody>\n</table>\n<p>1217 rows × 11 columns</p>\n</div>"
     },
     "execution_count": 144,
     "metadata": {},
     "output_type": "execute_result"
    }
   ],
   "source": [
    "df2['market_ret'] = df2['Adj Close'].dropna().pct_change()\n",
    "df2"
   ],
   "metadata": {
    "collapsed": false,
    "ExecuteTime": {
     "end_time": "2023-12-11T02:37:48.266096Z",
     "start_time": "2023-12-11T02:37:48.238421Z"
    }
   },
   "id": "504fb2237c8fa3b"
  },
  {
   "cell_type": "code",
   "execution_count": 145,
   "outputs": [],
   "source": [
    "df1['market_ret'] = df2['market_ret'][df1.index]"
   ],
   "metadata": {
    "collapsed": false,
    "ExecuteTime": {
     "end_time": "2023-12-11T02:38:04.198035Z",
     "start_time": "2023-12-11T02:38:04.178865Z"
    }
   },
   "id": "141723985308e077"
  },
  {
   "cell_type": "code",
   "execution_count": 146,
   "outputs": [
    {
     "data": {
      "text/plain": "               open        close     high      low    btc_volume  \\\ndate                                                               \n2016-01-12   448.00   434.850000   448.00   434.35   8009.838089   \n2016-01-13   434.78   432.640000   438.35   424.50  11352.515413   \n2016-01-14   432.64   429.585714   434.00   427.00   6057.616550   \n2016-01-15   429.55   360.000000   429.80   360.00  38173.637640   \n2016-01-16   360.62   386.910000   392.07   352.00  26809.800368   \n...             ...          ...      ...      ...           ...   \n2019-04-27  5154.11  5168.910000  5218.31  5113.00   4147.391780   \n2019-04-28  5171.51  5160.980000  5213.23  5099.00   4067.481115   \n2019-04-29  5152.98  5149.110000  5191.96  5071.58   5842.740260   \n2019-04-30  5150.21  5269.000000  5287.40  5127.05   5088.041423   \n2019-05-01  5267.86  5318.420000  5357.96  5263.03   4276.783394   \n\n              usd_volume  volatility   cnt       ret  rf_rate  momentum  \\\ndate                                                                      \n2016-01-12  3.548860e+06    0.000910  1440 -0.029353  0.02102 -0.250657   \n2016-01-13  4.880889e+06    0.001117  1440 -0.005082  0.02066 -0.260777   \n2016-01-14  2.608535e+06    0.000702  1440 -0.007060  0.02098 -0.265397   \n2016-01-15  1.510499e+07    0.002260  1440 -0.161983  0.02033 -0.434636   \n2016-01-16  9.974762e+06    0.002068  1440  0.074750  0.02035 -0.367727   \n...                  ...         ...   ...       ...      ...       ...   \n2019-04-27  2.140799e+07    0.000548  1440  0.002661  0.02536 -0.276054   \n2019-04-28  2.100555e+07    0.000517  1440 -0.001534  0.02536 -0.311284   \n2019-04-29  3.008434e+07    0.000634  1440 -0.002300  0.02536 -0.319037   \n2019-04-30  2.651356e+07    0.000594  1440  0.023284  0.02509 -0.304469   \n2019-05-01  2.268529e+07    0.000470  1440  0.009379  0.02511 -0.296096   \n\n            momentum2  market_ret  \ndate                               \n2016-01-12   0.009148    0.008068  \n2016-01-13  -0.002724   -0.024941  \n2016-01-14  -0.008782    0.016417  \n2016-01-15  -0.180097   -0.021466  \n2016-01-16  -0.115244         NaN  \n...               ...         ...  \n2019-04-27   0.027777         NaN  \n2019-04-28  -0.007999         NaN  \n2019-04-29  -0.016298    0.001568  \n2019-04-30  -0.002228    0.000510  \n2019-05-01   0.005375   -0.007516  \n\n[1206 rows x 13 columns]",
      "text/html": "<div>\n<style scoped>\n    .dataframe tbody tr th:only-of-type {\n        vertical-align: middle;\n    }\n\n    .dataframe tbody tr th {\n        vertical-align: top;\n    }\n\n    .dataframe thead th {\n        text-align: right;\n    }\n</style>\n<table border=\"1\" class=\"dataframe\">\n  <thead>\n    <tr style=\"text-align: right;\">\n      <th></th>\n      <th>open</th>\n      <th>close</th>\n      <th>high</th>\n      <th>low</th>\n      <th>btc_volume</th>\n      <th>usd_volume</th>\n      <th>volatility</th>\n      <th>cnt</th>\n      <th>ret</th>\n      <th>rf_rate</th>\n      <th>momentum</th>\n      <th>momentum2</th>\n      <th>market_ret</th>\n    </tr>\n    <tr>\n      <th>date</th>\n      <th></th>\n      <th></th>\n      <th></th>\n      <th></th>\n      <th></th>\n      <th></th>\n      <th></th>\n      <th></th>\n      <th></th>\n      <th></th>\n      <th></th>\n      <th></th>\n      <th></th>\n    </tr>\n  </thead>\n  <tbody>\n    <tr>\n      <th>2016-01-12</th>\n      <td>448.00</td>\n      <td>434.850000</td>\n      <td>448.00</td>\n      <td>434.35</td>\n      <td>8009.838089</td>\n      <td>3.548860e+06</td>\n      <td>0.000910</td>\n      <td>1440</td>\n      <td>-0.029353</td>\n      <td>0.02102</td>\n      <td>-0.250657</td>\n      <td>0.009148</td>\n      <td>0.008068</td>\n    </tr>\n    <tr>\n      <th>2016-01-13</th>\n      <td>434.78</td>\n      <td>432.640000</td>\n      <td>438.35</td>\n      <td>424.50</td>\n      <td>11352.515413</td>\n      <td>4.880889e+06</td>\n      <td>0.001117</td>\n      <td>1440</td>\n      <td>-0.005082</td>\n      <td>0.02066</td>\n      <td>-0.260777</td>\n      <td>-0.002724</td>\n      <td>-0.024941</td>\n    </tr>\n    <tr>\n      <th>2016-01-14</th>\n      <td>432.64</td>\n      <td>429.585714</td>\n      <td>434.00</td>\n      <td>427.00</td>\n      <td>6057.616550</td>\n      <td>2.608535e+06</td>\n      <td>0.000702</td>\n      <td>1440</td>\n      <td>-0.007060</td>\n      <td>0.02098</td>\n      <td>-0.265397</td>\n      <td>-0.008782</td>\n      <td>0.016417</td>\n    </tr>\n    <tr>\n      <th>2016-01-15</th>\n      <td>429.55</td>\n      <td>360.000000</td>\n      <td>429.80</td>\n      <td>360.00</td>\n      <td>38173.637640</td>\n      <td>1.510499e+07</td>\n      <td>0.002260</td>\n      <td>1440</td>\n      <td>-0.161983</td>\n      <td>0.02033</td>\n      <td>-0.434636</td>\n      <td>-0.180097</td>\n      <td>-0.021466</td>\n    </tr>\n    <tr>\n      <th>2016-01-16</th>\n      <td>360.62</td>\n      <td>386.910000</td>\n      <td>392.07</td>\n      <td>352.00</td>\n      <td>26809.800368</td>\n      <td>9.974762e+06</td>\n      <td>0.002068</td>\n      <td>1440</td>\n      <td>0.074750</td>\n      <td>0.02035</td>\n      <td>-0.367727</td>\n      <td>-0.115244</td>\n      <td>NaN</td>\n    </tr>\n    <tr>\n      <th>...</th>\n      <td>...</td>\n      <td>...</td>\n      <td>...</td>\n      <td>...</td>\n      <td>...</td>\n      <td>...</td>\n      <td>...</td>\n      <td>...</td>\n      <td>...</td>\n      <td>...</td>\n      <td>...</td>\n      <td>...</td>\n      <td>...</td>\n    </tr>\n    <tr>\n      <th>2019-04-27</th>\n      <td>5154.11</td>\n      <td>5168.910000</td>\n      <td>5218.31</td>\n      <td>5113.00</td>\n      <td>4147.391780</td>\n      <td>2.140799e+07</td>\n      <td>0.000548</td>\n      <td>1440</td>\n      <td>0.002661</td>\n      <td>0.02536</td>\n      <td>-0.276054</td>\n      <td>0.027777</td>\n      <td>NaN</td>\n    </tr>\n    <tr>\n      <th>2019-04-28</th>\n      <td>5171.51</td>\n      <td>5160.980000</td>\n      <td>5213.23</td>\n      <td>5099.00</td>\n      <td>4067.481115</td>\n      <td>2.100555e+07</td>\n      <td>0.000517</td>\n      <td>1440</td>\n      <td>-0.001534</td>\n      <td>0.02536</td>\n      <td>-0.311284</td>\n      <td>-0.007999</td>\n      <td>NaN</td>\n    </tr>\n    <tr>\n      <th>2019-04-29</th>\n      <td>5152.98</td>\n      <td>5149.110000</td>\n      <td>5191.96</td>\n      <td>5071.58</td>\n      <td>5842.740260</td>\n      <td>3.008434e+07</td>\n      <td>0.000634</td>\n      <td>1440</td>\n      <td>-0.002300</td>\n      <td>0.02536</td>\n      <td>-0.319037</td>\n      <td>-0.016298</td>\n      <td>0.001568</td>\n    </tr>\n    <tr>\n      <th>2019-04-30</th>\n      <td>5150.21</td>\n      <td>5269.000000</td>\n      <td>5287.40</td>\n      <td>5127.05</td>\n      <td>5088.041423</td>\n      <td>2.651356e+07</td>\n      <td>0.000594</td>\n      <td>1440</td>\n      <td>0.023284</td>\n      <td>0.02509</td>\n      <td>-0.304469</td>\n      <td>-0.002228</td>\n      <td>0.000510</td>\n    </tr>\n    <tr>\n      <th>2019-05-01</th>\n      <td>5267.86</td>\n      <td>5318.420000</td>\n      <td>5357.96</td>\n      <td>5263.03</td>\n      <td>4276.783394</td>\n      <td>2.268529e+07</td>\n      <td>0.000470</td>\n      <td>1440</td>\n      <td>0.009379</td>\n      <td>0.02511</td>\n      <td>-0.296096</td>\n      <td>0.005375</td>\n      <td>-0.007516</td>\n    </tr>\n  </tbody>\n</table>\n<p>1206 rows × 13 columns</p>\n</div>"
     },
     "execution_count": 146,
     "metadata": {},
     "output_type": "execute_result"
    }
   ],
   "source": [
    "df1"
   ],
   "metadata": {
    "collapsed": false,
    "ExecuteTime": {
     "end_time": "2023-12-11T02:38:07.452635Z",
     "start_time": "2023-12-11T02:38:07.450023Z"
    }
   },
   "id": "7381079b5bde0d90"
  },
  {
   "cell_type": "code",
   "execution_count": 147,
   "outputs": [
    {
     "data": {
      "text/plain": "<matplotlib.collections.PathCollection at 0x416fd2e90>"
     },
     "execution_count": 147,
     "metadata": {},
     "output_type": "execute_result"
    },
    {
     "data": {
      "text/plain": "<Figure size 640x480 with 1 Axes>",
      "image/png": "[encoded data removed]"
     },
     "metadata": {},
     "output_type": "display_data"
    }
   ],
   "source": [
    "plt.scatter(x=df1['market_ret'], y=df1['ret'], s=10)"
   ],
   "metadata": {
    "collapsed": false,
    "ExecuteTime": {
     "end_time": "2023-12-11T02:38:18.579973Z",
     "start_time": "2023-12-11T02:38:18.527527Z"
    }
   },
   "id": "1dc38c36be191389"
  },
  {
   "cell_type": "code",
   "execution_count": 148,
   "outputs": [
    {
     "data": {
      "text/plain": "0.0501262637308577"
     },
     "execution_count": 148,
     "metadata": {},
     "output_type": "execute_result"
    }
   ],
   "source": [
    "df1['market_ret'].corr(df1['ret'])"
   ],
   "metadata": {
    "collapsed": false,
    "ExecuteTime": {
     "end_time": "2023-12-11T02:38:20.275824Z",
     "start_time": "2023-12-11T02:38:20.267924Z"
    }
   },
   "id": "ca6dc2ff5aba97ab"
  },
  {
   "cell_type": "code",
   "execution_count": 16,
   "outputs": [],
   "source": [
    "urth_df = pd.read_csv('URTH.csv')\n",
    "ioo_df = pd.read_csv('IOO.csv')"
   ],
   "metadata": {
    "collapsed": false,
    "ExecuteTime": {
     "end_time": "2023-12-11T05:30:46.321673Z",
     "start_time": "2023-12-11T05:30:46.311710Z"
    }
   },
   "id": "4b217f90ac1da30c"
  },
  {
   "cell_type": "code",
   "execution_count": 17,
   "outputs": [],
   "source": [
    "urth_df['ret'] = urth_df['Adj Close'].pct_change()\n",
    "ioo_df['ret'] = ioo_df['Adj Close'].pct_change()"
   ],
   "metadata": {
    "collapsed": false,
    "ExecuteTime": {
     "end_time": "2023-12-11T05:30:47.390863Z",
     "start_time": "2023-12-11T05:30:47.382253Z"
    }
   },
   "id": "29169e33fd932b10"
  },
  {
   "cell_type": "code",
   "execution_count": 152,
   "outputs": [
    {
     "data": {
      "text/plain": "            Date       Open       High        Low      Close  Adj Close  \\\n0     2016-01-04  68.019997  68.599998  67.389999  68.599998  59.404301   \n1     2016-01-05  68.220001  68.370003  67.730003  68.120003  58.988625   \n2     2016-01-06  66.900002  67.500000  66.820000  67.330002  58.304531   \n3     2016-01-07  65.800003  66.730003  65.150002  65.150002  56.416756   \n4     2016-01-08  66.150002  66.150002  64.570000  64.809998  56.122326   \n...          ...        ...        ...        ...        ...        ...   \n1001  2019-12-24  98.730003  98.769997  98.250000  98.529999  92.933449   \n1002  2019-12-26  98.769997  98.900002  98.629997  98.900002  93.282410   \n1003  2019-12-27  99.290001  99.309998  98.910004  99.070000  93.442780   \n1004  2019-12-30  99.080002  99.080002  98.330002  98.330002  92.744812   \n1005  2019-12-31  98.410004  98.800003  98.209999  98.779999  93.169243   \n\n       Volume       ret  \n0       41400       NaN  \n1      145200 -0.006997  \n2       29200 -0.011597  \n3     1078300 -0.032378  \n4      469500 -0.005219  \n...       ...       ...  \n1001    28900  0.000508  \n1002    53000  0.003755  \n1003    47600  0.001719  \n1004   180100 -0.007469  \n1005    63600  0.004576  \n\n[1006 rows x 8 columns]",
      "text/html": "<div>\n<style scoped>\n    .dataframe tbody tr th:only-of-type {\n        vertical-align: middle;\n    }\n\n    .dataframe tbody tr th {\n        vertical-align: top;\n    }\n\n    .dataframe thead th {\n        text-align: right;\n    }\n</style>\n<table border=\"1\" class=\"dataframe\">\n  <thead>\n    <tr style=\"text-align: right;\">\n      <th></th>\n      <th>Date</th>\n      <th>Open</th>\n      <th>High</th>\n      <th>Low</th>\n      <th>Close</th>\n      <th>Adj Close</th>\n      <th>Volume</th>\n      <th>ret</th>\n    </tr>\n  </thead>\n  <tbody>\n    <tr>\n      <th>0</th>\n      <td>2016-01-04</td>\n      <td>68.019997</td>\n      <td>68.599998</td>\n      <td>67.389999</td>\n      <td>68.599998</td>\n      <td>59.404301</td>\n      <td>41400</td>\n      <td>NaN</td>\n    </tr>\n    <tr>\n      <th>1</th>\n      <td>2016-01-05</td>\n      <td>68.220001</td>\n      <td>68.370003</td>\n      <td>67.730003</td>\n      <td>68.120003</td>\n      <td>58.988625</td>\n      <td>145200</td>\n      <td>-0.006997</td>\n    </tr>\n    <tr>\n      <th>2</th>\n      <td>2016-01-06</td>\n      <td>66.900002</td>\n      <td>67.500000</td>\n      <td>66.820000</td>\n      <td>67.330002</td>\n      <td>58.304531</td>\n      <td>29200</td>\n      <td>-0.011597</td>\n    </tr>\n    <tr>\n      <th>3</th>\n      <td>2016-01-07</td>\n      <td>65.800003</td>\n      <td>66.730003</td>\n      <td>65.150002</td>\n      <td>65.150002</td>\n      <td>56.416756</td>\n      <td>1078300</td>\n      <td>-0.032378</td>\n    </tr>\n    <tr>\n      <th>4</th>\n      <td>2016-01-08</td>\n      <td>66.150002</td>\n      <td>66.150002</td>\n      <td>64.570000</td>\n      <td>64.809998</td>\n      <td>56.122326</td>\n      <td>469500</td>\n      <td>-0.005219</td>\n    </tr>\n    <tr>\n      <th>...</th>\n      <td>...</td>\n      <td>...</td>\n      <td>...</td>\n      <td>...</td>\n      <td>...</td>\n      <td>...</td>\n      <td>...</td>\n      <td>...</td>\n    </tr>\n    <tr>\n      <th>1001</th>\n      <td>2019-12-24</td>\n      <td>98.730003</td>\n      <td>98.769997</td>\n      <td>98.250000</td>\n      <td>98.529999</td>\n      <td>92.933449</td>\n      <td>28900</td>\n      <td>0.000508</td>\n    </tr>\n    <tr>\n      <th>1002</th>\n      <td>2019-12-26</td>\n      <td>98.769997</td>\n      <td>98.900002</td>\n      <td>98.629997</td>\n      <td>98.900002</td>\n      <td>93.282410</td>\n      <td>53000</td>\n      <td>0.003755</td>\n    </tr>\n    <tr>\n      <th>1003</th>\n      <td>2019-12-27</td>\n      <td>99.290001</td>\n      <td>99.309998</td>\n      <td>98.910004</td>\n      <td>99.070000</td>\n      <td>93.442780</td>\n      <td>47600</td>\n      <td>0.001719</td>\n    </tr>\n    <tr>\n      <th>1004</th>\n      <td>2019-12-30</td>\n      <td>99.080002</td>\n      <td>99.080002</td>\n      <td>98.330002</td>\n      <td>98.330002</td>\n      <td>92.744812</td>\n      <td>180100</td>\n      <td>-0.007469</td>\n    </tr>\n    <tr>\n      <th>1005</th>\n      <td>2019-12-31</td>\n      <td>98.410004</td>\n      <td>98.800003</td>\n      <td>98.209999</td>\n      <td>98.779999</td>\n      <td>93.169243</td>\n      <td>63600</td>\n      <td>0.004576</td>\n    </tr>\n  </tbody>\n</table>\n<p>1006 rows × 8 columns</p>\n</div>"
     },
     "execution_count": 152,
     "metadata": {},
     "output_type": "execute_result"
    }
   ],
   "source": [
    "urth_df"
   ],
   "metadata": {
    "collapsed": false,
    "ExecuteTime": {
     "end_time": "2023-12-11T03:06:06.390274Z",
     "start_time": "2023-12-11T03:06:06.372075Z"
    }
   },
   "id": "a9b894ee71131c17"
  },
  {
   "cell_type": "code",
   "execution_count": 153,
   "outputs": [
    {
     "data": {
      "text/plain": "            Date       Open       High        Low      Close  Adj Close  \\\n0     2016-01-04  35.709999  36.029999  35.294998  35.779999  30.507277   \n1     2016-01-05  35.730000  35.830002  35.549999  35.755001  30.485964   \n2     2016-01-06  35.105000  35.294998  34.945000  35.185001  29.999966   \n3     2016-01-07  34.599998  34.915001  34.345001  34.355000  29.292273   \n4     2016-01-08  34.505001  34.560001  33.865002  33.915001  28.917114   \n...          ...        ...        ...        ...        ...        ...   \n1001  2019-12-24  53.709999  53.709999  53.590000  53.639999  50.410618   \n1002  2019-12-26  53.730000  54.049999  53.730000  54.049999  50.795929   \n1003  2019-12-27  54.349998  54.349998  54.099998  54.200001  50.936901   \n1004  2019-12-30  54.160000  54.220001  53.799999  53.799999  50.560982   \n1005  2019-12-31  53.759998  53.990002  53.740002  53.939999  50.692551   \n\n      Volume       ret  \n0     305400       NaN  \n1      51600 -0.000699  \n2     241200 -0.015942  \n3      81200 -0.023590  \n4      87000 -0.012807  \n...      ...       ...  \n1001   25000 -0.000373  \n1002  262600  0.007643  \n1003   55200  0.002775  \n1004  106400 -0.007380  \n1005   19200  0.002602  \n\n[1006 rows x 8 columns]",
      "text/html": "<div>\n<style scoped>\n    .dataframe tbody tr th:only-of-type {\n        vertical-align: middle;\n    }\n\n    .dataframe tbody tr th {\n        vertical-align: top;\n    }\n\n    .dataframe thead th {\n        text-align: right;\n    }\n</style>\n<table border=\"1\" class=\"dataframe\">\n  <thead>\n    <tr style=\"text-align: right;\">\n      <th></th>\n      <th>Date</th>\n      <th>Open</th>\n      <th>High</th>\n      <th>Low</th>\n      <th>Close</th>\n      <th>Adj Close</th>\n      <th>Volume</th>\n      <th>ret</th>\n    </tr>\n  </thead>\n  <tbody>\n    <tr>\n      <th>0</th>\n      <td>2016-01-04</td>\n      <td>35.709999</td>\n      <td>36.029999</td>\n      <td>35.294998</td>\n      <td>35.779999</td>\n      <td>30.507277</td>\n      <td>305400</td>\n      <td>NaN</td>\n    </tr>\n    <tr>\n      <th>1</th>\n      <td>2016-01-05</td>\n      <td>35.730000</td>\n      <td>35.830002</td>\n      <td>35.549999</td>\n      <td>35.755001</td>\n      <td>30.485964</td>\n      <td>51600</td>\n      <td>-0.000699</td>\n    </tr>\n    <tr>\n      <th>2</th>\n      <td>2016-01-06</td>\n      <td>35.105000</td>\n      <td>35.294998</td>\n      <td>34.945000</td>\n      <td>35.185001</td>\n      <td>29.999966</td>\n      <td>241200</td>\n      <td>-0.015942</td>\n    </tr>\n    <tr>\n      <th>3</th>\n      <td>2016-01-07</td>\n      <td>34.599998</td>\n      <td>34.915001</td>\n      <td>34.345001</td>\n      <td>34.355000</td>\n      <td>29.292273</td>\n      <td>81200</td>\n      <td>-0.023590</td>\n    </tr>\n    <tr>\n      <th>4</th>\n      <td>2016-01-08</td>\n      <td>34.505001</td>\n      <td>34.560001</td>\n      <td>33.865002</td>\n      <td>33.915001</td>\n      <td>28.917114</td>\n      <td>87000</td>\n      <td>-0.012807</td>\n    </tr>\n    <tr>\n      <th>...</th>\n      <td>...</td>\n      <td>...</td>\n      <td>...</td>\n      <td>...</td>\n      <td>...</td>\n      <td>...</td>\n      <td>...</td>\n      <td>...</td>\n    </tr>\n    <tr>\n      <th>1001</th>\n      <td>2019-12-24</td>\n      <td>53.709999</td>\n      <td>53.709999</td>\n      <td>53.590000</td>\n      <td>53.639999</td>\n      <td>50.410618</td>\n      <td>25000</td>\n      <td>-0.000373</td>\n    </tr>\n    <tr>\n      <th>1002</th>\n      <td>2019-12-26</td>\n      <td>53.730000</td>\n      <td>54.049999</td>\n      <td>53.730000</td>\n      <td>54.049999</td>\n      <td>50.795929</td>\n      <td>262600</td>\n      <td>0.007643</td>\n    </tr>\n    <tr>\n      <th>1003</th>\n      <td>2019-12-27</td>\n      <td>54.349998</td>\n      <td>54.349998</td>\n      <td>54.099998</td>\n      <td>54.200001</td>\n      <td>50.936901</td>\n      <td>55200</td>\n      <td>0.002775</td>\n    </tr>\n    <tr>\n      <th>1004</th>\n      <td>2019-12-30</td>\n      <td>54.160000</td>\n      <td>54.220001</td>\n      <td>53.799999</td>\n      <td>53.799999</td>\n      <td>50.560982</td>\n      <td>106400</td>\n      <td>-0.007380</td>\n    </tr>\n    <tr>\n      <th>1005</th>\n      <td>2019-12-31</td>\n      <td>53.759998</td>\n      <td>53.990002</td>\n      <td>53.740002</td>\n      <td>53.939999</td>\n      <td>50.692551</td>\n      <td>19200</td>\n      <td>0.002602</td>\n    </tr>\n  </tbody>\n</table>\n<p>1006 rows × 8 columns</p>\n</div>"
     },
     "execution_count": 153,
     "metadata": {},
     "output_type": "execute_result"
    }
   ],
   "source": [
    "ioo_df"
   ],
   "metadata": {
    "collapsed": false,
    "ExecuteTime": {
     "end_time": "2023-12-11T03:06:15.229858Z",
     "start_time": "2023-12-11T03:06:15.212310Z"
    }
   },
   "id": "47cb808d8b7e64bb"
  },
  {
   "cell_type": "code",
   "execution_count": 154,
   "outputs": [
    {
     "data": {
      "text/plain": "0.9596074450166732"
     },
     "execution_count": 154,
     "metadata": {},
     "output_type": "execute_result"
    }
   ],
   "source": [
    "ioo_df['ret'].corr(urth_df['ret'])"
   ],
   "metadata": {
    "collapsed": false,
    "ExecuteTime": {
     "end_time": "2023-12-11T03:06:32.537805Z",
     "start_time": "2023-12-11T03:06:32.509244Z"
    }
   },
   "id": "e08c26a33e0417d2"
  },
  {
   "cell_type": "code",
   "execution_count": 18,
   "outputs": [],
   "source": [
    "df1['urth_ret'] = urth_df.set_index('Date')['ret']\n",
    "df1['ioo_ret'] = ioo_df.set_index('Date')['ret']"
   ],
   "metadata": {
    "collapsed": false,
    "ExecuteTime": {
     "end_time": "2023-12-11T05:30:57.024256Z",
     "start_time": "2023-12-11T05:30:57.015450Z"
    }
   },
   "id": "dc94dbe316258a1"
  },
  {
   "cell_type": "code",
   "execution_count": 174,
   "outputs": [
    {
     "data": {
      "text/plain": "               open        close     high      low    btc_volume  \\\ndate                                                               \n2016-01-12   448.00   434.850000   448.00   434.35   8009.838089   \n2016-01-13   434.78   432.640000   438.35   424.50  11352.515413   \n2016-01-14   432.64   429.585714   434.00   427.00   6057.616550   \n2016-01-15   429.55   360.000000   429.80   360.00  38173.637640   \n2016-01-16   360.62   386.910000   392.07   352.00  26809.800368   \n...             ...          ...      ...      ...           ...   \n2019-04-27  5154.11  5168.910000  5218.31  5113.00   4147.391780   \n2019-04-28  5171.51  5160.980000  5213.23  5099.00   4067.481115   \n2019-04-29  5152.98  5149.110000  5191.96  5071.58   5842.740260   \n2019-04-30  5150.21  5269.000000  5287.40  5127.05   5088.041423   \n2019-05-01  5267.86  5318.420000  5357.96  5263.03   4276.783394   \n\n              usd_volume  volatility   cnt       ret  rf_rate  momentum  \\\ndate                                                                      \n2016-01-12  3.548860e+06    0.000910  1440 -0.029353  0.02102 -0.250657   \n2016-01-13  4.880889e+06    0.001117  1440 -0.005082  0.02066 -0.260777   \n2016-01-14  2.608535e+06    0.000702  1440 -0.007060  0.02098 -0.265397   \n2016-01-15  1.510499e+07    0.002260  1440 -0.161983  0.02033 -0.434636   \n2016-01-16  9.974762e+06    0.002068  1440  0.074750  0.02035 -0.367727   \n...                  ...         ...   ...       ...      ...       ...   \n2019-04-27  2.140799e+07    0.000548  1440  0.002661  0.02536 -0.276054   \n2019-04-28  2.100555e+07    0.000517  1440 -0.001534  0.02536 -0.311284   \n2019-04-29  3.008434e+07    0.000634  1440 -0.002300  0.02536 -0.319037   \n2019-04-30  2.651356e+07    0.000594  1440  0.023284  0.02509 -0.304469   \n2019-05-01  2.268529e+07    0.000470  1440  0.009379  0.02511 -0.296096   \n\n            momentum2  market_ret  urth_ret   ioo_ret  \ndate                                                   \n2016-01-12   0.009148    0.008068  0.005700  0.007199  \n2016-01-13  -0.002724   -0.024941 -0.020987 -0.018670  \n2016-01-14  -0.008782    0.016417  0.017368  0.019025  \n2016-01-15  -0.180097   -0.021466 -0.031990 -0.029901  \n2016-01-16  -0.115244         NaN       NaN       NaN  \n...               ...         ...       ...       ...  \n2019-04-27   0.027777         NaN       NaN       NaN  \n2019-04-28  -0.007999         NaN       NaN       NaN  \n2019-04-29  -0.016298    0.001568  0.001635  0.002639  \n2019-04-30  -0.002228    0.000510  0.002286  0.001215  \n2019-05-01   0.005375   -0.007516 -0.008470 -0.007078  \n\n[1206 rows x 15 columns]",
      "text/html": "<div>\n<style scoped>\n    .dataframe tbody tr th:only-of-type {\n        vertical-align: middle;\n    }\n\n    .dataframe tbody tr th {\n        vertical-align: top;\n    }\n\n    .dataframe thead th {\n        text-align: right;\n    }\n</style>\n<table border=\"1\" class=\"dataframe\">\n  <thead>\n    <tr style=\"text-align: right;\">\n      <th></th>\n      <th>open</th>\n      <th>close</th>\n      <th>high</th>\n      <th>low</th>\n      <th>btc_volume</th>\n      <th>usd_volume</th>\n      <th>volatility</th>\n      <th>cnt</th>\n      <th>ret</th>\n      <th>rf_rate</th>\n      <th>momentum</th>\n      <th>momentum2</th>\n      <th>market_ret</th>\n      <th>urth_ret</th>\n      <th>ioo_ret</th>\n    </tr>\n    <tr>\n      <th>date</th>\n      <th></th>\n      <th></th>\n      <th></th>\n      <th></th>\n      <th></th>\n      <th></th>\n      <th></th>\n      <th></th>\n      <th></th>\n      <th></th>\n      <th></th>\n      <th></th>\n      <th></th>\n      <th></th>\n      <th></th>\n    </tr>\n  </thead>\n  <tbody>\n    <tr>\n      <th>2016-01-12</th>\n      <td>448.00</td>\n      <td>434.850000</td>\n      <td>448.00</td>\n      <td>434.35</td>\n      <td>8009.838089</td>\n      <td>3.548860e+06</td>\n      <td>0.000910</td>\n      <td>1440</td>\n      <td>-0.029353</td>\n      <td>0.02102</td>\n      <td>-0.250657</td>\n      <td>0.009148</td>\n      <td>0.008068</td>\n      <td>0.005700</td>\n      <td>0.007199</td>\n    </tr>\n    <tr>\n      <th>2016-01-13</th>\n      <td>434.78</td>\n      <td>432.640000</td>\n      <td>438.35</td>\n      <td>424.50</td>\n      <td>11352.515413</td>\n      <td>4.880889e+06</td>\n      <td>0.001117</td>\n      <td>1440</td>\n      <td>-0.005082</td>\n      <td>0.02066</td>\n      <td>-0.260777</td>\n      <td>-0.002724</td>\n      <td>-0.024941</td>\n      <td>-0.020987</td>\n      <td>-0.018670</td>\n    </tr>\n    <tr>\n      <th>2016-01-14</th>\n      <td>432.64</td>\n      <td>429.585714</td>\n      <td>434.00</td>\n      <td>427.00</td>\n      <td>6057.616550</td>\n      <td>2.608535e+06</td>\n      <td>0.000702</td>\n      <td>1440</td>\n      <td>-0.007060</td>\n      <td>0.02098</td>\n      <td>-0.265397</td>\n      <td>-0.008782</td>\n      <td>0.016417</td>\n      <td>0.017368</td>\n      <td>0.019025</td>\n    </tr>\n    <tr>\n      <th>2016-01-15</th>\n      <td>429.55</td>\n      <td>360.000000</td>\n      <td>429.80</td>\n      <td>360.00</td>\n      <td>38173.637640</td>\n      <td>1.510499e+07</td>\n      <td>0.002260</td>\n      <td>1440</td>\n      <td>-0.161983</td>\n      <td>0.02033</td>\n      <td>-0.434636</td>\n      <td>-0.180097</td>\n      <td>-0.021466</td>\n      <td>-0.031990</td>\n      <td>-0.029901</td>\n    </tr>\n    <tr>\n      <th>2016-01-16</th>\n      <td>360.62</td>\n      <td>386.910000</td>\n      <td>392.07</td>\n      <td>352.00</td>\n      <td>26809.800368</td>\n      <td>9.974762e+06</td>\n      <td>0.002068</td>\n      <td>1440</td>\n      <td>0.074750</td>\n      <td>0.02035</td>\n      <td>-0.367727</td>\n      <td>-0.115244</td>\n      <td>NaN</td>\n      <td>NaN</td>\n      <td>NaN</td>\n    </tr>\n    <tr>\n      <th>...</th>\n      <td>...</td>\n      <td>...</td>\n      <td>...</td>\n      <td>...</td>\n      <td>...</td>\n      <td>...</td>\n      <td>...</td>\n      <td>...</td>\n      <td>...</td>\n      <td>...</td>\n      <td>...</td>\n      <td>...</td>\n      <td>...</td>\n      <td>...</td>\n      <td>...</td>\n    </tr>\n    <tr>\n      <th>2019-04-27</th>\n      <td>5154.11</td>\n      <td>5168.910000</td>\n      <td>5218.31</td>\n      <td>5113.00</td>\n      <td>4147.391780</td>\n      <td>2.140799e+07</td>\n      <td>0.000548</td>\n      <td>1440</td>\n      <td>0.002661</td>\n      <td>0.02536</td>\n      <td>-0.276054</td>\n      <td>0.027777</td>\n      <td>NaN</td>\n      <td>NaN</td>\n      <td>NaN</td>\n    </tr>\n    <tr>\n      <th>2019-04-28</th>\n      <td>5171.51</td>\n      <td>5160.980000</td>\n      <td>5213.23</td>\n      <td>5099.00</td>\n      <td>4067.481115</td>\n      <td>2.100555e+07</td>\n      <td>0.000517</td>\n      <td>1440</td>\n      <td>-0.001534</td>\n      <td>0.02536</td>\n      <td>-0.311284</td>\n      <td>-0.007999</td>\n      <td>NaN</td>\n      <td>NaN</td>\n      <td>NaN</td>\n    </tr>\n    <tr>\n      <th>2019-04-29</th>\n      <td>5152.98</td>\n      <td>5149.110000</td>\n      <td>5191.96</td>\n      <td>5071.58</td>\n      <td>5842.740260</td>\n      <td>3.008434e+07</td>\n      <td>0.000634</td>\n      <td>1440</td>\n      <td>-0.002300</td>\n      <td>0.02536</td>\n      <td>-0.319037</td>\n      <td>-0.016298</td>\n      <td>0.001568</td>\n      <td>0.001635</td>\n      <td>0.002639</td>\n    </tr>\n    <tr>\n      <th>2019-04-30</th>\n      <td>5150.21</td>\n      <td>5269.000000</td>\n      <td>5287.40</td>\n      <td>5127.05</td>\n      <td>5088.041423</td>\n      <td>2.651356e+07</td>\n      <td>0.000594</td>\n      <td>1440</td>\n      <td>0.023284</td>\n      <td>0.02509</td>\n      <td>-0.304469</td>\n      <td>-0.002228</td>\n      <td>0.000510</td>\n      <td>0.002286</td>\n      <td>0.001215</td>\n    </tr>\n    <tr>\n      <th>2019-05-01</th>\n      <td>5267.86</td>\n      <td>5318.420000</td>\n      <td>5357.96</td>\n      <td>5263.03</td>\n      <td>4276.783394</td>\n      <td>2.268529e+07</td>\n      <td>0.000470</td>\n      <td>1440</td>\n      <td>0.009379</td>\n      <td>0.02511</td>\n      <td>-0.296096</td>\n      <td>0.005375</td>\n      <td>-0.007516</td>\n      <td>-0.008470</td>\n      <td>-0.007078</td>\n    </tr>\n  </tbody>\n</table>\n<p>1206 rows × 15 columns</p>\n</div>"
     },
     "execution_count": 174,
     "metadata": {},
     "output_type": "execute_result"
    }
   ],
   "source": [
    "df1"
   ],
   "metadata": {
    "collapsed": false,
    "ExecuteTime": {
     "end_time": "2023-12-11T03:13:13.278044Z",
     "start_time": "2023-12-11T03:13:13.257288Z"
    }
   },
   "id": "60cf72c37d92bf5d"
  },
  {
   "cell_type": "code",
   "execution_count": 181,
   "outputs": [
    {
     "data": {
      "text/plain": "0.07238165477379808"
     },
     "execution_count": 181,
     "metadata": {},
     "output_type": "execute_result"
    }
   ],
   "source": [
    "df1['ret'].corr(df1['ioo_ret'] - df1['rf_rate'])"
   ],
   "metadata": {
    "collapsed": false,
    "ExecuteTime": {
     "end_time": "2023-12-11T04:30:25.508226Z",
     "start_time": "2023-12-11T04:30:25.495696Z"
    }
   },
   "id": "f62368e374d54b56"
  },
  {
   "cell_type": "markdown",
   "source": [
    "### Interest Rate"
   ],
   "metadata": {
    "collapsed": false
   },
   "id": "d713108546d828ea"
  },
  {
   "cell_type": "code",
   "execution_count": 185,
   "outputs": [
    {
     "data": {
      "text/plain": "0.00694141218966937"
     },
     "execution_count": 185,
     "metadata": {},
     "output_type": "execute_result"
    }
   ],
   "source": [
    "df1['ret'].corr(df1['rf_rate'].diff())"
   ],
   "metadata": {
    "collapsed": false,
    "ExecuteTime": {
     "end_time": "2023-12-11T04:36:01.981519Z",
     "start_time": "2023-12-11T04:36:01.962111Z"
    }
   },
   "id": "a112de27c89c7e3"
  },
  {
   "cell_type": "code",
   "execution_count": 186,
   "outputs": [
    {
     "data": {
      "text/plain": "date\n2016-01-12         NaN\n2016-01-13         NaN\n2016-01-14         NaN\n2016-01-15         NaN\n2016-01-16         NaN\n                ...   \n2019-04-27    0.025314\n2019-04-28    0.025355\n2019-04-29    0.025368\n2019-04-30    0.025372\n2019-05-01    0.025377\nName: rf_rate, Length: 1206, dtype: float64"
     },
     "execution_count": 186,
     "metadata": {},
     "output_type": "execute_result"
    }
   ],
   "source": [
    "df1['rf_rate'].rolling(30).mean()"
   ],
   "metadata": {
    "collapsed": false,
    "ExecuteTime": {
     "end_time": "2023-12-11T04:36:12.103136Z",
     "start_time": "2023-12-11T04:36:12.080017Z"
    }
   },
   "id": "d360064645528da5"
  },
  {
   "cell_type": "code",
   "execution_count": 191,
   "outputs": [
    {
     "ename": "AttributeError",
     "evalue": "module 'numpy' has no attribute '_no_nep50_warning'",
     "output_type": "error",
     "traceback": [
      "\u001B[0;31m---------------------------------------------------------------------------\u001B[0m",
      "\u001B[0;31mAttributeError\u001B[0m                            Traceback (most recent call last)",
      "Cell \u001B[0;32mIn[191], line 1\u001B[0m\n\u001B[0;32m----> 1\u001B[0m \u001B[38;5;28;01mimport\u001B[39;00m \u001B[38;5;21;01mstatsmodels\u001B[39;00m\u001B[38;5;21;01m.\u001B[39;00m\u001B[38;5;21;01mapi\u001B[39;00m \u001B[38;5;28;01mas\u001B[39;00m \u001B[38;5;21;01msm\u001B[39;00m\n",
      "File \u001B[0;32m~/anaconda3/lib/python3.11/site-packages/statsmodels/__init__.py:1\u001B[0m\n\u001B[0;32m----> 1\u001B[0m \u001B[38;5;28;01mfrom\u001B[39;00m \u001B[38;5;21;01mstatsmodels\u001B[39;00m\u001B[38;5;21;01m.\u001B[39;00m\u001B[38;5;21;01mcompat\u001B[39;00m\u001B[38;5;21;01m.\u001B[39;00m\u001B[38;5;21;01mpatsy\u001B[39;00m \u001B[38;5;28;01mimport\u001B[39;00m monkey_patch_cat_dtype\n\u001B[1;32m      3\u001B[0m \u001B[38;5;28;01mfrom\u001B[39;00m \u001B[38;5;21;01mstatsmodels\u001B[39;00m\u001B[38;5;21;01m.\u001B[39;00m\u001B[38;5;21;01m_version\u001B[39;00m \u001B[38;5;28;01mimport\u001B[39;00m __version__, __version_tuple__\n\u001B[1;32m      5\u001B[0m __version_info__ \u001B[38;5;241m=\u001B[39m __version_tuple__\n",
      "File \u001B[0;32m~/anaconda3/lib/python3.11/site-packages/statsmodels/compat/__init__.py:1\u001B[0m\n\u001B[0;32m----> 1\u001B[0m \u001B[38;5;28;01mfrom\u001B[39;00m \u001B[38;5;21;01mstatsmodels\u001B[39;00m\u001B[38;5;21;01m.\u001B[39;00m\u001B[38;5;21;01mtools\u001B[39;00m\u001B[38;5;21;01m.\u001B[39;00m\u001B[38;5;21;01m_testing\u001B[39;00m \u001B[38;5;28;01mimport\u001B[39;00m PytestTester\n\u001B[1;32m      3\u001B[0m \u001B[38;5;28;01mfrom\u001B[39;00m \u001B[38;5;21;01m.\u001B[39;00m\u001B[38;5;21;01mpython\u001B[39;00m \u001B[38;5;28;01mimport\u001B[39;00m (\n\u001B[1;32m      4\u001B[0m     PY37,\n\u001B[1;32m      5\u001B[0m     asunicode,\n\u001B[0;32m   (...)\u001B[0m\n\u001B[1;32m     11\u001B[0m     lfilter,\n\u001B[1;32m     12\u001B[0m )\n\u001B[1;32m     14\u001B[0m __all__ \u001B[38;5;241m=\u001B[39m [\n\u001B[1;32m     15\u001B[0m     \u001B[38;5;124m\"\u001B[39m\u001B[38;5;124mPY37\u001B[39m\u001B[38;5;124m\"\u001B[39m,\n\u001B[1;32m     16\u001B[0m     \u001B[38;5;124m\"\u001B[39m\u001B[38;5;124masunicode\u001B[39m\u001B[38;5;124m\"\u001B[39m,\n\u001B[0;32m   (...)\u001B[0m\n\u001B[1;32m     23\u001B[0m     \u001B[38;5;124m\"\u001B[39m\u001B[38;5;124mtest\u001B[39m\u001B[38;5;124m\"\u001B[39m,\n\u001B[1;32m     24\u001B[0m ]\n",
      "File \u001B[0;32m~/anaconda3/lib/python3.11/site-packages/statsmodels/tools/__init__.py:2\u001B[0m\n\u001B[1;32m      1\u001B[0m \u001B[38;5;28;01mfrom\u001B[39;00m \u001B[38;5;21;01m.\u001B[39;00m\u001B[38;5;21;01mtools\u001B[39;00m \u001B[38;5;28;01mimport\u001B[39;00m add_constant, categorical\n\u001B[0;32m----> 2\u001B[0m \u001B[38;5;28;01mfrom\u001B[39;00m \u001B[38;5;21;01mstatsmodels\u001B[39;00m\u001B[38;5;21;01m.\u001B[39;00m\u001B[38;5;21;01mtools\u001B[39;00m\u001B[38;5;21;01m.\u001B[39;00m\u001B[38;5;21;01m_testing\u001B[39;00m \u001B[38;5;28;01mimport\u001B[39;00m PytestTester\n\u001B[1;32m      4\u001B[0m __all__ \u001B[38;5;241m=\u001B[39m [\u001B[38;5;124m'\u001B[39m\u001B[38;5;124mtest\u001B[39m\u001B[38;5;124m'\u001B[39m, \u001B[38;5;124m'\u001B[39m\u001B[38;5;124madd_constant\u001B[39m\u001B[38;5;124m'\u001B[39m, \u001B[38;5;124m'\u001B[39m\u001B[38;5;124mcategorical\u001B[39m\u001B[38;5;124m'\u001B[39m]\n\u001B[1;32m      6\u001B[0m test \u001B[38;5;241m=\u001B[39m PytestTester()\n",
      "File \u001B[0;32m~/anaconda3/lib/python3.11/site-packages/statsmodels/tools/_testing.py:17\u001B[0m\n\u001B[1;32m     14\u001B[0m \u001B[38;5;28;01mfrom\u001B[39;00m \u001B[38;5;21;01mpackaging\u001B[39;00m\u001B[38;5;21;01m.\u001B[39;00m\u001B[38;5;21;01mversion\u001B[39;00m \u001B[38;5;28;01mimport\u001B[39;00m Version, parse\n\u001B[1;32m     16\u001B[0m \u001B[38;5;28;01mimport\u001B[39;00m \u001B[38;5;21;01mnumpy\u001B[39;00m \u001B[38;5;28;01mas\u001B[39;00m \u001B[38;5;21;01mnp\u001B[39;00m\n\u001B[0;32m---> 17\u001B[0m \u001B[38;5;28;01mfrom\u001B[39;00m \u001B[38;5;21;01mnumpy\u001B[39;00m\u001B[38;5;21;01m.\u001B[39;00m\u001B[38;5;21;01mtesting\u001B[39;00m \u001B[38;5;28;01mimport\u001B[39;00m assert_allclose, assert_\n\u001B[1;32m     19\u001B[0m \u001B[38;5;28;01mimport\u001B[39;00m \u001B[38;5;21;01mpandas\u001B[39;00m \u001B[38;5;28;01mas\u001B[39;00m \u001B[38;5;21;01mpd\u001B[39;00m\n\u001B[1;32m     22\u001B[0m \u001B[38;5;28;01mclass\u001B[39;00m \u001B[38;5;21;01mPytestTester\u001B[39;00m:\n",
      "File \u001B[0;32m~/anaconda3/lib/python3.11/site-packages/numpy/testing/__init__.py:11\u001B[0m\n\u001B[1;32m      8\u001B[0m \u001B[38;5;28;01mfrom\u001B[39;00m \u001B[38;5;21;01munittest\u001B[39;00m \u001B[38;5;28;01mimport\u001B[39;00m TestCase\n\u001B[1;32m     10\u001B[0m \u001B[38;5;28;01mfrom\u001B[39;00m \u001B[38;5;21;01m.\u001B[39;00m \u001B[38;5;28;01mimport\u001B[39;00m _private\n\u001B[0;32m---> 11\u001B[0m \u001B[38;5;28;01mfrom\u001B[39;00m \u001B[38;5;21;01m.\u001B[39;00m\u001B[38;5;21;01m_private\u001B[39;00m\u001B[38;5;21;01m.\u001B[39;00m\u001B[38;5;21;01mutils\u001B[39;00m \u001B[38;5;28;01mimport\u001B[39;00m \u001B[38;5;241m*\u001B[39m\n\u001B[1;32m     12\u001B[0m \u001B[38;5;28;01mfrom\u001B[39;00m \u001B[38;5;21;01m.\u001B[39;00m\u001B[38;5;21;01m_private\u001B[39;00m\u001B[38;5;21;01m.\u001B[39;00m\u001B[38;5;21;01mutils\u001B[39;00m \u001B[38;5;28;01mimport\u001B[39;00m (_assert_valid_refcount, _gen_alignment_data)\n\u001B[1;32m     13\u001B[0m \u001B[38;5;28;01mfrom\u001B[39;00m \u001B[38;5;21;01m.\u001B[39;00m\u001B[38;5;21;01m_private\u001B[39;00m \u001B[38;5;28;01mimport\u001B[39;00m extbuild, decorators \u001B[38;5;28;01mas\u001B[39;00m dec\n",
      "File \u001B[0;32m~/anaconda3/lib/python3.11/site-packages/numpy/testing/_private/utils.py:480\u001B[0m\n\u001B[1;32m    476\u001B[0m         pprint\u001B[38;5;241m.\u001B[39mpprint(desired, msg)\n\u001B[1;32m    477\u001B[0m         \u001B[38;5;28;01mraise\u001B[39;00m \u001B[38;5;167;01mAssertionError\u001B[39;00m(msg\u001B[38;5;241m.\u001B[39mgetvalue())\n\u001B[0;32m--> 480\u001B[0m \u001B[38;5;129m@np\u001B[39m\u001B[38;5;241m.\u001B[39m_no_nep50_warning()\n\u001B[1;32m    481\u001B[0m \u001B[38;5;28;01mdef\u001B[39;00m \u001B[38;5;21massert_almost_equal\u001B[39m(actual,desired,decimal\u001B[38;5;241m=\u001B[39m\u001B[38;5;241m7\u001B[39m,err_msg\u001B[38;5;241m=\u001B[39m\u001B[38;5;124m'\u001B[39m\u001B[38;5;124m'\u001B[39m,verbose\u001B[38;5;241m=\u001B[39m\u001B[38;5;28;01mTrue\u001B[39;00m):\n\u001B[1;32m    482\u001B[0m \u001B[38;5;250m    \u001B[39m\u001B[38;5;124;03m\"\"\"\u001B[39;00m\n\u001B[1;32m    483\u001B[0m \u001B[38;5;124;03m    Raises an AssertionError if two items are not equal up to desired\u001B[39;00m\n\u001B[1;32m    484\u001B[0m \u001B[38;5;124;03m    precision.\u001B[39;00m\n\u001B[0;32m   (...)\u001B[0m\n\u001B[1;32m    548\u001B[0m \n\u001B[1;32m    549\u001B[0m \u001B[38;5;124;03m    \"\"\"\u001B[39;00m\n\u001B[1;32m    550\u001B[0m     __tracebackhide__ \u001B[38;5;241m=\u001B[39m \u001B[38;5;28;01mTrue\u001B[39;00m  \u001B[38;5;66;03m# Hide traceback for py.test\u001B[39;00m\n",
      "File \u001B[0;32m~/anaconda3/lib/python3.11/site-packages/numpy/__init__.py:311\u001B[0m, in \u001B[0;36m__getattr__\u001B[0;34m(attr)\u001B[0m\n\u001B[1;32m    304\u001B[0m if attr in __former_attrs__:\n\u001B[1;32m    305\u001B[0m     raise AttributeError(__former_attrs__[attr])\n\u001B[1;32m    307\u001B[0m # Importing Tester requires importing all of UnitTest which is not a\n\u001B[1;32m    308\u001B[0m # cheap import Since it is mainly used in test suits, we lazy import it\n\u001B[1;32m    309\u001B[0m # here to save on the order of 10 ms of import time for most users\n\u001B[1;32m    310\u001B[0m #\n\u001B[0;32m--> 311\u001B[0m # The previous way Tester was imported also had a side effect of adding\n\u001B[1;32m    312\u001B[0m # the full `numpy.testing` namespace\n\u001B[1;32m    313\u001B[0m if attr == 'testing':\n\u001B[1;32m    314\u001B[0m     import numpy.testing as testing\n",
      "\u001B[0;31mAttributeError\u001B[0m: module 'numpy' has no attribute '_no_nep50_warning'"
     ]
    }
   ],
   "source": [
    "import statsmodels.api as sm"
   ],
   "metadata": {
    "collapsed": false,
    "ExecuteTime": {
     "end_time": "2023-12-11T04:47:17.344499Z",
     "start_time": "2023-12-11T04:47:17.249006Z"
    }
   },
   "id": "9f84835398bbd3a7"
  },
  {
   "cell_type": "code",
   "execution_count": 197,
   "outputs": [
    {
     "ename": "AttributeError",
     "evalue": "module 'numpy.linalg._umath_linalg' has no attribute '_ilp64'",
     "output_type": "error",
     "traceback": [
      "\u001B[0;31m---------------------------------------------------------------------------\u001B[0m",
      "\u001B[0;31mAttributeError\u001B[0m                            Traceback (most recent call last)",
      "Cell \u001B[0;32mIn[197], line 2\u001B[0m\n\u001B[1;32m      1\u001B[0m \u001B[38;5;28;01mimport\u001B[39;00m \u001B[38;5;21;01mnumpy\u001B[39;00m \u001B[38;5;28;01mas\u001B[39;00m \u001B[38;5;21;01mnp\u001B[39;00m\n\u001B[0;32m----> 2\u001B[0m \u001B[38;5;28;01mimport\u001B[39;00m \u001B[38;5;21;01mstatsmodels\u001B[39;00m\u001B[38;5;21;01m.\u001B[39;00m\u001B[38;5;21;01mapi\u001B[39;00m \u001B[38;5;28;01mas\u001B[39;00m \u001B[38;5;21;01msm\u001B[39;00m\n",
      "File \u001B[0;32m~/anaconda3/lib/python3.11/site-packages/statsmodels/__init__.py:1\u001B[0m\n\u001B[0;32m----> 1\u001B[0m \u001B[38;5;28;01mfrom\u001B[39;00m \u001B[38;5;21;01mstatsmodels\u001B[39;00m\u001B[38;5;21;01m.\u001B[39;00m\u001B[38;5;21;01mcompat\u001B[39;00m\u001B[38;5;21;01m.\u001B[39;00m\u001B[38;5;21;01mpatsy\u001B[39;00m \u001B[38;5;28;01mimport\u001B[39;00m monkey_patch_cat_dtype\n\u001B[1;32m      3\u001B[0m \u001B[38;5;28;01mfrom\u001B[39;00m \u001B[38;5;21;01mstatsmodels\u001B[39;00m\u001B[38;5;21;01m.\u001B[39;00m\u001B[38;5;21;01m_version\u001B[39;00m \u001B[38;5;28;01mimport\u001B[39;00m __version__, __version_tuple__\n\u001B[1;32m      5\u001B[0m __version_info__ \u001B[38;5;241m=\u001B[39m __version_tuple__\n",
      "File \u001B[0;32m~/anaconda3/lib/python3.11/site-packages/statsmodels/compat/__init__.py:1\u001B[0m\n\u001B[0;32m----> 1\u001B[0m \u001B[38;5;28;01mfrom\u001B[39;00m \u001B[38;5;21;01mstatsmodels\u001B[39;00m\u001B[38;5;21;01m.\u001B[39;00m\u001B[38;5;21;01mtools\u001B[39;00m\u001B[38;5;21;01m.\u001B[39;00m\u001B[38;5;21;01m_testing\u001B[39;00m \u001B[38;5;28;01mimport\u001B[39;00m PytestTester\n\u001B[1;32m      3\u001B[0m \u001B[38;5;28;01mfrom\u001B[39;00m \u001B[38;5;21;01m.\u001B[39;00m\u001B[38;5;21;01mpython\u001B[39;00m \u001B[38;5;28;01mimport\u001B[39;00m (\n\u001B[1;32m      4\u001B[0m     PY37,\n\u001B[1;32m      5\u001B[0m     asunicode,\n\u001B[0;32m   (...)\u001B[0m\n\u001B[1;32m     11\u001B[0m     lfilter,\n\u001B[1;32m     12\u001B[0m )\n\u001B[1;32m     14\u001B[0m __all__ \u001B[38;5;241m=\u001B[39m [\n\u001B[1;32m     15\u001B[0m     \u001B[38;5;124m\"\u001B[39m\u001B[38;5;124mPY37\u001B[39m\u001B[38;5;124m\"\u001B[39m,\n\u001B[1;32m     16\u001B[0m     \u001B[38;5;124m\"\u001B[39m\u001B[38;5;124masunicode\u001B[39m\u001B[38;5;124m\"\u001B[39m,\n\u001B[0;32m   (...)\u001B[0m\n\u001B[1;32m     23\u001B[0m     \u001B[38;5;124m\"\u001B[39m\u001B[38;5;124mtest\u001B[39m\u001B[38;5;124m\"\u001B[39m,\n\u001B[1;32m     24\u001B[0m ]\n",
      "File \u001B[0;32m~/anaconda3/lib/python3.11/site-packages/statsmodels/tools/__init__.py:2\u001B[0m\n\u001B[1;32m      1\u001B[0m \u001B[38;5;28;01mfrom\u001B[39;00m \u001B[38;5;21;01m.\u001B[39;00m\u001B[38;5;21;01mtools\u001B[39;00m \u001B[38;5;28;01mimport\u001B[39;00m add_constant, categorical\n\u001B[0;32m----> 2\u001B[0m \u001B[38;5;28;01mfrom\u001B[39;00m \u001B[38;5;21;01mstatsmodels\u001B[39;00m\u001B[38;5;21;01m.\u001B[39;00m\u001B[38;5;21;01mtools\u001B[39;00m\u001B[38;5;21;01m.\u001B[39;00m\u001B[38;5;21;01m_testing\u001B[39;00m \u001B[38;5;28;01mimport\u001B[39;00m PytestTester\n\u001B[1;32m      4\u001B[0m __all__ \u001B[38;5;241m=\u001B[39m [\u001B[38;5;124m'\u001B[39m\u001B[38;5;124mtest\u001B[39m\u001B[38;5;124m'\u001B[39m, \u001B[38;5;124m'\u001B[39m\u001B[38;5;124madd_constant\u001B[39m\u001B[38;5;124m'\u001B[39m, \u001B[38;5;124m'\u001B[39m\u001B[38;5;124mcategorical\u001B[39m\u001B[38;5;124m'\u001B[39m]\n\u001B[1;32m      6\u001B[0m test \u001B[38;5;241m=\u001B[39m PytestTester()\n",
      "File \u001B[0;32m~/anaconda3/lib/python3.11/site-packages/statsmodels/tools/_testing.py:17\u001B[0m\n\u001B[1;32m     14\u001B[0m \u001B[38;5;28;01mfrom\u001B[39;00m \u001B[38;5;21;01mpackaging\u001B[39;00m\u001B[38;5;21;01m.\u001B[39;00m\u001B[38;5;21;01mversion\u001B[39;00m \u001B[38;5;28;01mimport\u001B[39;00m Version, parse\n\u001B[1;32m     16\u001B[0m \u001B[38;5;28;01mimport\u001B[39;00m \u001B[38;5;21;01mnumpy\u001B[39;00m \u001B[38;5;28;01mas\u001B[39;00m \u001B[38;5;21;01mnp\u001B[39;00m\n\u001B[0;32m---> 17\u001B[0m \u001B[38;5;28;01mfrom\u001B[39;00m \u001B[38;5;21;01mnumpy\u001B[39;00m\u001B[38;5;21;01m.\u001B[39;00m\u001B[38;5;21;01mtesting\u001B[39;00m \u001B[38;5;28;01mimport\u001B[39;00m assert_allclose, assert_\n\u001B[1;32m     19\u001B[0m \u001B[38;5;28;01mimport\u001B[39;00m \u001B[38;5;21;01mpandas\u001B[39;00m \u001B[38;5;28;01mas\u001B[39;00m \u001B[38;5;21;01mpd\u001B[39;00m\n\u001B[1;32m     22\u001B[0m \u001B[38;5;28;01mclass\u001B[39;00m \u001B[38;5;21;01mPytestTester\u001B[39;00m:\n",
      "File \u001B[0;32m~/anaconda3/lib/python3.11/site-packages/numpy/testing/__init__.py:11\u001B[0m\n\u001B[1;32m      8\u001B[0m \u001B[38;5;28;01mfrom\u001B[39;00m \u001B[38;5;21;01munittest\u001B[39;00m \u001B[38;5;28;01mimport\u001B[39;00m TestCase\n\u001B[1;32m     10\u001B[0m \u001B[38;5;28;01mfrom\u001B[39;00m \u001B[38;5;21;01m.\u001B[39;00m \u001B[38;5;28;01mimport\u001B[39;00m _private\n\u001B[0;32m---> 11\u001B[0m \u001B[38;5;28;01mfrom\u001B[39;00m \u001B[38;5;21;01m.\u001B[39;00m\u001B[38;5;21;01m_private\u001B[39;00m\u001B[38;5;21;01m.\u001B[39;00m\u001B[38;5;21;01mutils\u001B[39;00m \u001B[38;5;28;01mimport\u001B[39;00m \u001B[38;5;241m*\u001B[39m\n\u001B[1;32m     12\u001B[0m \u001B[38;5;28;01mfrom\u001B[39;00m \u001B[38;5;21;01m.\u001B[39;00m\u001B[38;5;21;01m_private\u001B[39;00m\u001B[38;5;21;01m.\u001B[39;00m\u001B[38;5;21;01mutils\u001B[39;00m \u001B[38;5;28;01mimport\u001B[39;00m (_assert_valid_refcount, _gen_alignment_data)\n\u001B[1;32m     13\u001B[0m \u001B[38;5;28;01mfrom\u001B[39;00m \u001B[38;5;21;01m.\u001B[39;00m\u001B[38;5;21;01m_private\u001B[39;00m \u001B[38;5;28;01mimport\u001B[39;00m extbuild, decorators \u001B[38;5;28;01mas\u001B[39;00m dec\n",
      "File \u001B[0;32m~/anaconda3/lib/python3.11/site-packages/numpy/testing/_private/utils.py:57\u001B[0m\n\u001B[1;32m     55\u001B[0m IS_PYSTON \u001B[38;5;241m=\u001B[39m \u001B[38;5;28mhasattr\u001B[39m(sys, \u001B[38;5;124m\"\u001B[39m\u001B[38;5;124mpyston_version_info\u001B[39m\u001B[38;5;124m\"\u001B[39m)\n\u001B[1;32m     56\u001B[0m HAS_REFCOUNT \u001B[38;5;241m=\u001B[39m \u001B[38;5;28mgetattr\u001B[39m(sys, \u001B[38;5;124m'\u001B[39m\u001B[38;5;124mgetrefcount\u001B[39m\u001B[38;5;124m'\u001B[39m, \u001B[38;5;28;01mNone\u001B[39;00m) \u001B[38;5;129;01mis\u001B[39;00m \u001B[38;5;129;01mnot\u001B[39;00m \u001B[38;5;28;01mNone\u001B[39;00m \u001B[38;5;129;01mand\u001B[39;00m \u001B[38;5;129;01mnot\u001B[39;00m IS_PYSTON\n\u001B[0;32m---> 57\u001B[0m HAS_LAPACK64 \u001B[38;5;241m=\u001B[39m numpy\u001B[38;5;241m.\u001B[39mlinalg\u001B[38;5;241m.\u001B[39m_umath_linalg\u001B[38;5;241m.\u001B[39m_ilp64\n\u001B[1;32m     59\u001B[0m _OLD_PROMOTION \u001B[38;5;241m=\u001B[39m \u001B[38;5;28;01mlambda\u001B[39;00m: np\u001B[38;5;241m.\u001B[39m_get_promotion_state() \u001B[38;5;241m==\u001B[39m \u001B[38;5;124m'\u001B[39m\u001B[38;5;124mlegacy\u001B[39m\u001B[38;5;124m'\u001B[39m\n\u001B[1;32m     61\u001B[0m IS_MUSL \u001B[38;5;241m=\u001B[39m \u001B[38;5;28;01mFalse\u001B[39;00m\n",
      "\u001B[0;31mAttributeError\u001B[0m: module 'numpy.linalg._umath_linalg' has no attribute '_ilp64'"
     ]
    }
   ],
   "source": [
    "import numpy as np\n",
    "import statsmodels.api as sm"
   ],
   "metadata": {
    "collapsed": false,
    "ExecuteTime": {
     "end_time": "2023-12-11T04:50:29.669287Z",
     "start_time": "2023-12-11T04:50:29.566771Z"
    }
   },
   "id": "d71d1171b439b5ff"
  },
  {
   "cell_type": "code",
   "execution_count": 209,
   "outputs": [
    {
     "ename": "ModuleNotFoundError",
     "evalue": "No module named 'sklearn'",
     "output_type": "error",
     "traceback": [
      "\u001B[0;31m---------------------------------------------------------------------------\u001B[0m",
      "\u001B[0;31mModuleNotFoundError\u001B[0m                       Traceback (most recent call last)",
      "Cell \u001B[0;32mIn[209], line 1\u001B[0m\n\u001B[0;32m----> 1\u001B[0m \u001B[38;5;28;01mfrom\u001B[39;00m \u001B[38;5;21;01msklearn\u001B[39;00m\u001B[38;5;21;01m.\u001B[39;00m\u001B[38;5;21;01mlinear_model\u001B[39;00m \u001B[38;5;28;01mimport\u001B[39;00m LinearRegression\n",
      "\u001B[0;31mModuleNotFoundError\u001B[0m: No module named 'sklearn'"
     ]
    }
   ],
   "source": [
    "from sklearn.linear_model import LinearRegression"
   ],
   "metadata": {
    "collapsed": false,
    "ExecuteTime": {
     "end_time": "2023-12-11T05:21:45.982718Z",
     "start_time": "2023-12-11T05:21:45.972701Z"
    }
   },
   "id": "9f3a4238a38f327b"
  },
  {
   "cell_type": "markdown",
   "source": [
    "## Training"
   ],
   "metadata": {
    "collapsed": false
   },
   "id": "9090523714cc6edd"
  },
  {
   "cell_type": "code",
   "execution_count": 34,
   "outputs": [
    {
     "name": "stderr",
     "output_type": "stream",
     "text": [
      "/var/folders/mn/64_gmkvj6j718qjxyr0977d40000gn/T/ipykernel_12419/983409552.py:2: FutureWarning: Series.fillna with 'method' is deprecated and will raise in a future version. Use obj.ffill() or obj.bfill() instead.\n",
      "  data['ioo_ret'].fillna(method='ffill', inplace=True)\n"
     ]
    },
    {
     "data": {
      "text/plain": "                 ret  momentum2   ioo_ret  rf_rate  market_ret\ndate                                                          \n2016-01-12 -0.029353   0.009148  0.007199  0.02102   -0.013821\n2016-01-13 -0.005082  -0.002724 -0.018670  0.02066   -0.039330\n2016-01-14 -0.007060  -0.008782  0.019025  0.02098   -0.001955\n2016-01-15 -0.161983  -0.180097 -0.029901  0.02033   -0.050231\n2016-01-16  0.074750  -0.115244 -0.029901  0.02035   -0.050251\n...              ...        ...       ...      ...         ...\n2019-04-27  0.002661   0.027777  0.002442  0.02536   -0.022918\n2019-04-28 -0.001534  -0.007999  0.002442  0.02536   -0.022918\n2019-04-29 -0.002300  -0.016298  0.002639  0.02536   -0.022721\n2019-04-30  0.023284  -0.002228  0.001215  0.02509   -0.023875\n2019-05-01  0.009379   0.005375 -0.007078  0.02511   -0.032188\n\n[1206 rows x 5 columns]",
      "text/html": "<div>\n<style scoped>\n    .dataframe tbody tr th:only-of-type {\n        vertical-align: middle;\n    }\n\n    .dataframe tbody tr th {\n        vertical-align: top;\n    }\n\n    .dataframe thead th {\n        text-align: right;\n    }\n</style>\n<table border=\"1\" class=\"dataframe\">\n  <thead>\n    <tr style=\"text-align: right;\">\n      <th></th>\n      <th>ret</th>\n      <th>momentum2</th>\n      <th>ioo_ret</th>\n      <th>rf_rate</th>\n      <th>market_ret</th>\n    </tr>\n    <tr>\n      <th>date</th>\n      <th></th>\n      <th></th>\n      <th></th>\n      <th></th>\n      <th></th>\n    </tr>\n  </thead>\n  <tbody>\n    <tr>\n      <th>2016-01-12</th>\n      <td>-0.029353</td>\n      <td>0.009148</td>\n      <td>0.007199</td>\n      <td>0.02102</td>\n      <td>-0.013821</td>\n    </tr>\n    <tr>\n      <th>2016-01-13</th>\n      <td>-0.005082</td>\n      <td>-0.002724</td>\n      <td>-0.018670</td>\n      <td>0.02066</td>\n      <td>-0.039330</td>\n    </tr>\n    <tr>\n      <th>2016-01-14</th>\n      <td>-0.007060</td>\n      <td>-0.008782</td>\n      <td>0.019025</td>\n      <td>0.02098</td>\n      <td>-0.001955</td>\n    </tr>\n    <tr>\n      <th>2016-01-15</th>\n      <td>-0.161983</td>\n      <td>-0.180097</td>\n      <td>-0.029901</td>\n      <td>0.02033</td>\n      <td>-0.050231</td>\n    </tr>\n    <tr>\n      <th>2016-01-16</th>\n      <td>0.074750</td>\n      <td>-0.115244</td>\n      <td>-0.029901</td>\n      <td>0.02035</td>\n      <td>-0.050251</td>\n    </tr>\n    <tr>\n      <th>...</th>\n      <td>...</td>\n      <td>...</td>\n      <td>...</td>\n      <td>...</td>\n      <td>...</td>\n    </tr>\n    <tr>\n      <th>2019-04-27</th>\n      <td>0.002661</td>\n      <td>0.027777</td>\n      <td>0.002442</td>\n      <td>0.02536</td>\n      <td>-0.022918</td>\n    </tr>\n    <tr>\n      <th>2019-04-28</th>\n      <td>-0.001534</td>\n      <td>-0.007999</td>\n      <td>0.002442</td>\n      <td>0.02536</td>\n      <td>-0.022918</td>\n    </tr>\n    <tr>\n      <th>2019-04-29</th>\n      <td>-0.002300</td>\n      <td>-0.016298</td>\n      <td>0.002639</td>\n      <td>0.02536</td>\n      <td>-0.022721</td>\n    </tr>\n    <tr>\n      <th>2019-04-30</th>\n      <td>0.023284</td>\n      <td>-0.002228</td>\n      <td>0.001215</td>\n      <td>0.02509</td>\n      <td>-0.023875</td>\n    </tr>\n    <tr>\n      <th>2019-05-01</th>\n      <td>0.009379</td>\n      <td>0.005375</td>\n      <td>-0.007078</td>\n      <td>0.02511</td>\n      <td>-0.032188</td>\n    </tr>\n  </tbody>\n</table>\n<p>1206 rows × 5 columns</p>\n</div>"
     },
     "execution_count": 34,
     "metadata": {},
     "output_type": "execute_result"
    }
   ],
   "source": [
    "data = df1[['ret', 'momentum2', 'ioo_ret', 'rf_rate']].copy()\n",
    "data['ioo_ret'].fillna(method='ffill', inplace=True)\n",
    "data['market_ret'] = data['ioo_ret'].ffill()-data['rf_rate']\n",
    "data"
   ],
   "metadata": {
    "collapsed": false,
    "ExecuteTime": {
     "end_time": "2023-12-11T05:38:23.305285Z",
     "start_time": "2023-12-11T05:38:23.288024Z"
    }
   },
   "id": "fc15799897d6a720"
  },
  {
   "cell_type": "code",
   "execution_count": 35,
   "outputs": [],
   "source": [
    "X = data[['momentum2', 'market_ret']]\n",
    "Y = data['ret']"
   ],
   "metadata": {
    "collapsed": false,
    "ExecuteTime": {
     "end_time": "2023-12-11T05:38:41.627270Z",
     "start_time": "2023-12-11T05:38:41.607271Z"
    }
   },
   "id": "dd1880ec2f4126dc"
  },
  {
   "cell_type": "code",
   "execution_count": 38,
   "outputs": [],
   "source": [
    "X = sm.add_constant(X)"
   ],
   "metadata": {
    "collapsed": false,
    "ExecuteTime": {
     "end_time": "2023-12-11T05:39:19.850443Z",
     "start_time": "2023-12-11T05:39:19.844605Z"
    }
   },
   "id": "e1ab7622bb7181ae"
  },
  {
   "cell_type": "code",
   "execution_count": 40,
   "outputs": [
    {
     "name": "stdout",
     "output_type": "stream",
     "text": [
      "                            OLS Regression Results                            \n",
      "==============================================================================\n",
      "Dep. Variable:                    ret   R-squared:                       0.094\n",
      "Model:                            OLS   Adj. R-squared:                  0.093\n",
      "Method:                 Least Squares   F-statistic:                     62.57\n",
      "Date:                Mon, 11 Dec 2023   Prob (F-statistic):           1.41e-26\n",
      "Time:                        00:39:33   Log-Likelihood:                 2230.3\n",
      "No. Observations:                1206   AIC:                            -4455.\n",
      "Df Residuals:                    1203   BIC:                            -4439.\n",
      "Df Model:                           2                                         \n",
      "Covariance Type:            nonrobust                                         \n",
      "==============================================================================\n",
      "                 coef    std err          t      P>|t|      [0.025      0.975]\n",
      "------------------------------------------------------------------------------\n",
      "const          0.0038      0.003      1.306      0.192      -0.002       0.009\n",
      "momentum2      0.0833      0.008     10.851      0.000       0.068       0.098\n",
      "market_ret     0.1265      0.112      1.130      0.259      -0.093       0.346\n",
      "==============================================================================\n",
      "Omnibus:                      165.634   Durbin-Watson:                   2.076\n",
      "Prob(Omnibus):                  0.000   Jarque-Bera (JB):             1052.836\n",
      "Skew:                           0.446   Prob(JB):                    2.40e-229\n",
      "Kurtosis:                       7.490   Cond. No.                         102.\n",
      "==============================================================================\n",
      "\n",
      "Notes:\n",
      "[1] Standard Errors assume that the covariance matrix of the errors is correctly specified.\n"
     ]
    }
   ],
   "source": [
    "model = sm.OLS(Y, X).fit()\n",
    "print(model.summary())"
   ],
   "metadata": {
    "collapsed": false,
    "ExecuteTime": {
     "end_time": "2023-12-11T05:39:33.677940Z",
     "start_time": "2023-12-11T05:39:33.663256Z"
    }
   },
   "id": "4c6ed0de2f62d232"
  },
  {
   "cell_type": "code",
   "execution_count": 41,
   "outputs": [],
   "source": [
    "from sklearn.model_selection import train_test_split\n",
    "X_train, X_test, Y_train, Y_test = train_test_split(X, Y, test_size=0.2, random_state=42)"
   ],
   "metadata": {
    "collapsed": false,
    "ExecuteTime": {
     "end_time": "2023-12-11T05:40:46.827074Z",
     "start_time": "2023-12-11T05:40:46.808151Z"
    }
   },
   "id": "f6d1144c5497e10"
  },
  {
   "cell_type": "code",
   "execution_count": 42,
   "outputs": [],
   "source": [
    "model = sm.OLS(Y_train, X_train).fit()"
   ],
   "metadata": {
    "collapsed": false,
    "ExecuteTime": {
     "end_time": "2023-12-11T05:40:59.666599Z",
     "start_time": "2023-12-11T05:40:59.645889Z"
    }
   },
   "id": "fd099e17d2b799ea"
  },
  {
   "cell_type": "code",
   "execution_count": 45,
   "outputs": [
    {
     "name": "stdout",
     "output_type": "stream",
     "text": [
      "                            OLS Regression Results                            \n",
      "==============================================================================\n",
      "Dep. Variable:                    ret   R-squared:                       0.087\n",
      "Model:                            OLS   Adj. R-squared:                  0.086\n",
      "Method:                 Least Squares   F-statistic:                     46.06\n",
      "Date:                Mon, 11 Dec 2023   Prob (F-statistic):           7.90e-20\n",
      "Time:                        00:42:00   Log-Likelihood:                 1788.5\n",
      "No. Observations:                 964   AIC:                            -3571.\n",
      "Df Residuals:                     961   BIC:                            -3556.\n",
      "Df Model:                           2                                         \n",
      "Covariance Type:            nonrobust                                         \n",
      "==============================================================================\n",
      "                 coef    std err          t      P>|t|      [0.025      0.975]\n",
      "------------------------------------------------------------------------------\n",
      "const          0.0031      0.003      0.960      0.337      -0.003       0.009\n",
      "momentum2      0.0816      0.009      9.410      0.000       0.065       0.099\n",
      "market_ret     0.0808      0.124      0.651      0.515      -0.163       0.324\n",
      "==============================================================================\n",
      "Omnibus:                      163.332   Durbin-Watson:                   2.038\n",
      "Prob(Omnibus):                  0.000   Jarque-Bera (JB):             1142.107\n",
      "Skew:                           0.570   Prob(JB):                    9.88e-249\n",
      "Kurtosis:                       8.209   Cond. No.                         102.\n",
      "==============================================================================\n",
      "\n",
      "Notes:\n",
      "[1] Standard Errors assume that the covariance matrix of the errors is correctly specified.\n"
     ]
    }
   ],
   "source": [
    "print(model.summary())"
   ],
   "metadata": {
    "collapsed": false,
    "ExecuteTime": {
     "end_time": "2023-12-11T05:42:00.244581Z",
     "start_time": "2023-12-11T05:42:00.223432Z"
    }
   },
   "id": "cd12c80f429d7d29"
  },
  {
   "cell_type": "code",
   "execution_count": 46,
   "outputs": [],
   "source": [
    "Y_pred = model.predict(X_test)"
   ],
   "metadata": {
    "collapsed": false,
    "ExecuteTime": {
     "end_time": "2023-12-11T05:42:13.145927Z",
     "start_time": "2023-12-11T05:42:13.129556Z"
    }
   },
   "id": "3cc87f4d1de0f6ae"
  },
  {
   "cell_type": "code",
   "execution_count": 47,
   "outputs": [
    {
     "data": {
      "text/plain": "0.11553306255416862"
     },
     "execution_count": 47,
     "metadata": {},
     "output_type": "execute_result"
    }
   ],
   "source": [
    "from sklearn.metrics import r2_score\n",
    "r2 = r2_score(Y_test, Y_pred)\n",
    "r2"
   ],
   "metadata": {
    "collapsed": false,
    "ExecuteTime": {
     "end_time": "2023-12-11T05:42:34.243039Z",
     "start_time": "2023-12-11T05:42:34.220335Z"
    }
   },
   "id": "e155e76ba93370c"
  },
  {
   "cell_type": "markdown",
   "source": [
    "## Include twitter"
   ],
   "metadata": {
    "collapsed": false
   },
   "id": "10da6962e5e49e54"
  },
  {
   "cell_type": "code",
   "execution_count": 56,
   "outputs": [
    {
     "data": {
      "text/plain": "             date    pos    neg    neu\n0      2017-06-27  0.316  0.105  0.578\n1      2018-09-08  0.089  0.000  0.911\n2      2018-09-08  0.070  0.000  0.930\n3      2018-09-08  0.080  0.000  0.920\n4      2018-09-08  0.059  0.167  0.774\n...           ...    ...    ...    ...\n55024  2018-11-14  0.000  0.081  0.919\n55025  2018-11-14  0.000  0.091  0.909\n55026  2018-11-14  0.108  0.000  0.892\n55027  2018-11-14  0.060  0.000  0.940\n55028  2018-11-14  0.052  0.244  0.704\n\n[55029 rows x 4 columns]",
      "text/html": "<div>\n<style scoped>\n    .dataframe tbody tr th:only-of-type {\n        vertical-align: middle;\n    }\n\n    .dataframe tbody tr th {\n        vertical-align: top;\n    }\n\n    .dataframe thead th {\n        text-align: right;\n    }\n</style>\n<table border=\"1\" class=\"dataframe\">\n  <thead>\n    <tr style=\"text-align: right;\">\n      <th></th>\n      <th>date</th>\n      <th>pos</th>\n      <th>neg</th>\n      <th>neu</th>\n    </tr>\n  </thead>\n  <tbody>\n    <tr>\n      <th>0</th>\n      <td>2017-06-27</td>\n      <td>0.316</td>\n      <td>0.105</td>\n      <td>0.578</td>\n    </tr>\n    <tr>\n      <th>1</th>\n      <td>2018-09-08</td>\n      <td>0.089</td>\n      <td>0.000</td>\n      <td>0.911</td>\n    </tr>\n    <tr>\n      <th>2</th>\n      <td>2018-09-08</td>\n      <td>0.070</td>\n      <td>0.000</td>\n      <td>0.930</td>\n    </tr>\n    <tr>\n      <th>3</th>\n      <td>2018-09-08</td>\n      <td>0.080</td>\n      <td>0.000</td>\n      <td>0.920</td>\n    </tr>\n    <tr>\n      <th>4</th>\n      <td>2018-09-08</td>\n      <td>0.059</td>\n      <td>0.167</td>\n      <td>0.774</td>\n    </tr>\n    <tr>\n      <th>...</th>\n      <td>...</td>\n      <td>...</td>\n      <td>...</td>\n      <td>...</td>\n    </tr>\n    <tr>\n      <th>55024</th>\n      <td>2018-11-14</td>\n      <td>0.000</td>\n      <td>0.081</td>\n      <td>0.919</td>\n    </tr>\n    <tr>\n      <th>55025</th>\n      <td>2018-11-14</td>\n      <td>0.000</td>\n      <td>0.091</td>\n      <td>0.909</td>\n    </tr>\n    <tr>\n      <th>55026</th>\n      <td>2018-11-14</td>\n      <td>0.108</td>\n      <td>0.000</td>\n      <td>0.892</td>\n    </tr>\n    <tr>\n      <th>55027</th>\n      <td>2018-11-14</td>\n      <td>0.060</td>\n      <td>0.000</td>\n      <td>0.940</td>\n    </tr>\n    <tr>\n      <th>55028</th>\n      <td>2018-11-14</td>\n      <td>0.052</td>\n      <td>0.244</td>\n      <td>0.704</td>\n    </tr>\n  </tbody>\n</table>\n<p>55029 rows × 4 columns</p>\n</div>"
     },
     "execution_count": 56,
     "metadata": {},
     "output_type": "execute_result"
    }
   ],
   "source": [
    "tw_df = pd.read_csv('twitter.csv')\n",
    "tw_df"
   ],
   "metadata": {
    "collapsed": false,
    "ExecuteTime": {
     "end_time": "2023-12-11T07:21:59.423625Z",
     "start_time": "2023-12-11T07:21:59.394092Z"
    }
   },
   "id": "720fb191461458c7"
  },
  {
   "cell_type": "code",
   "execution_count": 60,
   "outputs": [
    {
     "data": {
      "text/plain": "                 pos       neg  neu\ndate                               \n2017-01-01  0.283000  0.000000    2\n2017-01-02  0.165000  0.164250    4\n2017-01-03  0.225600  0.000000    5\n2017-01-04  0.218000  0.059000    2\n2017-01-05  0.212500  0.044500    4\n...              ...       ...  ...\n2019-04-27  0.144538  0.026067  119\n2019-04-28  0.140233  0.041628   86\n2019-04-29  0.148932  0.040000  147\n2019-04-30  0.158429  0.033173  133\n2019-05-01  0.132745  0.037438  137\n\n[839 rows x 3 columns]",
      "text/html": "<div>\n<style scoped>\n    .dataframe tbody tr th:only-of-type {\n        vertical-align: middle;\n    }\n\n    .dataframe tbody tr th {\n        vertical-align: top;\n    }\n\n    .dataframe thead th {\n        text-align: right;\n    }\n</style>\n<table border=\"1\" class=\"dataframe\">\n  <thead>\n    <tr style=\"text-align: right;\">\n      <th></th>\n      <th>pos</th>\n      <th>neg</th>\n      <th>neu</th>\n    </tr>\n    <tr>\n      <th>date</th>\n      <th></th>\n      <th></th>\n      <th></th>\n    </tr>\n  </thead>\n  <tbody>\n    <tr>\n      <th>2017-01-01</th>\n      <td>0.283000</td>\n      <td>0.000000</td>\n      <td>2</td>\n    </tr>\n    <tr>\n      <th>2017-01-02</th>\n      <td>0.165000</td>\n      <td>0.164250</td>\n      <td>4</td>\n    </tr>\n    <tr>\n      <th>2017-01-03</th>\n      <td>0.225600</td>\n      <td>0.000000</td>\n      <td>5</td>\n    </tr>\n    <tr>\n      <th>2017-01-04</th>\n      <td>0.218000</td>\n      <td>0.059000</td>\n      <td>2</td>\n    </tr>\n    <tr>\n      <th>2017-01-05</th>\n      <td>0.212500</td>\n      <td>0.044500</td>\n      <td>4</td>\n    </tr>\n    <tr>\n      <th>...</th>\n      <td>...</td>\n      <td>...</td>\n      <td>...</td>\n    </tr>\n    <tr>\n      <th>2019-04-27</th>\n      <td>0.144538</td>\n      <td>0.026067</td>\n      <td>119</td>\n    </tr>\n    <tr>\n      <th>2019-04-28</th>\n      <td>0.140233</td>\n      <td>0.041628</td>\n      <td>86</td>\n    </tr>\n    <tr>\n      <th>2019-04-29</th>\n      <td>0.148932</td>\n      <td>0.040000</td>\n      <td>147</td>\n    </tr>\n    <tr>\n      <th>2019-04-30</th>\n      <td>0.158429</td>\n      <td>0.033173</td>\n      <td>133</td>\n    </tr>\n    <tr>\n      <th>2019-05-01</th>\n      <td>0.132745</td>\n      <td>0.037438</td>\n      <td>137</td>\n    </tr>\n  </tbody>\n</table>\n<p>839 rows × 3 columns</p>\n</div>"
     },
     "execution_count": 60,
     "metadata": {},
     "output_type": "execute_result"
    }
   ],
   "source": [
    "tw = tw_df.groupby('date').agg({'pos': 'mean', 'neg': 'mean', 'neu': 'count'})\n",
    "tw"
   ],
   "metadata": {
    "collapsed": false,
    "ExecuteTime": {
     "end_time": "2023-12-11T07:27:20.727968Z",
     "start_time": "2023-12-11T07:27:20.702983Z"
    }
   },
   "id": "33c4aa29cbbbb5b0"
  },
  {
   "cell_type": "code",
   "execution_count": 62,
   "outputs": [
    {
     "data": {
      "text/plain": "                 pos       neg  neu  sentiment\ndate                                          \n2017-01-01  0.283000  0.000000    2   1.000000\n2017-01-02  0.165000  0.164250    4   0.002278\n2017-01-03  0.225600  0.000000    5   1.000000\n2017-01-04  0.218000  0.059000    2   0.574007\n2017-01-05  0.212500  0.044500    4   0.653696\n...              ...       ...  ...        ...\n2019-04-27  0.144538  0.026067  119   0.694414\n2019-04-28  0.140233  0.041628   86   0.542199\n2019-04-29  0.148932  0.040000  147   0.576567\n2019-04-30  0.158429  0.033173  133   0.653730\n2019-05-01  0.132745  0.037438  137   0.560026\n\n[839 rows x 4 columns]",
      "text/html": "<div>\n<style scoped>\n    .dataframe tbody tr th:only-of-type {\n        vertical-align: middle;\n    }\n\n    .dataframe tbody tr th {\n        vertical-align: top;\n    }\n\n    .dataframe thead th {\n        text-align: right;\n    }\n</style>\n<table border=\"1\" class=\"dataframe\">\n  <thead>\n    <tr style=\"text-align: right;\">\n      <th></th>\n      <th>pos</th>\n      <th>neg</th>\n      <th>neu</th>\n      <th>sentiment</th>\n    </tr>\n    <tr>\n      <th>date</th>\n      <th></th>\n      <th></th>\n      <th></th>\n      <th></th>\n    </tr>\n  </thead>\n  <tbody>\n    <tr>\n      <th>2017-01-01</th>\n      <td>0.283000</td>\n      <td>0.000000</td>\n      <td>2</td>\n      <td>1.000000</td>\n    </tr>\n    <tr>\n      <th>2017-01-02</th>\n      <td>0.165000</td>\n      <td>0.164250</td>\n      <td>4</td>\n      <td>0.002278</td>\n    </tr>\n    <tr>\n      <th>2017-01-03</th>\n      <td>0.225600</td>\n      <td>0.000000</td>\n      <td>5</td>\n      <td>1.000000</td>\n    </tr>\n    <tr>\n      <th>2017-01-04</th>\n      <td>0.218000</td>\n      <td>0.059000</td>\n      <td>2</td>\n      <td>0.574007</td>\n    </tr>\n    <tr>\n      <th>2017-01-05</th>\n      <td>0.212500</td>\n      <td>0.044500</td>\n      <td>4</td>\n      <td>0.653696</td>\n    </tr>\n    <tr>\n      <th>...</th>\n      <td>...</td>\n      <td>...</td>\n      <td>...</td>\n      <td>...</td>\n    </tr>\n    <tr>\n      <th>2019-04-27</th>\n      <td>0.144538</td>\n      <td>0.026067</td>\n      <td>119</td>\n      <td>0.694414</td>\n    </tr>\n    <tr>\n      <th>2019-04-28</th>\n      <td>0.140233</td>\n      <td>0.041628</td>\n      <td>86</td>\n      <td>0.542199</td>\n    </tr>\n    <tr>\n      <th>2019-04-29</th>\n      <td>0.148932</td>\n      <td>0.040000</td>\n      <td>147</td>\n      <td>0.576567</td>\n    </tr>\n    <tr>\n      <th>2019-04-30</th>\n      <td>0.158429</td>\n      <td>0.033173</td>\n      <td>133</td>\n      <td>0.653730</td>\n    </tr>\n    <tr>\n      <th>2019-05-01</th>\n      <td>0.132745</td>\n      <td>0.037438</td>\n      <td>137</td>\n      <td>0.560026</td>\n    </tr>\n  </tbody>\n</table>\n<p>839 rows × 4 columns</p>\n</div>"
     },
     "execution_count": 62,
     "metadata": {},
     "output_type": "execute_result"
    }
   ],
   "source": [
    "tw['sentiment'] = 2 * (tw['pos']/(tw['pos']+tw['neg']) - 0.5)\n",
    "tw"
   ],
   "metadata": {
    "collapsed": false,
    "ExecuteTime": {
     "end_time": "2023-12-11T07:29:13.042549Z",
     "start_time": "2023-12-11T07:29:13.016333Z"
    }
   },
   "id": "b8b393be911a151b"
  },
  {
   "cell_type": "code",
   "execution_count": 57,
   "outputs": [
    {
     "data": {
      "text/plain": "                 pos       neg  neu\ndate                               \n2017-01-01  0.283000  0.000000    2\n2017-01-02  0.165000  0.164250    4\n2017-01-03  0.225600  0.000000    5\n2017-01-04  0.218000  0.059000    2\n2017-01-05  0.212500  0.044500    4\n...              ...       ...  ...\n2019-04-27  0.144538  0.026067  119\n2019-04-28  0.140233  0.041628   86\n2019-04-29  0.148932  0.040000  147\n2019-04-30  0.158429  0.033173  133\n2019-05-01  0.132745  0.037438  137\n\n[839 rows x 3 columns]",
      "text/html": "<div>\n<style scoped>\n    .dataframe tbody tr th:only-of-type {\n        vertical-align: middle;\n    }\n\n    .dataframe tbody tr th {\n        vertical-align: top;\n    }\n\n    .dataframe thead th {\n        text-align: right;\n    }\n</style>\n<table border=\"1\" class=\"dataframe\">\n  <thead>\n    <tr style=\"text-align: right;\">\n      <th></th>\n      <th>pos</th>\n      <th>neg</th>\n      <th>neu</th>\n    </tr>\n    <tr>\n      <th>date</th>\n      <th></th>\n      <th></th>\n      <th></th>\n    </tr>\n  </thead>\n  <tbody>\n    <tr>\n      <th>2017-01-01</th>\n      <td>0.283000</td>\n      <td>0.000000</td>\n      <td>2</td>\n    </tr>\n    <tr>\n      <th>2017-01-02</th>\n      <td>0.165000</td>\n      <td>0.164250</td>\n      <td>4</td>\n    </tr>\n    <tr>\n      <th>2017-01-03</th>\n      <td>0.225600</td>\n      <td>0.000000</td>\n      <td>5</td>\n    </tr>\n    <tr>\n      <th>2017-01-04</th>\n      <td>0.218000</td>\n      <td>0.059000</td>\n      <td>2</td>\n    </tr>\n    <tr>\n      <th>2017-01-05</th>\n      <td>0.212500</td>\n      <td>0.044500</td>\n      <td>4</td>\n    </tr>\n    <tr>\n      <th>...</th>\n      <td>...</td>\n      <td>...</td>\n      <td>...</td>\n    </tr>\n    <tr>\n      <th>2019-04-27</th>\n      <td>0.144538</td>\n      <td>0.026067</td>\n      <td>119</td>\n    </tr>\n    <tr>\n      <th>2019-04-28</th>\n      <td>0.140233</td>\n      <td>0.041628</td>\n      <td>86</td>\n    </tr>\n    <tr>\n      <th>2019-04-29</th>\n      <td>0.148932</td>\n      <td>0.040000</td>\n      <td>147</td>\n    </tr>\n    <tr>\n      <th>2019-04-30</th>\n      <td>0.158429</td>\n      <td>0.033173</td>\n      <td>133</td>\n    </tr>\n    <tr>\n      <th>2019-05-01</th>\n      <td>0.132745</td>\n      <td>0.037438</td>\n      <td>137</td>\n    </tr>\n  </tbody>\n</table>\n<p>839 rows × 3 columns</p>\n</div>"
     },
     "execution_count": 57,
     "metadata": {},
     "output_type": "execute_result"
    }
   ],
   "source": [
    "tw_df.groupby('date').agg({'pos': 'mean', 'neg': 'mean', 'neu': 'count'})"
   ],
   "metadata": {
    "collapsed": false,
    "ExecuteTime": {
     "end_time": "2023-12-11T07:22:12.014662Z",
     "start_time": "2023-12-11T07:22:11.993218Z"
    }
   },
   "id": "fa2cc4f3c671b7e9"
  },
  {
   "cell_type": "code",
   "execution_count": 53,
   "outputs": [
    {
     "data": {
      "text/plain": "            const  momentum2  market_ret\ndate                                    \n2016-01-12    1.0   0.009148   -0.013821\n2016-01-13    1.0  -0.002724   -0.039330\n2016-01-14    1.0  -0.008782   -0.001955\n2016-01-15    1.0  -0.180097   -0.050231\n2016-01-16    1.0  -0.115244   -0.050251\n...           ...        ...         ...\n2019-04-27    1.0   0.027777   -0.022918\n2019-04-28    1.0  -0.007999   -0.022918\n2019-04-29    1.0  -0.016298   -0.022721\n2019-04-30    1.0  -0.002228   -0.023875\n2019-05-01    1.0   0.005375   -0.032188\n\n[1206 rows x 3 columns]",
      "text/html": "<div>\n<style scoped>\n    .dataframe tbody tr th:only-of-type {\n        vertical-align: middle;\n    }\n\n    .dataframe tbody tr th {\n        vertical-align: top;\n    }\n\n    .dataframe thead th {\n        text-align: right;\n    }\n</style>\n<table border=\"1\" class=\"dataframe\">\n  <thead>\n    <tr style=\"text-align: right;\">\n      <th></th>\n      <th>const</th>\n      <th>momentum2</th>\n      <th>market_ret</th>\n    </tr>\n    <tr>\n      <th>date</th>\n      <th></th>\n      <th></th>\n      <th></th>\n    </tr>\n  </thead>\n  <tbody>\n    <tr>\n      <th>2016-01-12</th>\n      <td>1.0</td>\n      <td>0.009148</td>\n      <td>-0.013821</td>\n    </tr>\n    <tr>\n      <th>2016-01-13</th>\n      <td>1.0</td>\n      <td>-0.002724</td>\n      <td>-0.039330</td>\n    </tr>\n    <tr>\n      <th>2016-01-14</th>\n      <td>1.0</td>\n      <td>-0.008782</td>\n      <td>-0.001955</td>\n    </tr>\n    <tr>\n      <th>2016-01-15</th>\n      <td>1.0</td>\n      <td>-0.180097</td>\n      <td>-0.050231</td>\n    </tr>\n    <tr>\n      <th>2016-01-16</th>\n      <td>1.0</td>\n      <td>-0.115244</td>\n      <td>-0.050251</td>\n    </tr>\n    <tr>\n      <th>...</th>\n      <td>...</td>\n      <td>...</td>\n      <td>...</td>\n    </tr>\n    <tr>\n      <th>2019-04-27</th>\n      <td>1.0</td>\n      <td>0.027777</td>\n      <td>-0.022918</td>\n    </tr>\n    <tr>\n      <th>2019-04-28</th>\n      <td>1.0</td>\n      <td>-0.007999</td>\n      <td>-0.022918</td>\n    </tr>\n    <tr>\n      <th>2019-04-29</th>\n      <td>1.0</td>\n      <td>-0.016298</td>\n      <td>-0.022721</td>\n    </tr>\n    <tr>\n      <th>2019-04-30</th>\n      <td>1.0</td>\n      <td>-0.002228</td>\n      <td>-0.023875</td>\n    </tr>\n    <tr>\n      <th>2019-05-01</th>\n      <td>1.0</td>\n      <td>0.005375</td>\n      <td>-0.032188</td>\n    </tr>\n  </tbody>\n</table>\n<p>1206 rows × 3 columns</p>\n</div>"
     },
     "execution_count": 53,
     "metadata": {},
     "output_type": "execute_result"
    }
   ],
   "source": [
    "X"
   ],
   "metadata": {
    "collapsed": false,
    "ExecuteTime": {
     "end_time": "2023-12-11T07:15:43.143155Z",
     "start_time": "2023-12-11T07:15:43.108618Z"
    }
   },
   "id": "596bead145b13ecd"
  },
  {
   "cell_type": "code",
   "execution_count": 63,
   "outputs": [
    {
     "data": {
      "text/plain": "0.09043769532649659"
     },
     "execution_count": 63,
     "metadata": {},
     "output_type": "execute_result"
    }
   ],
   "source": [
    "tw['sentiment'].corr(df1['ret'])"
   ],
   "metadata": {
    "collapsed": false,
    "ExecuteTime": {
     "end_time": "2023-12-11T07:29:37.749425Z",
     "start_time": "2023-12-11T07:29:37.730035Z"
    }
   },
   "id": "359c9f28f754f842"
  },
  {
   "cell_type": "markdown",
   "source": [
    "## Include Reddit"
   ],
   "metadata": {
    "collapsed": false
   },
   "id": "b76c53afd2b8d710"
  },
  {
   "cell_type": "code",
   "execution_count": 155,
   "outputs": [
    {
     "data": {
      "text/plain": "           _c0  score  controversiality                      timestamp  \\\n0      2810255  -19.0                 0  2018-09-19T18:54:07.000-04:00   \n1      2810599    1.0                 0  2018-09-07T17:10:36.000-04:00   \n2      2810822    1.0                 0  2018-09-12T16:06:46.000-04:00   \n3      2811062   22.0                 0  2018-09-27T19:10:36.000-04:00   \n4      2855532    1.0                 0  2018-12-24T22:55:30.000-05:00   \n...        ...    ...               ...                            ...   \n28964  1297160   -6.0                 0  2016-12-07T13:30:39.000-05:00   \n28965  1297002  -10.0                 0  2016-06-18T00:47:06.000-04:00   \n28966  1297209   71.0                 0  2016-10-23T01:02:27.000-04:00   \n28967  1297164   -4.0                 0  2016-12-22T10:51:35.000-05:00   \n28968  1297225   15.0                 0  2016-03-03T11:04:59.000-05:00   \n\n       sentiment  \n0           0.25  \n1           0.25  \n2           0.50  \n3           0.25  \n4           0.25  \n...          ...  \n28964       0.25  \n28965       0.25  \n28966       0.25  \n28967       0.50  \n28968       0.25  \n\n[28969 rows x 5 columns]",
      "text/html": "<div>\n<style scoped>\n    .dataframe tbody tr th:only-of-type {\n        vertical-align: middle;\n    }\n\n    .dataframe tbody tr th {\n        vertical-align: top;\n    }\n\n    .dataframe thead th {\n        text-align: right;\n    }\n</style>\n<table border=\"1\" class=\"dataframe\">\n  <thead>\n    <tr style=\"text-align: right;\">\n      <th></th>\n      <th>_c0</th>\n      <th>score</th>\n      <th>controversiality</th>\n      <th>timestamp</th>\n      <th>sentiment</th>\n    </tr>\n  </thead>\n  <tbody>\n    <tr>\n      <th>0</th>\n      <td>2810255</td>\n      <td>-19.0</td>\n      <td>0</td>\n      <td>2018-09-19T18:54:07.000-04:00</td>\n      <td>0.25</td>\n    </tr>\n    <tr>\n      <th>1</th>\n      <td>2810599</td>\n      <td>1.0</td>\n      <td>0</td>\n      <td>2018-09-07T17:10:36.000-04:00</td>\n      <td>0.25</td>\n    </tr>\n    <tr>\n      <th>2</th>\n      <td>2810822</td>\n      <td>1.0</td>\n      <td>0</td>\n      <td>2018-09-12T16:06:46.000-04:00</td>\n      <td>0.50</td>\n    </tr>\n    <tr>\n      <th>3</th>\n      <td>2811062</td>\n      <td>22.0</td>\n      <td>0</td>\n      <td>2018-09-27T19:10:36.000-04:00</td>\n      <td>0.25</td>\n    </tr>\n    <tr>\n      <th>4</th>\n      <td>2855532</td>\n      <td>1.0</td>\n      <td>0</td>\n      <td>2018-12-24T22:55:30.000-05:00</td>\n      <td>0.25</td>\n    </tr>\n    <tr>\n      <th>...</th>\n      <td>...</td>\n      <td>...</td>\n      <td>...</td>\n      <td>...</td>\n      <td>...</td>\n    </tr>\n    <tr>\n      <th>28964</th>\n      <td>1297160</td>\n      <td>-6.0</td>\n      <td>0</td>\n      <td>2016-12-07T13:30:39.000-05:00</td>\n      <td>0.25</td>\n    </tr>\n    <tr>\n      <th>28965</th>\n      <td>1297002</td>\n      <td>-10.0</td>\n      <td>0</td>\n      <td>2016-06-18T00:47:06.000-04:00</td>\n      <td>0.25</td>\n    </tr>\n    <tr>\n      <th>28966</th>\n      <td>1297209</td>\n      <td>71.0</td>\n      <td>0</td>\n      <td>2016-10-23T01:02:27.000-04:00</td>\n      <td>0.25</td>\n    </tr>\n    <tr>\n      <th>28967</th>\n      <td>1297164</td>\n      <td>-4.0</td>\n      <td>0</td>\n      <td>2016-12-22T10:51:35.000-05:00</td>\n      <td>0.50</td>\n    </tr>\n    <tr>\n      <th>28968</th>\n      <td>1297225</td>\n      <td>15.0</td>\n      <td>0</td>\n      <td>2016-03-03T11:04:59.000-05:00</td>\n      <td>0.25</td>\n    </tr>\n  </tbody>\n</table>\n<p>28969 rows × 5 columns</p>\n</div>"
     },
     "execution_count": 155,
     "metadata": {},
     "output_type": "execute_result"
    }
   ],
   "source": [
    "reddit = pd.read_csv('reddit_demo2.csv')\n",
    "reddit"
   ],
   "metadata": {
    "collapsed": false,
    "ExecuteTime": {
     "end_time": "2023-12-11T10:08:32.100572Z",
     "start_time": "2023-12-11T10:08:32.071628Z"
    }
   },
   "id": "f7add5a64a867ce7"
  },
  {
   "cell_type": "markdown",
   "source": [],
   "metadata": {
    "collapsed": false
   },
   "id": "bbc247e28d381385"
  },
  {
   "cell_type": "code",
   "execution_count": 156,
   "outputs": [
    {
     "data": {
      "text/plain": "           _c0  score  controversiality                      timestamp  \\\n0      2810255  -19.0                 0  2018-09-19T18:54:07.000-04:00   \n1      2810599    1.0                 0  2018-09-07T17:10:36.000-04:00   \n2      2810822    1.0                 0  2018-09-12T16:06:46.000-04:00   \n3      2811062   22.0                 0  2018-09-27T19:10:36.000-04:00   \n4      2855532    1.0                 0  2018-12-24T22:55:30.000-05:00   \n...        ...    ...               ...                            ...   \n28964  1297160   -6.0                 0  2016-12-07T13:30:39.000-05:00   \n28965  1297002  -10.0                 0  2016-06-18T00:47:06.000-04:00   \n28966  1297209   71.0                 0  2016-10-23T01:02:27.000-04:00   \n28967  1297164   -4.0                 0  2016-12-22T10:51:35.000-05:00   \n28968  1297225   15.0                 0  2016-03-03T11:04:59.000-05:00   \n\n       sentiment        date  \n0           0.25  2018-09-19  \n1           0.25  2018-09-07  \n2           0.50  2018-09-12  \n3           0.25  2018-09-27  \n4           0.25  2018-12-24  \n...          ...         ...  \n28964       0.25  2016-12-07  \n28965       0.25  2016-06-18  \n28966       0.25  2016-10-23  \n28967       0.50  2016-12-22  \n28968       0.25  2016-03-03  \n\n[28969 rows x 6 columns]",
      "text/html": "<div>\n<style scoped>\n    .dataframe tbody tr th:only-of-type {\n        vertical-align: middle;\n    }\n\n    .dataframe tbody tr th {\n        vertical-align: top;\n    }\n\n    .dataframe thead th {\n        text-align: right;\n    }\n</style>\n<table border=\"1\" class=\"dataframe\">\n  <thead>\n    <tr style=\"text-align: right;\">\n      <th></th>\n      <th>_c0</th>\n      <th>score</th>\n      <th>controversiality</th>\n      <th>timestamp</th>\n      <th>sentiment</th>\n      <th>date</th>\n    </tr>\n  </thead>\n  <tbody>\n    <tr>\n      <th>0</th>\n      <td>2810255</td>\n      <td>-19.0</td>\n      <td>0</td>\n      <td>2018-09-19T18:54:07.000-04:00</td>\n      <td>0.25</td>\n      <td>2018-09-19</td>\n    </tr>\n    <tr>\n      <th>1</th>\n      <td>2810599</td>\n      <td>1.0</td>\n      <td>0</td>\n      <td>2018-09-07T17:10:36.000-04:00</td>\n      <td>0.25</td>\n      <td>2018-09-07</td>\n    </tr>\n    <tr>\n      <th>2</th>\n      <td>2810822</td>\n      <td>1.0</td>\n      <td>0</td>\n      <td>2018-09-12T16:06:46.000-04:00</td>\n      <td>0.50</td>\n      <td>2018-09-12</td>\n    </tr>\n    <tr>\n      <th>3</th>\n      <td>2811062</td>\n      <td>22.0</td>\n      <td>0</td>\n      <td>2018-09-27T19:10:36.000-04:00</td>\n      <td>0.25</td>\n      <td>2018-09-27</td>\n    </tr>\n    <tr>\n      <th>4</th>\n      <td>2855532</td>\n      <td>1.0</td>\n      <td>0</td>\n      <td>2018-12-24T22:55:30.000-05:00</td>\n      <td>0.25</td>\n      <td>2018-12-24</td>\n    </tr>\n    <tr>\n      <th>...</th>\n      <td>...</td>\n      <td>...</td>\n      <td>...</td>\n      <td>...</td>\n      <td>...</td>\n      <td>...</td>\n    </tr>\n    <tr>\n      <th>28964</th>\n      <td>1297160</td>\n      <td>-6.0</td>\n      <td>0</td>\n      <td>2016-12-07T13:30:39.000-05:00</td>\n      <td>0.25</td>\n      <td>2016-12-07</td>\n    </tr>\n    <tr>\n      <th>28965</th>\n      <td>1297002</td>\n      <td>-10.0</td>\n      <td>0</td>\n      <td>2016-06-18T00:47:06.000-04:00</td>\n      <td>0.25</td>\n      <td>2016-06-18</td>\n    </tr>\n    <tr>\n      <th>28966</th>\n      <td>1297209</td>\n      <td>71.0</td>\n      <td>0</td>\n      <td>2016-10-23T01:02:27.000-04:00</td>\n      <td>0.25</td>\n      <td>2016-10-23</td>\n    </tr>\n    <tr>\n      <th>28967</th>\n      <td>1297164</td>\n      <td>-4.0</td>\n      <td>0</td>\n      <td>2016-12-22T10:51:35.000-05:00</td>\n      <td>0.50</td>\n      <td>2016-12-22</td>\n    </tr>\n    <tr>\n      <th>28968</th>\n      <td>1297225</td>\n      <td>15.0</td>\n      <td>0</td>\n      <td>2016-03-03T11:04:59.000-05:00</td>\n      <td>0.25</td>\n      <td>2016-03-03</td>\n    </tr>\n  </tbody>\n</table>\n<p>28969 rows × 6 columns</p>\n</div>"
     },
     "execution_count": 156,
     "metadata": {},
     "output_type": "execute_result"
    }
   ],
   "source": [
    "reddit['date'] = reddit['timestamp'].str[:10]\n",
    "reddit"
   ],
   "metadata": {
    "collapsed": false,
    "ExecuteTime": {
     "end_time": "2023-12-11T10:08:36.130796Z",
     "start_time": "2023-12-11T10:08:36.109287Z"
    }
   },
   "id": "681c2d2be136f701"
  },
  {
   "cell_type": "code",
   "execution_count": 157,
   "outputs": [
    {
     "data": {
      "text/plain": "           _c0  score  controversiality                      timestamp  \\\n0      2810255  -19.0                 0  2018-09-19T18:54:07.000-04:00   \n1      2810599    1.0                 0  2018-09-07T17:10:36.000-04:00   \n2      2810822    1.0                 0  2018-09-12T16:06:46.000-04:00   \n3      2811062   22.0                 0  2018-09-27T19:10:36.000-04:00   \n4      2855532    1.0                 0  2018-12-24T22:55:30.000-05:00   \n...        ...    ...               ...                            ...   \n28964  1297160   -6.0                 0  2016-12-07T13:30:39.000-05:00   \n28965  1297002  -10.0                 0  2016-06-18T00:47:06.000-04:00   \n28966  1297209   71.0                 0  2016-10-23T01:02:27.000-04:00   \n28967  1297164   -4.0                 0  2016-12-22T10:51:35.000-05:00   \n28968  1297225   15.0                 0  2016-03-03T11:04:59.000-05:00   \n\n       sentiment        date  weighted_sentiment  abs_score  \n0           0.25  2018-09-19               -4.75       19.0  \n1           0.25  2018-09-07                0.25        1.0  \n2           0.50  2018-09-12                0.50        1.0  \n3           0.25  2018-09-27                5.50       22.0  \n4           0.25  2018-12-24                0.25        1.0  \n...          ...         ...                 ...        ...  \n28964       0.25  2016-12-07               -1.50        6.0  \n28965       0.25  2016-06-18               -2.50       10.0  \n28966       0.25  2016-10-23               17.75       71.0  \n28967       0.50  2016-12-22               -2.00        4.0  \n28968       0.25  2016-03-03                3.75       15.0  \n\n[28969 rows x 8 columns]",
      "text/html": "<div>\n<style scoped>\n    .dataframe tbody tr th:only-of-type {\n        vertical-align: middle;\n    }\n\n    .dataframe tbody tr th {\n        vertical-align: top;\n    }\n\n    .dataframe thead th {\n        text-align: right;\n    }\n</style>\n<table border=\"1\" class=\"dataframe\">\n  <thead>\n    <tr style=\"text-align: right;\">\n      <th></th>\n      <th>_c0</th>\n      <th>score</th>\n      <th>controversiality</th>\n      <th>timestamp</th>\n      <th>sentiment</th>\n      <th>date</th>\n      <th>weighted_sentiment</th>\n      <th>abs_score</th>\n    </tr>\n  </thead>\n  <tbody>\n    <tr>\n      <th>0</th>\n      <td>2810255</td>\n      <td>-19.0</td>\n      <td>0</td>\n      <td>2018-09-19T18:54:07.000-04:00</td>\n      <td>0.25</td>\n      <td>2018-09-19</td>\n      <td>-4.75</td>\n      <td>19.0</td>\n    </tr>\n    <tr>\n      <th>1</th>\n      <td>2810599</td>\n      <td>1.0</td>\n      <td>0</td>\n      <td>2018-09-07T17:10:36.000-04:00</td>\n      <td>0.25</td>\n      <td>2018-09-07</td>\n      <td>0.25</td>\n      <td>1.0</td>\n    </tr>\n    <tr>\n      <th>2</th>\n      <td>2810822</td>\n      <td>1.0</td>\n      <td>0</td>\n      <td>2018-09-12T16:06:46.000-04:00</td>\n      <td>0.50</td>\n      <td>2018-09-12</td>\n      <td>0.50</td>\n      <td>1.0</td>\n    </tr>\n    <tr>\n      <th>3</th>\n      <td>2811062</td>\n      <td>22.0</td>\n      <td>0</td>\n      <td>2018-09-27T19:10:36.000-04:00</td>\n      <td>0.25</td>\n      <td>2018-09-27</td>\n      <td>5.50</td>\n      <td>22.0</td>\n    </tr>\n    <tr>\n      <th>4</th>\n      <td>2855532</td>\n      <td>1.0</td>\n      <td>0</td>\n      <td>2018-12-24T22:55:30.000-05:00</td>\n      <td>0.25</td>\n      <td>2018-12-24</td>\n      <td>0.25</td>\n      <td>1.0</td>\n    </tr>\n    <tr>\n      <th>...</th>\n      <td>...</td>\n      <td>...</td>\n      <td>...</td>\n      <td>...</td>\n      <td>...</td>\n      <td>...</td>\n      <td>...</td>\n      <td>...</td>\n    </tr>\n    <tr>\n      <th>28964</th>\n      <td>1297160</td>\n      <td>-6.0</td>\n      <td>0</td>\n      <td>2016-12-07T13:30:39.000-05:00</td>\n      <td>0.25</td>\n      <td>2016-12-07</td>\n      <td>-1.50</td>\n      <td>6.0</td>\n    </tr>\n    <tr>\n      <th>28965</th>\n      <td>1297002</td>\n      <td>-10.0</td>\n      <td>0</td>\n      <td>2016-06-18T00:47:06.000-04:00</td>\n      <td>0.25</td>\n      <td>2016-06-18</td>\n      <td>-2.50</td>\n      <td>10.0</td>\n    </tr>\n    <tr>\n      <th>28966</th>\n      <td>1297209</td>\n      <td>71.0</td>\n      <td>0</td>\n      <td>2016-10-23T01:02:27.000-04:00</td>\n      <td>0.25</td>\n      <td>2016-10-23</td>\n      <td>17.75</td>\n      <td>71.0</td>\n    </tr>\n    <tr>\n      <th>28967</th>\n      <td>1297164</td>\n      <td>-4.0</td>\n      <td>0</td>\n      <td>2016-12-22T10:51:35.000-05:00</td>\n      <td>0.50</td>\n      <td>2016-12-22</td>\n      <td>-2.00</td>\n      <td>4.0</td>\n    </tr>\n    <tr>\n      <th>28968</th>\n      <td>1297225</td>\n      <td>15.0</td>\n      <td>0</td>\n      <td>2016-03-03T11:04:59.000-05:00</td>\n      <td>0.25</td>\n      <td>2016-03-03</td>\n      <td>3.75</td>\n      <td>15.0</td>\n    </tr>\n  </tbody>\n</table>\n<p>28969 rows × 8 columns</p>\n</div>"
     },
     "execution_count": 157,
     "metadata": {},
     "output_type": "execute_result"
    }
   ],
   "source": [
    "reddit['weighted_sentiment'] = reddit['score'] * reddit['sentiment']\n",
    "reddit['abs_score'] = reddit['score'].abs()\n",
    "reddit"
   ],
   "metadata": {
    "collapsed": false,
    "ExecuteTime": {
     "end_time": "2023-12-11T10:08:38.322540Z",
     "start_time": "2023-12-11T10:08:38.292264Z"
    }
   },
   "id": "2cbe512c04ce505a"
  },
  {
   "cell_type": "code",
   "execution_count": 160,
   "outputs": [
    {
     "data": {
      "text/plain": "            weighted_sentiment  abs_score  sentiment\ndate                                                \n2016-01-01              226.25     1212.0   0.296000\n2016-01-02              186.25     1073.0   0.268248\n2016-01-03              341.25     1790.0   0.289216\n2016-01-04              355.00     1549.0   0.312500\n2016-01-05              376.00     1526.0   0.293269\n...                        ...        ...        ...\n2018-12-27               29.75      118.0   0.316667\n2018-12-28               22.75      115.0   0.265152\n2018-12-29               24.25      106.0   0.321429\n2018-12-30              236.75      577.0   0.269737\n2018-12-31               23.75      106.0   0.271739\n\n[351 rows x 3 columns]",
      "text/html": "<div>\n<style scoped>\n    .dataframe tbody tr th:only-of-type {\n        vertical-align: middle;\n    }\n\n    .dataframe tbody tr th {\n        vertical-align: top;\n    }\n\n    .dataframe thead th {\n        text-align: right;\n    }\n</style>\n<table border=\"1\" class=\"dataframe\">\n  <thead>\n    <tr style=\"text-align: right;\">\n      <th></th>\n      <th>weighted_sentiment</th>\n      <th>abs_score</th>\n      <th>sentiment</th>\n    </tr>\n    <tr>\n      <th>date</th>\n      <th></th>\n      <th></th>\n      <th></th>\n    </tr>\n  </thead>\n  <tbody>\n    <tr>\n      <th>2016-01-01</th>\n      <td>226.25</td>\n      <td>1212.0</td>\n      <td>0.296000</td>\n    </tr>\n    <tr>\n      <th>2016-01-02</th>\n      <td>186.25</td>\n      <td>1073.0</td>\n      <td>0.268248</td>\n    </tr>\n    <tr>\n      <th>2016-01-03</th>\n      <td>341.25</td>\n      <td>1790.0</td>\n      <td>0.289216</td>\n    </tr>\n    <tr>\n      <th>2016-01-04</th>\n      <td>355.00</td>\n      <td>1549.0</td>\n      <td>0.312500</td>\n    </tr>\n    <tr>\n      <th>2016-01-05</th>\n      <td>376.00</td>\n      <td>1526.0</td>\n      <td>0.293269</td>\n    </tr>\n    <tr>\n      <th>...</th>\n      <td>...</td>\n      <td>...</td>\n      <td>...</td>\n    </tr>\n    <tr>\n      <th>2018-12-27</th>\n      <td>29.75</td>\n      <td>118.0</td>\n      <td>0.316667</td>\n    </tr>\n    <tr>\n      <th>2018-12-28</th>\n      <td>22.75</td>\n      <td>115.0</td>\n      <td>0.265152</td>\n    </tr>\n    <tr>\n      <th>2018-12-29</th>\n      <td>24.25</td>\n      <td>106.0</td>\n      <td>0.321429</td>\n    </tr>\n    <tr>\n      <th>2018-12-30</th>\n      <td>236.75</td>\n      <td>577.0</td>\n      <td>0.269737</td>\n    </tr>\n    <tr>\n      <th>2018-12-31</th>\n      <td>23.75</td>\n      <td>106.0</td>\n      <td>0.271739</td>\n    </tr>\n  </tbody>\n</table>\n<p>351 rows × 3 columns</p>\n</div>"
     },
     "execution_count": 160,
     "metadata": {},
     "output_type": "execute_result"
    }
   ],
   "source": [
    "re = reddit.groupby('date').agg({'weighted_sentiment': 'sum', 'abs_score': 'sum', 'sentiment': 'mean'})\n",
    "re"
   ],
   "metadata": {
    "collapsed": false,
    "ExecuteTime": {
     "end_time": "2023-12-11T10:09:14.273548Z",
     "start_time": "2023-12-11T10:09:14.254396Z"
    }
   },
   "id": "ce16e20c124204c1"
  },
  {
   "cell_type": "code",
   "execution_count": 161,
   "outputs": [],
   "source": [
    "re['reaction'] = re['weighted_sentiment'] / re['abs_score']\n",
    "re['std_reaction'] = 2 * (re['reaction'] - 0.5)\n",
    "re['std_sentiment'] = 2 * (re['sentiment'] - 0.5)"
   ],
   "metadata": {
    "collapsed": false,
    "ExecuteTime": {
     "end_time": "2023-12-11T10:09:40.972084Z",
     "start_time": "2023-12-11T10:09:40.955700Z"
    }
   },
   "id": "6a0e1eb8d9087a92"
  },
  {
   "cell_type": "code",
   "execution_count": 162,
   "outputs": [
    {
     "data": {
      "text/plain": "            weighted_sentiment  abs_score  sentiment  reaction  std_reaction  \\\ndate                                                                           \n2016-01-01              226.25     1212.0   0.296000  0.186675     -0.626650   \n2016-01-02              186.25     1073.0   0.268248  0.173579     -0.652842   \n2016-01-03              341.25     1790.0   0.289216  0.190642     -0.618715   \n2016-01-04              355.00     1549.0   0.312500  0.229180     -0.541640   \n2016-01-05              376.00     1526.0   0.293269  0.246396     -0.507208   \n...                        ...        ...        ...       ...           ...   \n2018-12-27               29.75      118.0   0.316667  0.252119     -0.495763   \n2018-12-28               22.75      115.0   0.265152  0.197826     -0.604348   \n2018-12-29               24.25      106.0   0.321429  0.228774     -0.542453   \n2018-12-30              236.75      577.0   0.269737  0.410312     -0.179376   \n2018-12-31               23.75      106.0   0.271739  0.224057     -0.551887   \n\n            std_sentiment  \ndate                       \n2016-01-01      -0.408000  \n2016-01-02      -0.463504  \n2016-01-03      -0.421569  \n2016-01-04      -0.375000  \n2016-01-05      -0.413462  \n...                   ...  \n2018-12-27      -0.366667  \n2018-12-28      -0.469697  \n2018-12-29      -0.357143  \n2018-12-30      -0.460526  \n2018-12-31      -0.456522  \n\n[351 rows x 6 columns]",
      "text/html": "<div>\n<style scoped>\n    .dataframe tbody tr th:only-of-type {\n        vertical-align: middle;\n    }\n\n    .dataframe tbody tr th {\n        vertical-align: top;\n    }\n\n    .dataframe thead th {\n        text-align: right;\n    }\n</style>\n<table border=\"1\" class=\"dataframe\">\n  <thead>\n    <tr style=\"text-align: right;\">\n      <th></th>\n      <th>weighted_sentiment</th>\n      <th>abs_score</th>\n      <th>sentiment</th>\n      <th>reaction</th>\n      <th>std_reaction</th>\n      <th>std_sentiment</th>\n    </tr>\n    <tr>\n      <th>date</th>\n      <th></th>\n      <th></th>\n      <th></th>\n      <th></th>\n      <th></th>\n      <th></th>\n    </tr>\n  </thead>\n  <tbody>\n    <tr>\n      <th>2016-01-01</th>\n      <td>226.25</td>\n      <td>1212.0</td>\n      <td>0.296000</td>\n      <td>0.186675</td>\n      <td>-0.626650</td>\n      <td>-0.408000</td>\n    </tr>\n    <tr>\n      <th>2016-01-02</th>\n      <td>186.25</td>\n      <td>1073.0</td>\n      <td>0.268248</td>\n      <td>0.173579</td>\n      <td>-0.652842</td>\n      <td>-0.463504</td>\n    </tr>\n    <tr>\n      <th>2016-01-03</th>\n      <td>341.25</td>\n      <td>1790.0</td>\n      <td>0.289216</td>\n      <td>0.190642</td>\n      <td>-0.618715</td>\n      <td>-0.421569</td>\n    </tr>\n    <tr>\n      <th>2016-01-04</th>\n      <td>355.00</td>\n      <td>1549.0</td>\n      <td>0.312500</td>\n      <td>0.229180</td>\n      <td>-0.541640</td>\n      <td>-0.375000</td>\n    </tr>\n    <tr>\n      <th>2016-01-05</th>\n      <td>376.00</td>\n      <td>1526.0</td>\n      <td>0.293269</td>\n      <td>0.246396</td>\n      <td>-0.507208</td>\n      <td>-0.413462</td>\n    </tr>\n    <tr>\n      <th>...</th>\n      <td>...</td>\n      <td>...</td>\n      <td>...</td>\n      <td>...</td>\n      <td>...</td>\n      <td>...</td>\n    </tr>\n    <tr>\n      <th>2018-12-27</th>\n      <td>29.75</td>\n      <td>118.0</td>\n      <td>0.316667</td>\n      <td>0.252119</td>\n      <td>-0.495763</td>\n      <td>-0.366667</td>\n    </tr>\n    <tr>\n      <th>2018-12-28</th>\n      <td>22.75</td>\n      <td>115.0</td>\n      <td>0.265152</td>\n      <td>0.197826</td>\n      <td>-0.604348</td>\n      <td>-0.469697</td>\n    </tr>\n    <tr>\n      <th>2018-12-29</th>\n      <td>24.25</td>\n      <td>106.0</td>\n      <td>0.321429</td>\n      <td>0.228774</td>\n      <td>-0.542453</td>\n      <td>-0.357143</td>\n    </tr>\n    <tr>\n      <th>2018-12-30</th>\n      <td>236.75</td>\n      <td>577.0</td>\n      <td>0.269737</td>\n      <td>0.410312</td>\n      <td>-0.179376</td>\n      <td>-0.460526</td>\n    </tr>\n    <tr>\n      <th>2018-12-31</th>\n      <td>23.75</td>\n      <td>106.0</td>\n      <td>0.271739</td>\n      <td>0.224057</td>\n      <td>-0.551887</td>\n      <td>-0.456522</td>\n    </tr>\n  </tbody>\n</table>\n<p>351 rows × 6 columns</p>\n</div>"
     },
     "execution_count": 162,
     "metadata": {},
     "output_type": "execute_result"
    }
   ],
   "source": [
    "re"
   ],
   "metadata": {
    "collapsed": false,
    "ExecuteTime": {
     "end_time": "2023-12-11T10:09:41.026699Z",
     "start_time": "2023-12-11T10:09:41.022899Z"
    }
   },
   "id": "a62d8f3b8395fd2e"
  },
  {
   "cell_type": "code",
   "execution_count": 164,
   "outputs": [
    {
     "data": {
      "text/plain": "-0.053578204297093965"
     },
     "execution_count": 164,
     "metadata": {},
     "output_type": "execute_result"
    }
   ],
   "source": [
    "df1['ret'].corr(re['std_reaction'])"
   ],
   "metadata": {
    "collapsed": false,
    "ExecuteTime": {
     "end_time": "2023-12-11T10:09:54.794834Z",
     "start_time": "2023-12-11T10:09:54.771391Z"
    }
   },
   "id": "778866a777248a49"
  },
  {
   "cell_type": "code",
   "execution_count": 165,
   "outputs": [
    {
     "data": {
      "text/plain": "0.30882792565259665"
     },
     "execution_count": 165,
     "metadata": {},
     "output_type": "execute_result"
    }
   ],
   "source": [
    "re['std_sentiment'].corr(re['std_reaction'])"
   ],
   "metadata": {
    "collapsed": false,
    "ExecuteTime": {
     "end_time": "2023-12-11T10:10:38.718480Z",
     "start_time": "2023-12-11T10:10:38.706125Z"
    }
   },
   "id": "2db4e094905be9d0"
  },
  {
   "cell_type": "code",
   "execution_count": null,
   "outputs": [],
   "source": [],
   "metadata": {
    "collapsed": false
   },
   "id": "e7970dd118ccd90f"
  }
 ],
 "metadata": {
  "kernelspec": {
   "display_name": "Python 3",
   "language": "python",
   "name": "python3"
  },
  "language_info": {
   "codemirror_mode": {
    "name": "ipython",
    "version": 2
   },
   "file_extension": ".py",
   "mimetype": "text/x-python",
   "name": "python",
   "nbconvert_exporter": "python",
   "pygments_lexer": "ipython2",
   "version": "2.7.6"
  }
 },
 "nbformat": 4,
 "nbformat_minor": 5
}
